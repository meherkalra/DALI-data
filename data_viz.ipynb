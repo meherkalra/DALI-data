{
  "cells": [
    {
      "cell_type": "markdown",
      "source": [
        "## Importing libraries"
      ],
      "metadata": {
        "id": "gZXck2cHu0sB"
      }
    },
    {
      "cell_type": "code",
      "execution_count": null,
      "metadata": {
        "colab": {
          "base_uri": "https://localhost:8080/"
        },
        "id": "2eVXzxhreuQm",
        "outputId": "0eec0cfa-0cab-459b-d5e4-6d52da2d1930"
      },
      "outputs": [
        {
          "output_type": "stream",
          "name": "stdout",
          "text": [
            "Collecting us\n",
            "  Downloading us-3.1.1.tar.gz (14 kB)\n",
            "  Preparing metadata (setup.py) ... \u001b[?25l\u001b[?25hdone\n",
            "Collecting jellyfish==0.11.2 (from us)\n",
            "  Downloading jellyfish-0.11.2-cp310-cp310-manylinux_2_17_x86_64.manylinux2014_x86_64.whl (1.2 MB)\n",
            "\u001b[2K     \u001b[90m━━━━━━━━━━━━━━━━━━━━━━━━━━━━━━━━━━━━━━━━\u001b[0m \u001b[32m1.2/1.2 MB\u001b[0m \u001b[31m8.4 MB/s\u001b[0m eta \u001b[36m0:00:00\u001b[0m\n",
            "\u001b[?25hBuilding wheels for collected packages: us\n",
            "  Building wheel for us (setup.py) ... \u001b[?25l\u001b[?25hdone\n",
            "  Created wheel for us: filename=us-3.1.1-py3-none-any.whl size=12547 sha256=7817e018d2d6a31ec969ad45f0598e8f7e9186cf4a27f1f1c1a4c7f7a316441e\n",
            "  Stored in directory: /root/.cache/pip/wheels/da/f9/64/9669135a7ce533faf78e3b32259c505f964f03b069be6844f8\n",
            "Successfully built us\n",
            "Installing collected packages: jellyfish, us\n",
            "Successfully installed jellyfish-0.11.2 us-3.1.1\n"
          ]
        }
      ],
      "source": [
        " pip install us"
      ]
    },
    {
      "cell_type": "code",
      "execution_count": null,
      "metadata": {
        "id": "K4AbN6sjt1uZ"
      },
      "outputs": [],
      "source": [
        "import pandas as pd\n",
        "import numpy as np\n",
        "from sklearn.model_selection import train_test_split\n",
        "from sklearn.linear_model import LinearRegression\n",
        "from sklearn.metrics import mean_squared_error, r2_score\n",
        "import matplotlib.pyplot as plt\n",
        "import us\n",
        "import seaborn as sns"
      ]
    },
    {
      "cell_type": "markdown",
      "metadata": {
        "id": "UtzMbduYwCvb"
      },
      "source": [
        "## Data loading\n"
      ]
    },
    {
      "cell_type": "markdown",
      "source": [
        "I load the dataset and gather some basic information about it:\n",
        "- 22 columns:\n",
        "      ['Unnamed: 0', 'Row ID', 'Order ID', 'Order Date', 'Ship Date',\n",
        "       'Ship Mode', 'Customer ID', 'Customer Name', 'Segment', 'Country',\n",
        "       'City', 'State', 'Postal Code', 'Region', 'Product ID', 'Category',\n",
        "       'Sub-Category', 'Product Name', 'Sales', 'Quantity', 'Discount',\n",
        "       'Profit']\n",
        "- 9994 rows\n",
        "- ~10% of each row has NaN values\n",
        "- Mean and standard deviation of the numerical values"
      ],
      "metadata": {
        "id": "9rXYQDIFM_m6"
      }
    },
    {
      "cell_type": "code",
      "execution_count": null,
      "metadata": {
        "id": "5rxnRKhwv92b"
      },
      "outputs": [],
      "source": [
        "# reading the data\n",
        "store_data = pd.read_csv(\"/content/Sample - Superstore.csv\")"
      ]
    },
    {
      "cell_type": "code",
      "execution_count": null,
      "metadata": {
        "colab": {
          "base_uri": "https://localhost:8080/"
        },
        "id": "C6G-q5dhwLt0",
        "outputId": "188b8965-de5d-4e34-d320-e7c8ef741a97"
      },
      "outputs": [
        {
          "output_type": "execute_result",
          "data": {
            "text/plain": [
              "Index(['Unnamed: 0', 'Row ID', 'Order ID', 'Order Date', 'Ship Date',\n",
              "       'Ship Mode', 'Customer ID', 'Customer Name', 'Segment', 'Country',\n",
              "       'City', 'State', 'Postal Code', 'Region', 'Product ID', 'Category',\n",
              "       'Sub-Category', 'Product Name', 'Sales', 'Quantity', 'Discount',\n",
              "       'Profit'],\n",
              "      dtype='object')"
            ]
          },
          "metadata": {},
          "execution_count": 4
        }
      ],
      "source": [
        "store_data.columns"
      ]
    },
    {
      "cell_type": "code",
      "source": [
        "store_data.head()"
      ],
      "metadata": {
        "colab": {
          "base_uri": "https://localhost:8080/"
        },
        "id": "fv8nysajBDIf",
        "outputId": "c8d73482-a568-4235-ffb8-f7f948319fc6"
      },
      "execution_count": null,
      "outputs": [
        {
          "output_type": "execute_result",
          "data": {
            "text/plain": [
              "   Unnamed: 0  Row ID        Order ID  Order Date   Ship Date       Ship Mode  \\\n",
              "0           0     1.0  CA-2016-152156   11/8/2016  11/11/2016             NaN   \n",
              "1           1     NaN             NaN   11/8/2016  11/11/2016    Second Class   \n",
              "2           2     3.0             NaN   6/12/2016   6/16/2016    Second Class   \n",
              "3           3     4.0  US-2015-108966  10/11/2015  10/18/2015  Standard Class   \n",
              "4           4     5.0  US-2015-108966  10/11/2015  10/18/2015  Standard Class   \n",
              "\n",
              "  Customer ID    Customer Name    Segment        Country  ... Postal Code  \\\n",
              "0    CG-12520      Claire Gute   Consumer  United States  ...     42420.0   \n",
              "1    CG-12520      Claire Gute   Consumer  United States  ...     42420.0   \n",
              "2    DV-13045  Darrin Van Huff  Corporate  United States  ...     90036.0   \n",
              "3         NaN   Sean O'Donnell   Consumer  United States  ...     33311.0   \n",
              "4    SO-20335              NaN   Consumer  United States  ...     33311.0   \n",
              "\n",
              "  Region       Product ID         Category Sub-Category  \\\n",
              "0  South  FUR-BO-10001798        Furniture    Bookcases   \n",
              "1  South  FUR-CH-10000454        Furniture       Chairs   \n",
              "2   West  OFF-LA-10000240  Office Supplies       Labels   \n",
              "3  South              NaN        Furniture       Tables   \n",
              "4  South  OFF-ST-10000760  Office Supplies      Storage   \n",
              "\n",
              "                                        Product Name     Sales Quantity  \\\n",
              "0                  Bush Somerset Collection Bookcase       NaN      2.0   \n",
              "1  Hon Deluxe Fabric Upholstered Stacking Chairs,...  731.9400      3.0   \n",
              "2  Self-Adhesive Address Labels for Typewriters b...   14.6200      2.0   \n",
              "3      Bretford CR4500 Series Slim Rectangular Table  957.5775      5.0   \n",
              "4                     Eldon Fold 'N Roll Cart System   22.3680      2.0   \n",
              "\n",
              "   Discount    Profit  \n",
              "0       0.0   41.9136  \n",
              "1       0.0  219.5820  \n",
              "2       0.0    6.8714  \n",
              "3       NaN -383.0310  \n",
              "4       0.2    2.5164  \n",
              "\n",
              "[5 rows x 22 columns]"
            ],
            "text/html": [
              "\n",
              "  <div id=\"df-8812427f-96da-4682-8d7c-ca803c8cf856\" class=\"colab-df-container\">\n",
              "    <div>\n",
              "<style scoped>\n",
              "    .dataframe tbody tr th:only-of-type {\n",
              "        vertical-align: middle;\n",
              "    }\n",
              "\n",
              "    .dataframe tbody tr th {\n",
              "        vertical-align: top;\n",
              "    }\n",
              "\n",
              "    .dataframe thead th {\n",
              "        text-align: right;\n",
              "    }\n",
              "</style>\n",
              "<table border=\"1\" class=\"dataframe\">\n",
              "  <thead>\n",
              "    <tr style=\"text-align: right;\">\n",
              "      <th></th>\n",
              "      <th>Unnamed: 0</th>\n",
              "      <th>Row ID</th>\n",
              "      <th>Order ID</th>\n",
              "      <th>Order Date</th>\n",
              "      <th>Ship Date</th>\n",
              "      <th>Ship Mode</th>\n",
              "      <th>Customer ID</th>\n",
              "      <th>Customer Name</th>\n",
              "      <th>Segment</th>\n",
              "      <th>Country</th>\n",
              "      <th>...</th>\n",
              "      <th>Postal Code</th>\n",
              "      <th>Region</th>\n",
              "      <th>Product ID</th>\n",
              "      <th>Category</th>\n",
              "      <th>Sub-Category</th>\n",
              "      <th>Product Name</th>\n",
              "      <th>Sales</th>\n",
              "      <th>Quantity</th>\n",
              "      <th>Discount</th>\n",
              "      <th>Profit</th>\n",
              "    </tr>\n",
              "  </thead>\n",
              "  <tbody>\n",
              "    <tr>\n",
              "      <th>0</th>\n",
              "      <td>0</td>\n",
              "      <td>1.0</td>\n",
              "      <td>CA-2016-152156</td>\n",
              "      <td>11/8/2016</td>\n",
              "      <td>11/11/2016</td>\n",
              "      <td>NaN</td>\n",
              "      <td>CG-12520</td>\n",
              "      <td>Claire Gute</td>\n",
              "      <td>Consumer</td>\n",
              "      <td>United States</td>\n",
              "      <td>...</td>\n",
              "      <td>42420.0</td>\n",
              "      <td>South</td>\n",
              "      <td>FUR-BO-10001798</td>\n",
              "      <td>Furniture</td>\n",
              "      <td>Bookcases</td>\n",
              "      <td>Bush Somerset Collection Bookcase</td>\n",
              "      <td>NaN</td>\n",
              "      <td>2.0</td>\n",
              "      <td>0.0</td>\n",
              "      <td>41.9136</td>\n",
              "    </tr>\n",
              "    <tr>\n",
              "      <th>1</th>\n",
              "      <td>1</td>\n",
              "      <td>NaN</td>\n",
              "      <td>NaN</td>\n",
              "      <td>11/8/2016</td>\n",
              "      <td>11/11/2016</td>\n",
              "      <td>Second Class</td>\n",
              "      <td>CG-12520</td>\n",
              "      <td>Claire Gute</td>\n",
              "      <td>Consumer</td>\n",
              "      <td>United States</td>\n",
              "      <td>...</td>\n",
              "      <td>42420.0</td>\n",
              "      <td>South</td>\n",
              "      <td>FUR-CH-10000454</td>\n",
              "      <td>Furniture</td>\n",
              "      <td>Chairs</td>\n",
              "      <td>Hon Deluxe Fabric Upholstered Stacking Chairs,...</td>\n",
              "      <td>731.9400</td>\n",
              "      <td>3.0</td>\n",
              "      <td>0.0</td>\n",
              "      <td>219.5820</td>\n",
              "    </tr>\n",
              "    <tr>\n",
              "      <th>2</th>\n",
              "      <td>2</td>\n",
              "      <td>3.0</td>\n",
              "      <td>NaN</td>\n",
              "      <td>6/12/2016</td>\n",
              "      <td>6/16/2016</td>\n",
              "      <td>Second Class</td>\n",
              "      <td>DV-13045</td>\n",
              "      <td>Darrin Van Huff</td>\n",
              "      <td>Corporate</td>\n",
              "      <td>United States</td>\n",
              "      <td>...</td>\n",
              "      <td>90036.0</td>\n",
              "      <td>West</td>\n",
              "      <td>OFF-LA-10000240</td>\n",
              "      <td>Office Supplies</td>\n",
              "      <td>Labels</td>\n",
              "      <td>Self-Adhesive Address Labels for Typewriters b...</td>\n",
              "      <td>14.6200</td>\n",
              "      <td>2.0</td>\n",
              "      <td>0.0</td>\n",
              "      <td>6.8714</td>\n",
              "    </tr>\n",
              "    <tr>\n",
              "      <th>3</th>\n",
              "      <td>3</td>\n",
              "      <td>4.0</td>\n",
              "      <td>US-2015-108966</td>\n",
              "      <td>10/11/2015</td>\n",
              "      <td>10/18/2015</td>\n",
              "      <td>Standard Class</td>\n",
              "      <td>NaN</td>\n",
              "      <td>Sean O'Donnell</td>\n",
              "      <td>Consumer</td>\n",
              "      <td>United States</td>\n",
              "      <td>...</td>\n",
              "      <td>33311.0</td>\n",
              "      <td>South</td>\n",
              "      <td>NaN</td>\n",
              "      <td>Furniture</td>\n",
              "      <td>Tables</td>\n",
              "      <td>Bretford CR4500 Series Slim Rectangular Table</td>\n",
              "      <td>957.5775</td>\n",
              "      <td>5.0</td>\n",
              "      <td>NaN</td>\n",
              "      <td>-383.0310</td>\n",
              "    </tr>\n",
              "    <tr>\n",
              "      <th>4</th>\n",
              "      <td>4</td>\n",
              "      <td>5.0</td>\n",
              "      <td>US-2015-108966</td>\n",
              "      <td>10/11/2015</td>\n",
              "      <td>10/18/2015</td>\n",
              "      <td>Standard Class</td>\n",
              "      <td>SO-20335</td>\n",
              "      <td>NaN</td>\n",
              "      <td>Consumer</td>\n",
              "      <td>United States</td>\n",
              "      <td>...</td>\n",
              "      <td>33311.0</td>\n",
              "      <td>South</td>\n",
              "      <td>OFF-ST-10000760</td>\n",
              "      <td>Office Supplies</td>\n",
              "      <td>Storage</td>\n",
              "      <td>Eldon Fold 'N Roll Cart System</td>\n",
              "      <td>22.3680</td>\n",
              "      <td>2.0</td>\n",
              "      <td>0.2</td>\n",
              "      <td>2.5164</td>\n",
              "    </tr>\n",
              "  </tbody>\n",
              "</table>\n",
              "<p>5 rows × 22 columns</p>\n",
              "</div>\n",
              "    <div class=\"colab-df-buttons\">\n",
              "\n",
              "  <div class=\"colab-df-container\">\n",
              "    <button class=\"colab-df-convert\" onclick=\"convertToInteractive('df-8812427f-96da-4682-8d7c-ca803c8cf856')\"\n",
              "            title=\"Convert this dataframe to an interactive table.\"\n",
              "            style=\"display:none;\">\n",
              "\n",
              "  <svg xmlns=\"http://www.w3.org/2000/svg\" height=\"24px\" viewBox=\"0 -960 960 960\">\n",
              "    <path d=\"M120-120v-720h720v720H120Zm60-500h600v-160H180v160Zm220 220h160v-160H400v160Zm0 220h160v-160H400v160ZM180-400h160v-160H180v160Zm440 0h160v-160H620v160ZM180-180h160v-160H180v160Zm440 0h160v-160H620v160Z\"/>\n",
              "  </svg>\n",
              "    </button>\n",
              "\n",
              "  <style>\n",
              "    .colab-df-container {\n",
              "      display:flex;\n",
              "      gap: 12px;\n",
              "    }\n",
              "\n",
              "    .colab-df-convert {\n",
              "      background-color: #E8F0FE;\n",
              "      border: none;\n",
              "      border-radius: 50%;\n",
              "      cursor: pointer;\n",
              "      display: none;\n",
              "      fill: #1967D2;\n",
              "      height: 32px;\n",
              "      padding: 0 0 0 0;\n",
              "      width: 32px;\n",
              "    }\n",
              "\n",
              "    .colab-df-convert:hover {\n",
              "      background-color: #E2EBFA;\n",
              "      box-shadow: 0px 1px 2px rgba(60, 64, 67, 0.3), 0px 1px 3px 1px rgba(60, 64, 67, 0.15);\n",
              "      fill: #174EA6;\n",
              "    }\n",
              "\n",
              "    .colab-df-buttons div {\n",
              "      margin-bottom: 4px;\n",
              "    }\n",
              "\n",
              "    [theme=dark] .colab-df-convert {\n",
              "      background-color: #3B4455;\n",
              "      fill: #D2E3FC;\n",
              "    }\n",
              "\n",
              "    [theme=dark] .colab-df-convert:hover {\n",
              "      background-color: #434B5C;\n",
              "      box-shadow: 0px 1px 3px 1px rgba(0, 0, 0, 0.15);\n",
              "      filter: drop-shadow(0px 1px 2px rgba(0, 0, 0, 0.3));\n",
              "      fill: #FFFFFF;\n",
              "    }\n",
              "  </style>\n",
              "\n",
              "    <script>\n",
              "      const buttonEl =\n",
              "        document.querySelector('#df-8812427f-96da-4682-8d7c-ca803c8cf856 button.colab-df-convert');\n",
              "      buttonEl.style.display =\n",
              "        google.colab.kernel.accessAllowed ? 'block' : 'none';\n",
              "\n",
              "      async function convertToInteractive(key) {\n",
              "        const element = document.querySelector('#df-8812427f-96da-4682-8d7c-ca803c8cf856');\n",
              "        const dataTable =\n",
              "          await google.colab.kernel.invokeFunction('convertToInteractive',\n",
              "                                                    [key], {});\n",
              "        if (!dataTable) return;\n",
              "\n",
              "        const docLinkHtml = 'Like what you see? Visit the ' +\n",
              "          '<a target=\"_blank\" href=https://colab.research.google.com/notebooks/data_table.ipynb>data table notebook</a>'\n",
              "          + ' to learn more about interactive tables.';\n",
              "        element.innerHTML = '';\n",
              "        dataTable['output_type'] = 'display_data';\n",
              "        await google.colab.output.renderOutput(dataTable, element);\n",
              "        const docLink = document.createElement('div');\n",
              "        docLink.innerHTML = docLinkHtml;\n",
              "        element.appendChild(docLink);\n",
              "      }\n",
              "    </script>\n",
              "  </div>\n",
              "\n",
              "\n",
              "<div id=\"df-d46e258d-fa15-4dd2-ace7-d1d662de763d\">\n",
              "  <button class=\"colab-df-quickchart\" onclick=\"quickchart('df-d46e258d-fa15-4dd2-ace7-d1d662de763d')\"\n",
              "            title=\"Suggest charts\"\n",
              "            style=\"display:none;\">\n",
              "\n",
              "<svg xmlns=\"http://www.w3.org/2000/svg\" height=\"24px\"viewBox=\"0 0 24 24\"\n",
              "     width=\"24px\">\n",
              "    <g>\n",
              "        <path d=\"M19 3H5c-1.1 0-2 .9-2 2v14c0 1.1.9 2 2 2h14c1.1 0 2-.9 2-2V5c0-1.1-.9-2-2-2zM9 17H7v-7h2v7zm4 0h-2V7h2v10zm4 0h-2v-4h2v4z\"/>\n",
              "    </g>\n",
              "</svg>\n",
              "  </button>\n",
              "\n",
              "<style>\n",
              "  .colab-df-quickchart {\n",
              "      --bg-color: #E8F0FE;\n",
              "      --fill-color: #1967D2;\n",
              "      --hover-bg-color: #E2EBFA;\n",
              "      --hover-fill-color: #174EA6;\n",
              "      --disabled-fill-color: #AAA;\n",
              "      --disabled-bg-color: #DDD;\n",
              "  }\n",
              "\n",
              "  [theme=dark] .colab-df-quickchart {\n",
              "      --bg-color: #3B4455;\n",
              "      --fill-color: #D2E3FC;\n",
              "      --hover-bg-color: #434B5C;\n",
              "      --hover-fill-color: #FFFFFF;\n",
              "      --disabled-bg-color: #3B4455;\n",
              "      --disabled-fill-color: #666;\n",
              "  }\n",
              "\n",
              "  .colab-df-quickchart {\n",
              "    background-color: var(--bg-color);\n",
              "    border: none;\n",
              "    border-radius: 50%;\n",
              "    cursor: pointer;\n",
              "    display: none;\n",
              "    fill: var(--fill-color);\n",
              "    height: 32px;\n",
              "    padding: 0;\n",
              "    width: 32px;\n",
              "  }\n",
              "\n",
              "  .colab-df-quickchart:hover {\n",
              "    background-color: var(--hover-bg-color);\n",
              "    box-shadow: 0 1px 2px rgba(60, 64, 67, 0.3), 0 1px 3px 1px rgba(60, 64, 67, 0.15);\n",
              "    fill: var(--button-hover-fill-color);\n",
              "  }\n",
              "\n",
              "  .colab-df-quickchart-complete:disabled,\n",
              "  .colab-df-quickchart-complete:disabled:hover {\n",
              "    background-color: var(--disabled-bg-color);\n",
              "    fill: var(--disabled-fill-color);\n",
              "    box-shadow: none;\n",
              "  }\n",
              "\n",
              "  .colab-df-spinner {\n",
              "    border: 2px solid var(--fill-color);\n",
              "    border-color: transparent;\n",
              "    border-bottom-color: var(--fill-color);\n",
              "    animation:\n",
              "      spin 1s steps(1) infinite;\n",
              "  }\n",
              "\n",
              "  @keyframes spin {\n",
              "    0% {\n",
              "      border-color: transparent;\n",
              "      border-bottom-color: var(--fill-color);\n",
              "      border-left-color: var(--fill-color);\n",
              "    }\n",
              "    20% {\n",
              "      border-color: transparent;\n",
              "      border-left-color: var(--fill-color);\n",
              "      border-top-color: var(--fill-color);\n",
              "    }\n",
              "    30% {\n",
              "      border-color: transparent;\n",
              "      border-left-color: var(--fill-color);\n",
              "      border-top-color: var(--fill-color);\n",
              "      border-right-color: var(--fill-color);\n",
              "    }\n",
              "    40% {\n",
              "      border-color: transparent;\n",
              "      border-right-color: var(--fill-color);\n",
              "      border-top-color: var(--fill-color);\n",
              "    }\n",
              "    60% {\n",
              "      border-color: transparent;\n",
              "      border-right-color: var(--fill-color);\n",
              "    }\n",
              "    80% {\n",
              "      border-color: transparent;\n",
              "      border-right-color: var(--fill-color);\n",
              "      border-bottom-color: var(--fill-color);\n",
              "    }\n",
              "    90% {\n",
              "      border-color: transparent;\n",
              "      border-bottom-color: var(--fill-color);\n",
              "    }\n",
              "  }\n",
              "</style>\n",
              "\n",
              "  <script>\n",
              "    async function quickchart(key) {\n",
              "      const quickchartButtonEl =\n",
              "        document.querySelector('#' + key + ' button');\n",
              "      quickchartButtonEl.disabled = true;  // To prevent multiple clicks.\n",
              "      quickchartButtonEl.classList.add('colab-df-spinner');\n",
              "      try {\n",
              "        const charts = await google.colab.kernel.invokeFunction(\n",
              "            'suggestCharts', [key], {});\n",
              "      } catch (error) {\n",
              "        console.error('Error during call to suggestCharts:', error);\n",
              "      }\n",
              "      quickchartButtonEl.classList.remove('colab-df-spinner');\n",
              "      quickchartButtonEl.classList.add('colab-df-quickchart-complete');\n",
              "    }\n",
              "    (() => {\n",
              "      let quickchartButtonEl =\n",
              "        document.querySelector('#df-d46e258d-fa15-4dd2-ace7-d1d662de763d button');\n",
              "      quickchartButtonEl.style.display =\n",
              "        google.colab.kernel.accessAllowed ? 'block' : 'none';\n",
              "    })();\n",
              "  </script>\n",
              "</div>\n",
              "    </div>\n",
              "  </div>\n"
            ],
            "application/vnd.google.colaboratory.intrinsic+json": {
              "type": "dataframe",
              "variable_name": "store_data"
            }
          },
          "metadata": {},
          "execution_count": 5
        }
      ]
    },
    {
      "cell_type": "code",
      "source": [
        "# understanding the numerical values in the dataset\n",
        "store_data.describe()"
      ],
      "metadata": {
        "colab": {
          "base_uri": "https://localhost:8080/"
        },
        "id": "WVJUemBt1dmB",
        "outputId": "a90386fc-048c-4ddb-a6a7-b17cd78883f0"
      },
      "execution_count": null,
      "outputs": [
        {
          "output_type": "execute_result",
          "data": {
            "text/plain": [
              "        Unnamed: 0       Row ID   Postal Code         Sales     Quantity  \\\n",
              "count  9994.000000  8995.000000   8995.000000   8995.000000  8995.000000   \n",
              "mean   4996.500000  4986.567426  55147.143413    230.864435     3.790773   \n",
              "std    2885.163629  2883.357953  32022.008929    624.590629     2.231843   \n",
              "min       0.000000     1.000000   1040.000000      0.444000     1.000000   \n",
              "25%    2498.250000  2491.500000  23223.000000     17.453000     2.000000   \n",
              "50%    4996.500000  4980.000000  55901.000000     54.792000     3.000000   \n",
              "75%    7494.750000  7475.500000  90004.000000    209.940000     5.000000   \n",
              "max    9993.000000  9994.000000  99301.000000  22638.480000    14.000000   \n",
              "\n",
              "         Discount       Profit  \n",
              "count  8995.00000  8995.000000  \n",
              "mean      0.15569    27.614049  \n",
              "std       0.20505   228.132397  \n",
              "min       0.00000 -6599.978000  \n",
              "25%       0.00000     1.734300  \n",
              "50%       0.20000     8.662000  \n",
              "75%       0.20000    29.364000  \n",
              "max       0.80000  8399.976000  "
            ],
            "text/html": [
              "\n",
              "  <div id=\"df-b0433913-6cdb-4c60-9eeb-113e43b701be\" class=\"colab-df-container\">\n",
              "    <div>\n",
              "<style scoped>\n",
              "    .dataframe tbody tr th:only-of-type {\n",
              "        vertical-align: middle;\n",
              "    }\n",
              "\n",
              "    .dataframe tbody tr th {\n",
              "        vertical-align: top;\n",
              "    }\n",
              "\n",
              "    .dataframe thead th {\n",
              "        text-align: right;\n",
              "    }\n",
              "</style>\n",
              "<table border=\"1\" class=\"dataframe\">\n",
              "  <thead>\n",
              "    <tr style=\"text-align: right;\">\n",
              "      <th></th>\n",
              "      <th>Unnamed: 0</th>\n",
              "      <th>Row ID</th>\n",
              "      <th>Postal Code</th>\n",
              "      <th>Sales</th>\n",
              "      <th>Quantity</th>\n",
              "      <th>Discount</th>\n",
              "      <th>Profit</th>\n",
              "    </tr>\n",
              "  </thead>\n",
              "  <tbody>\n",
              "    <tr>\n",
              "      <th>count</th>\n",
              "      <td>9994.000000</td>\n",
              "      <td>8995.000000</td>\n",
              "      <td>8995.000000</td>\n",
              "      <td>8995.000000</td>\n",
              "      <td>8995.000000</td>\n",
              "      <td>8995.00000</td>\n",
              "      <td>8995.000000</td>\n",
              "    </tr>\n",
              "    <tr>\n",
              "      <th>mean</th>\n",
              "      <td>4996.500000</td>\n",
              "      <td>4986.567426</td>\n",
              "      <td>55147.143413</td>\n",
              "      <td>230.864435</td>\n",
              "      <td>3.790773</td>\n",
              "      <td>0.15569</td>\n",
              "      <td>27.614049</td>\n",
              "    </tr>\n",
              "    <tr>\n",
              "      <th>std</th>\n",
              "      <td>2885.163629</td>\n",
              "      <td>2883.357953</td>\n",
              "      <td>32022.008929</td>\n",
              "      <td>624.590629</td>\n",
              "      <td>2.231843</td>\n",
              "      <td>0.20505</td>\n",
              "      <td>228.132397</td>\n",
              "    </tr>\n",
              "    <tr>\n",
              "      <th>min</th>\n",
              "      <td>0.000000</td>\n",
              "      <td>1.000000</td>\n",
              "      <td>1040.000000</td>\n",
              "      <td>0.444000</td>\n",
              "      <td>1.000000</td>\n",
              "      <td>0.00000</td>\n",
              "      <td>-6599.978000</td>\n",
              "    </tr>\n",
              "    <tr>\n",
              "      <th>25%</th>\n",
              "      <td>2498.250000</td>\n",
              "      <td>2491.500000</td>\n",
              "      <td>23223.000000</td>\n",
              "      <td>17.453000</td>\n",
              "      <td>2.000000</td>\n",
              "      <td>0.00000</td>\n",
              "      <td>1.734300</td>\n",
              "    </tr>\n",
              "    <tr>\n",
              "      <th>50%</th>\n",
              "      <td>4996.500000</td>\n",
              "      <td>4980.000000</td>\n",
              "      <td>55901.000000</td>\n",
              "      <td>54.792000</td>\n",
              "      <td>3.000000</td>\n",
              "      <td>0.20000</td>\n",
              "      <td>8.662000</td>\n",
              "    </tr>\n",
              "    <tr>\n",
              "      <th>75%</th>\n",
              "      <td>7494.750000</td>\n",
              "      <td>7475.500000</td>\n",
              "      <td>90004.000000</td>\n",
              "      <td>209.940000</td>\n",
              "      <td>5.000000</td>\n",
              "      <td>0.20000</td>\n",
              "      <td>29.364000</td>\n",
              "    </tr>\n",
              "    <tr>\n",
              "      <th>max</th>\n",
              "      <td>9993.000000</td>\n",
              "      <td>9994.000000</td>\n",
              "      <td>99301.000000</td>\n",
              "      <td>22638.480000</td>\n",
              "      <td>14.000000</td>\n",
              "      <td>0.80000</td>\n",
              "      <td>8399.976000</td>\n",
              "    </tr>\n",
              "  </tbody>\n",
              "</table>\n",
              "</div>\n",
              "    <div class=\"colab-df-buttons\">\n",
              "\n",
              "  <div class=\"colab-df-container\">\n",
              "    <button class=\"colab-df-convert\" onclick=\"convertToInteractive('df-b0433913-6cdb-4c60-9eeb-113e43b701be')\"\n",
              "            title=\"Convert this dataframe to an interactive table.\"\n",
              "            style=\"display:none;\">\n",
              "\n",
              "  <svg xmlns=\"http://www.w3.org/2000/svg\" height=\"24px\" viewBox=\"0 -960 960 960\">\n",
              "    <path d=\"M120-120v-720h720v720H120Zm60-500h600v-160H180v160Zm220 220h160v-160H400v160Zm0 220h160v-160H400v160ZM180-400h160v-160H180v160Zm440 0h160v-160H620v160ZM180-180h160v-160H180v160Zm440 0h160v-160H620v160Z\"/>\n",
              "  </svg>\n",
              "    </button>\n",
              "\n",
              "  <style>\n",
              "    .colab-df-container {\n",
              "      display:flex;\n",
              "      gap: 12px;\n",
              "    }\n",
              "\n",
              "    .colab-df-convert {\n",
              "      background-color: #E8F0FE;\n",
              "      border: none;\n",
              "      border-radius: 50%;\n",
              "      cursor: pointer;\n",
              "      display: none;\n",
              "      fill: #1967D2;\n",
              "      height: 32px;\n",
              "      padding: 0 0 0 0;\n",
              "      width: 32px;\n",
              "    }\n",
              "\n",
              "    .colab-df-convert:hover {\n",
              "      background-color: #E2EBFA;\n",
              "      box-shadow: 0px 1px 2px rgba(60, 64, 67, 0.3), 0px 1px 3px 1px rgba(60, 64, 67, 0.15);\n",
              "      fill: #174EA6;\n",
              "    }\n",
              "\n",
              "    .colab-df-buttons div {\n",
              "      margin-bottom: 4px;\n",
              "    }\n",
              "\n",
              "    [theme=dark] .colab-df-convert {\n",
              "      background-color: #3B4455;\n",
              "      fill: #D2E3FC;\n",
              "    }\n",
              "\n",
              "    [theme=dark] .colab-df-convert:hover {\n",
              "      background-color: #434B5C;\n",
              "      box-shadow: 0px 1px 3px 1px rgba(0, 0, 0, 0.15);\n",
              "      filter: drop-shadow(0px 1px 2px rgba(0, 0, 0, 0.3));\n",
              "      fill: #FFFFFF;\n",
              "    }\n",
              "  </style>\n",
              "\n",
              "    <script>\n",
              "      const buttonEl =\n",
              "        document.querySelector('#df-b0433913-6cdb-4c60-9eeb-113e43b701be button.colab-df-convert');\n",
              "      buttonEl.style.display =\n",
              "        google.colab.kernel.accessAllowed ? 'block' : 'none';\n",
              "\n",
              "      async function convertToInteractive(key) {\n",
              "        const element = document.querySelector('#df-b0433913-6cdb-4c60-9eeb-113e43b701be');\n",
              "        const dataTable =\n",
              "          await google.colab.kernel.invokeFunction('convertToInteractive',\n",
              "                                                    [key], {});\n",
              "        if (!dataTable) return;\n",
              "\n",
              "        const docLinkHtml = 'Like what you see? Visit the ' +\n",
              "          '<a target=\"_blank\" href=https://colab.research.google.com/notebooks/data_table.ipynb>data table notebook</a>'\n",
              "          + ' to learn more about interactive tables.';\n",
              "        element.innerHTML = '';\n",
              "        dataTable['output_type'] = 'display_data';\n",
              "        await google.colab.output.renderOutput(dataTable, element);\n",
              "        const docLink = document.createElement('div');\n",
              "        docLink.innerHTML = docLinkHtml;\n",
              "        element.appendChild(docLink);\n",
              "      }\n",
              "    </script>\n",
              "  </div>\n",
              "\n",
              "\n",
              "<div id=\"df-76e08bd8-aff4-4ed2-855f-a39c684cb8ee\">\n",
              "  <button class=\"colab-df-quickchart\" onclick=\"quickchart('df-76e08bd8-aff4-4ed2-855f-a39c684cb8ee')\"\n",
              "            title=\"Suggest charts\"\n",
              "            style=\"display:none;\">\n",
              "\n",
              "<svg xmlns=\"http://www.w3.org/2000/svg\" height=\"24px\"viewBox=\"0 0 24 24\"\n",
              "     width=\"24px\">\n",
              "    <g>\n",
              "        <path d=\"M19 3H5c-1.1 0-2 .9-2 2v14c0 1.1.9 2 2 2h14c1.1 0 2-.9 2-2V5c0-1.1-.9-2-2-2zM9 17H7v-7h2v7zm4 0h-2V7h2v10zm4 0h-2v-4h2v4z\"/>\n",
              "    </g>\n",
              "</svg>\n",
              "  </button>\n",
              "\n",
              "<style>\n",
              "  .colab-df-quickchart {\n",
              "      --bg-color: #E8F0FE;\n",
              "      --fill-color: #1967D2;\n",
              "      --hover-bg-color: #E2EBFA;\n",
              "      --hover-fill-color: #174EA6;\n",
              "      --disabled-fill-color: #AAA;\n",
              "      --disabled-bg-color: #DDD;\n",
              "  }\n",
              "\n",
              "  [theme=dark] .colab-df-quickchart {\n",
              "      --bg-color: #3B4455;\n",
              "      --fill-color: #D2E3FC;\n",
              "      --hover-bg-color: #434B5C;\n",
              "      --hover-fill-color: #FFFFFF;\n",
              "      --disabled-bg-color: #3B4455;\n",
              "      --disabled-fill-color: #666;\n",
              "  }\n",
              "\n",
              "  .colab-df-quickchart {\n",
              "    background-color: var(--bg-color);\n",
              "    border: none;\n",
              "    border-radius: 50%;\n",
              "    cursor: pointer;\n",
              "    display: none;\n",
              "    fill: var(--fill-color);\n",
              "    height: 32px;\n",
              "    padding: 0;\n",
              "    width: 32px;\n",
              "  }\n",
              "\n",
              "  .colab-df-quickchart:hover {\n",
              "    background-color: var(--hover-bg-color);\n",
              "    box-shadow: 0 1px 2px rgba(60, 64, 67, 0.3), 0 1px 3px 1px rgba(60, 64, 67, 0.15);\n",
              "    fill: var(--button-hover-fill-color);\n",
              "  }\n",
              "\n",
              "  .colab-df-quickchart-complete:disabled,\n",
              "  .colab-df-quickchart-complete:disabled:hover {\n",
              "    background-color: var(--disabled-bg-color);\n",
              "    fill: var(--disabled-fill-color);\n",
              "    box-shadow: none;\n",
              "  }\n",
              "\n",
              "  .colab-df-spinner {\n",
              "    border: 2px solid var(--fill-color);\n",
              "    border-color: transparent;\n",
              "    border-bottom-color: var(--fill-color);\n",
              "    animation:\n",
              "      spin 1s steps(1) infinite;\n",
              "  }\n",
              "\n",
              "  @keyframes spin {\n",
              "    0% {\n",
              "      border-color: transparent;\n",
              "      border-bottom-color: var(--fill-color);\n",
              "      border-left-color: var(--fill-color);\n",
              "    }\n",
              "    20% {\n",
              "      border-color: transparent;\n",
              "      border-left-color: var(--fill-color);\n",
              "      border-top-color: var(--fill-color);\n",
              "    }\n",
              "    30% {\n",
              "      border-color: transparent;\n",
              "      border-left-color: var(--fill-color);\n",
              "      border-top-color: var(--fill-color);\n",
              "      border-right-color: var(--fill-color);\n",
              "    }\n",
              "    40% {\n",
              "      border-color: transparent;\n",
              "      border-right-color: var(--fill-color);\n",
              "      border-top-color: var(--fill-color);\n",
              "    }\n",
              "    60% {\n",
              "      border-color: transparent;\n",
              "      border-right-color: var(--fill-color);\n",
              "    }\n",
              "    80% {\n",
              "      border-color: transparent;\n",
              "      border-right-color: var(--fill-color);\n",
              "      border-bottom-color: var(--fill-color);\n",
              "    }\n",
              "    90% {\n",
              "      border-color: transparent;\n",
              "      border-bottom-color: var(--fill-color);\n",
              "    }\n",
              "  }\n",
              "</style>\n",
              "\n",
              "  <script>\n",
              "    async function quickchart(key) {\n",
              "      const quickchartButtonEl =\n",
              "        document.querySelector('#' + key + ' button');\n",
              "      quickchartButtonEl.disabled = true;  // To prevent multiple clicks.\n",
              "      quickchartButtonEl.classList.add('colab-df-spinner');\n",
              "      try {\n",
              "        const charts = await google.colab.kernel.invokeFunction(\n",
              "            'suggestCharts', [key], {});\n",
              "      } catch (error) {\n",
              "        console.error('Error during call to suggestCharts:', error);\n",
              "      }\n",
              "      quickchartButtonEl.classList.remove('colab-df-spinner');\n",
              "      quickchartButtonEl.classList.add('colab-df-quickchart-complete');\n",
              "    }\n",
              "    (() => {\n",
              "      let quickchartButtonEl =\n",
              "        document.querySelector('#df-76e08bd8-aff4-4ed2-855f-a39c684cb8ee button');\n",
              "      quickchartButtonEl.style.display =\n",
              "        google.colab.kernel.accessAllowed ? 'block' : 'none';\n",
              "    })();\n",
              "  </script>\n",
              "</div>\n",
              "    </div>\n",
              "  </div>\n"
            ],
            "application/vnd.google.colaboratory.intrinsic+json": {
              "type": "dataframe",
              "summary": "{\n  \"name\": \"store_data\",\n  \"rows\": 8,\n  \"fields\": [\n    {\n      \"column\": \"Unnamed: 0\",\n      \"properties\": {\n        \"dtype\": \"number\",\n        \"std\": 3601.666986754792,\n        \"min\": 0.0,\n        \"max\": 9994.0,\n        \"num_unique_values\": 7,\n        \"samples\": [\n          9994.0,\n          4996.5,\n          7494.75\n        ],\n        \"semantic_type\": \"\",\n        \"description\": \"\"\n      }\n    },\n    {\n      \"column\": \"Row ID\",\n      \"properties\": {\n        \"dtype\": \"number\",\n        \"std\": 3430.605237636556,\n        \"min\": 1.0,\n        \"max\": 9994.0,\n        \"num_unique_values\": 8,\n        \"samples\": [\n          4986.567426347971,\n          4980.0,\n          8995.0\n        ],\n        \"semantic_type\": \"\",\n        \"description\": \"\"\n      }\n    },\n    {\n      \"column\": \"Postal Code\",\n      \"properties\": {\n        \"dtype\": \"number\",\n        \"std\": 35982.72600057064,\n        \"min\": 1040.0,\n        \"max\": 99301.0,\n        \"num_unique_values\": 8,\n        \"samples\": [\n          55147.14341300722,\n          55901.0,\n          8995.0\n        ],\n        \"semantic_type\": \"\",\n        \"description\": \"\"\n      }\n    },\n    {\n      \"column\": \"Sales\",\n      \"properties\": {\n        \"dtype\": \"number\",\n        \"std\": 8103.391432191038,\n        \"min\": 0.444,\n        \"max\": 22638.48,\n        \"num_unique_values\": 8,\n        \"samples\": [\n          230.86443466370207,\n          54.792,\n          8995.0\n        ],\n        \"semantic_type\": \"\",\n        \"description\": \"\"\n      }\n    },\n    {\n      \"column\": \"Quantity\",\n      \"properties\": {\n        \"dtype\": \"number\",\n        \"std\": 3178.6484957808757,\n        \"min\": 1.0,\n        \"max\": 8995.0,\n        \"num_unique_values\": 8,\n        \"samples\": [\n          3.7907726514730404,\n          3.0,\n          8995.0\n        ],\n        \"semantic_type\": \"\",\n        \"description\": \"\"\n      }\n    },\n    {\n      \"column\": \"Discount\",\n      \"properties\": {\n        \"dtype\": \"number\",\n        \"std\": 3180.133928963645,\n        \"min\": 0.0,\n        \"max\": 8995.0,\n        \"num_unique_values\": 6,\n        \"samples\": [\n          8995.0,\n          0.15568982768204562,\n          0.8\n        ],\n        \"semantic_type\": \"\",\n        \"description\": \"\"\n      }\n    },\n    {\n      \"column\": \"Profit\",\n      \"properties\": {\n        \"dtype\": \"number\",\n        \"std\": 5066.81312449766,\n        \"min\": -6599.978,\n        \"max\": 8995.0,\n        \"num_unique_values\": 8,\n        \"samples\": [\n          27.61404870483602,\n          8.662,\n          8995.0\n        ],\n        \"semantic_type\": \"\",\n        \"description\": \"\"\n      }\n    }\n  ]\n}"
            }
          },
          "metadata": {},
          "execution_count": 6
        }
      ]
    },
    {
      "cell_type": "markdown",
      "source": [
        "The high standard deviations for sales and profit columns indicate high variability. The presence of negative profits highlights cases where sales resulted in losses. The median values for sales and profit are significantly lower than their maximum values, which implies a skewed distribution."
      ],
      "metadata": {
        "id": "YWvjMBZjQvEn"
      }
    },
    {
      "cell_type": "code",
      "execution_count": null,
      "metadata": {
        "colab": {
          "base_uri": "https://localhost:8080/"
        },
        "id": "I09akKNKwSj0",
        "outputId": "a122bd61-4b45-470c-b136-c5ef1c948af0"
      },
      "outputs": [
        {
          "output_type": "stream",
          "name": "stdout",
          "text": [
            "Unnamed: 0         0\n",
            "Row ID           999\n",
            "Order ID         999\n",
            "Order Date       999\n",
            "Ship Date        999\n",
            "Ship Mode        999\n",
            "Customer ID      999\n",
            "Customer Name    999\n",
            "Segment          999\n",
            "Country          999\n",
            "City             999\n",
            "State            999\n",
            "Postal Code      999\n",
            "Region           999\n",
            "Product ID       999\n",
            "Category         999\n",
            "Sub-Category     999\n",
            "Product Name     999\n",
            "Sales            999\n",
            "Quantity         999\n",
            "Discount         999\n",
            "Profit           999\n",
            "dtype: int64\n"
          ]
        }
      ],
      "source": [
        "# Checking for null values\n",
        "print(store_data.isnull().sum())"
      ]
    },
    {
      "cell_type": "code",
      "source": [
        "# creating a new column for to calculate shipping days\n",
        "store_data['Order Date'] = pd.to_datetime(store_data['Order Date'], format='%m/%d/%Y')\n",
        "store_data['Ship Date'] = pd.to_datetime(store_data['Ship Date'], format='%m/%d/%Y')\n",
        "store_data['Shipping days'] = (store_data['Ship Date'] - store_data['Order Date']).dt.days\n",
        "\n",
        "# store_data['Profit/product'] = (store_data['Profit']/store_data['Quantity'])\n",
        "# store_data['Sales/product'] = (store_data['Sales']/store_data['Quantity'])"
      ],
      "metadata": {
        "id": "c7U7H1KwnxWH"
      },
      "execution_count": null,
      "outputs": []
    },
    {
      "cell_type": "code",
      "source": [
        "# dropping 'Unnamed' and filling missing Row-IDs with the row number\n",
        "store_data['Row ID'] = store_data['Unnamed: 0'] + 1\n",
        "store_data.drop(columns=['Unnamed: 0'])"
      ],
      "metadata": {
        "id": "9C5hUlZ3pckh",
        "colab": {
          "base_uri": "https://localhost:8080/",
          "height": 1000
        },
        "outputId": "20f7d192-ce8e-4258-88d5-9aeccfe3c62b"
      },
      "execution_count": null,
      "outputs": [
        {
          "output_type": "execute_result",
          "data": {
            "text/plain": [
              "      Row ID        Order ID Order Date  Ship Date       Ship Mode  \\\n",
              "0          1  CA-2016-152156 2016-11-08 2016-11-11             NaN   \n",
              "1          2             NaN 2016-11-08 2016-11-11    Second Class   \n",
              "2          3             NaN 2016-06-12 2016-06-16    Second Class   \n",
              "3          4  US-2015-108966 2015-10-11 2015-10-18  Standard Class   \n",
              "4          5  US-2015-108966 2015-10-11 2015-10-18  Standard Class   \n",
              "...      ...             ...        ...        ...             ...   \n",
              "9989    9990             NaN 2014-01-21 2014-01-23    Second Class   \n",
              "9990    9991  CA-2017-121258 2017-02-26 2017-03-03  Standard Class   \n",
              "9991    9992  CA-2017-121258 2017-02-26 2017-03-03  Standard Class   \n",
              "9992    9993  CA-2017-121258 2017-02-26 2017-03-03  Standard Class   \n",
              "9993    9994  CA-2017-119914 2017-05-04 2017-05-09             NaN   \n",
              "\n",
              "     Customer ID     Customer Name    Segment        Country             City  \\\n",
              "0       CG-12520       Claire Gute   Consumer  United States        Henderson   \n",
              "1       CG-12520       Claire Gute   Consumer  United States        Henderson   \n",
              "2       DV-13045   Darrin Van Huff  Corporate  United States      Los Angeles   \n",
              "3            NaN    Sean O'Donnell   Consumer  United States  Fort Lauderdale   \n",
              "4       SO-20335               NaN   Consumer  United States  Fort Lauderdale   \n",
              "...          ...               ...        ...            ...              ...   \n",
              "9989    TB-21400  Tom Boeckenhauer   Consumer  United States            Miami   \n",
              "9990    DB-13060       Dave Brooks   Consumer  United States       Costa Mesa   \n",
              "9991    DB-13060       Dave Brooks   Consumer  United States       Costa Mesa   \n",
              "9992    DB-13060       Dave Brooks   Consumer  United States              NaN   \n",
              "9993    CC-12220      Chris Cortes   Consumer  United States      Westminster   \n",
              "\n",
              "      ... Region       Product ID         Category Sub-Category  \\\n",
              "0     ...  South  FUR-BO-10001798        Furniture    Bookcases   \n",
              "1     ...  South  FUR-CH-10000454        Furniture       Chairs   \n",
              "2     ...   West  OFF-LA-10000240  Office Supplies       Labels   \n",
              "3     ...  South              NaN        Furniture       Tables   \n",
              "4     ...  South  OFF-ST-10000760  Office Supplies      Storage   \n",
              "...   ...    ...              ...              ...          ...   \n",
              "9989  ...  South              NaN        Furniture          NaN   \n",
              "9990  ...   West  FUR-FU-10000747        Furniture  Furnishings   \n",
              "9991  ...   West  TEC-PH-10003645       Technology       Phones   \n",
              "9992  ...   West  OFF-PA-10004041  Office Supplies        Paper   \n",
              "9993  ...   West  OFF-AP-10002684  Office Supplies   Appliances   \n",
              "\n",
              "                                           Product Name     Sales Quantity  \\\n",
              "0                     Bush Somerset Collection Bookcase       NaN      2.0   \n",
              "1     Hon Deluxe Fabric Upholstered Stacking Chairs,...  731.9400      3.0   \n",
              "2     Self-Adhesive Address Labels for Typewriters b...   14.6200      2.0   \n",
              "3         Bretford CR4500 Series Slim Rectangular Table  957.5775      5.0   \n",
              "4                        Eldon Fold 'N Roll Cart System   22.3680      2.0   \n",
              "...                                                 ...       ...      ...   \n",
              "9989                                                NaN   25.2480      3.0   \n",
              "9990  Tenex B1-RE Series Chair Mats for Low Pile Car...   91.9600      2.0   \n",
              "9991                              Aastra 57i VoIP phone  258.5760      2.0   \n",
              "9992  It's Hot Message Books with Stickers, 2 3/4\" x 5\"       NaN      4.0   \n",
              "9993  Acco 7-Outlet Masterpiece Power Center, Wihtou...  243.1600      2.0   \n",
              "\n",
              "      Discount    Profit  Shipping days  \n",
              "0          0.0   41.9136            3.0  \n",
              "1          0.0  219.5820            3.0  \n",
              "2          0.0    6.8714            4.0  \n",
              "3          NaN -383.0310            7.0  \n",
              "4          0.2    2.5164            7.0  \n",
              "...        ...       ...            ...  \n",
              "9989       NaN    4.1028            2.0  \n",
              "9990       0.0   15.6332            5.0  \n",
              "9991       0.2   19.3932            5.0  \n",
              "9992       0.0   13.3200            5.0  \n",
              "9993       0.0       NaN            5.0  \n",
              "\n",
              "[9994 rows x 22 columns]"
            ],
            "text/html": [
              "\n",
              "  <div id=\"df-dc3a4ab4-e1fa-4719-a2f4-d008aed3bfb0\" class=\"colab-df-container\">\n",
              "    <div>\n",
              "<style scoped>\n",
              "    .dataframe tbody tr th:only-of-type {\n",
              "        vertical-align: middle;\n",
              "    }\n",
              "\n",
              "    .dataframe tbody tr th {\n",
              "        vertical-align: top;\n",
              "    }\n",
              "\n",
              "    .dataframe thead th {\n",
              "        text-align: right;\n",
              "    }\n",
              "</style>\n",
              "<table border=\"1\" class=\"dataframe\">\n",
              "  <thead>\n",
              "    <tr style=\"text-align: right;\">\n",
              "      <th></th>\n",
              "      <th>Row ID</th>\n",
              "      <th>Order ID</th>\n",
              "      <th>Order Date</th>\n",
              "      <th>Ship Date</th>\n",
              "      <th>Ship Mode</th>\n",
              "      <th>Customer ID</th>\n",
              "      <th>Customer Name</th>\n",
              "      <th>Segment</th>\n",
              "      <th>Country</th>\n",
              "      <th>City</th>\n",
              "      <th>...</th>\n",
              "      <th>Region</th>\n",
              "      <th>Product ID</th>\n",
              "      <th>Category</th>\n",
              "      <th>Sub-Category</th>\n",
              "      <th>Product Name</th>\n",
              "      <th>Sales</th>\n",
              "      <th>Quantity</th>\n",
              "      <th>Discount</th>\n",
              "      <th>Profit</th>\n",
              "      <th>Shipping days</th>\n",
              "    </tr>\n",
              "  </thead>\n",
              "  <tbody>\n",
              "    <tr>\n",
              "      <th>0</th>\n",
              "      <td>1</td>\n",
              "      <td>CA-2016-152156</td>\n",
              "      <td>2016-11-08</td>\n",
              "      <td>2016-11-11</td>\n",
              "      <td>NaN</td>\n",
              "      <td>CG-12520</td>\n",
              "      <td>Claire Gute</td>\n",
              "      <td>Consumer</td>\n",
              "      <td>United States</td>\n",
              "      <td>Henderson</td>\n",
              "      <td>...</td>\n",
              "      <td>South</td>\n",
              "      <td>FUR-BO-10001798</td>\n",
              "      <td>Furniture</td>\n",
              "      <td>Bookcases</td>\n",
              "      <td>Bush Somerset Collection Bookcase</td>\n",
              "      <td>NaN</td>\n",
              "      <td>2.0</td>\n",
              "      <td>0.0</td>\n",
              "      <td>41.9136</td>\n",
              "      <td>3.0</td>\n",
              "    </tr>\n",
              "    <tr>\n",
              "      <th>1</th>\n",
              "      <td>2</td>\n",
              "      <td>NaN</td>\n",
              "      <td>2016-11-08</td>\n",
              "      <td>2016-11-11</td>\n",
              "      <td>Second Class</td>\n",
              "      <td>CG-12520</td>\n",
              "      <td>Claire Gute</td>\n",
              "      <td>Consumer</td>\n",
              "      <td>United States</td>\n",
              "      <td>Henderson</td>\n",
              "      <td>...</td>\n",
              "      <td>South</td>\n",
              "      <td>FUR-CH-10000454</td>\n",
              "      <td>Furniture</td>\n",
              "      <td>Chairs</td>\n",
              "      <td>Hon Deluxe Fabric Upholstered Stacking Chairs,...</td>\n",
              "      <td>731.9400</td>\n",
              "      <td>3.0</td>\n",
              "      <td>0.0</td>\n",
              "      <td>219.5820</td>\n",
              "      <td>3.0</td>\n",
              "    </tr>\n",
              "    <tr>\n",
              "      <th>2</th>\n",
              "      <td>3</td>\n",
              "      <td>NaN</td>\n",
              "      <td>2016-06-12</td>\n",
              "      <td>2016-06-16</td>\n",
              "      <td>Second Class</td>\n",
              "      <td>DV-13045</td>\n",
              "      <td>Darrin Van Huff</td>\n",
              "      <td>Corporate</td>\n",
              "      <td>United States</td>\n",
              "      <td>Los Angeles</td>\n",
              "      <td>...</td>\n",
              "      <td>West</td>\n",
              "      <td>OFF-LA-10000240</td>\n",
              "      <td>Office Supplies</td>\n",
              "      <td>Labels</td>\n",
              "      <td>Self-Adhesive Address Labels for Typewriters b...</td>\n",
              "      <td>14.6200</td>\n",
              "      <td>2.0</td>\n",
              "      <td>0.0</td>\n",
              "      <td>6.8714</td>\n",
              "      <td>4.0</td>\n",
              "    </tr>\n",
              "    <tr>\n",
              "      <th>3</th>\n",
              "      <td>4</td>\n",
              "      <td>US-2015-108966</td>\n",
              "      <td>2015-10-11</td>\n",
              "      <td>2015-10-18</td>\n",
              "      <td>Standard Class</td>\n",
              "      <td>NaN</td>\n",
              "      <td>Sean O'Donnell</td>\n",
              "      <td>Consumer</td>\n",
              "      <td>United States</td>\n",
              "      <td>Fort Lauderdale</td>\n",
              "      <td>...</td>\n",
              "      <td>South</td>\n",
              "      <td>NaN</td>\n",
              "      <td>Furniture</td>\n",
              "      <td>Tables</td>\n",
              "      <td>Bretford CR4500 Series Slim Rectangular Table</td>\n",
              "      <td>957.5775</td>\n",
              "      <td>5.0</td>\n",
              "      <td>NaN</td>\n",
              "      <td>-383.0310</td>\n",
              "      <td>7.0</td>\n",
              "    </tr>\n",
              "    <tr>\n",
              "      <th>4</th>\n",
              "      <td>5</td>\n",
              "      <td>US-2015-108966</td>\n",
              "      <td>2015-10-11</td>\n",
              "      <td>2015-10-18</td>\n",
              "      <td>Standard Class</td>\n",
              "      <td>SO-20335</td>\n",
              "      <td>NaN</td>\n",
              "      <td>Consumer</td>\n",
              "      <td>United States</td>\n",
              "      <td>Fort Lauderdale</td>\n",
              "      <td>...</td>\n",
              "      <td>South</td>\n",
              "      <td>OFF-ST-10000760</td>\n",
              "      <td>Office Supplies</td>\n",
              "      <td>Storage</td>\n",
              "      <td>Eldon Fold 'N Roll Cart System</td>\n",
              "      <td>22.3680</td>\n",
              "      <td>2.0</td>\n",
              "      <td>0.2</td>\n",
              "      <td>2.5164</td>\n",
              "      <td>7.0</td>\n",
              "    </tr>\n",
              "    <tr>\n",
              "      <th>...</th>\n",
              "      <td>...</td>\n",
              "      <td>...</td>\n",
              "      <td>...</td>\n",
              "      <td>...</td>\n",
              "      <td>...</td>\n",
              "      <td>...</td>\n",
              "      <td>...</td>\n",
              "      <td>...</td>\n",
              "      <td>...</td>\n",
              "      <td>...</td>\n",
              "      <td>...</td>\n",
              "      <td>...</td>\n",
              "      <td>...</td>\n",
              "      <td>...</td>\n",
              "      <td>...</td>\n",
              "      <td>...</td>\n",
              "      <td>...</td>\n",
              "      <td>...</td>\n",
              "      <td>...</td>\n",
              "      <td>...</td>\n",
              "      <td>...</td>\n",
              "    </tr>\n",
              "    <tr>\n",
              "      <th>9989</th>\n",
              "      <td>9990</td>\n",
              "      <td>NaN</td>\n",
              "      <td>2014-01-21</td>\n",
              "      <td>2014-01-23</td>\n",
              "      <td>Second Class</td>\n",
              "      <td>TB-21400</td>\n",
              "      <td>Tom Boeckenhauer</td>\n",
              "      <td>Consumer</td>\n",
              "      <td>United States</td>\n",
              "      <td>Miami</td>\n",
              "      <td>...</td>\n",
              "      <td>South</td>\n",
              "      <td>NaN</td>\n",
              "      <td>Furniture</td>\n",
              "      <td>NaN</td>\n",
              "      <td>NaN</td>\n",
              "      <td>25.2480</td>\n",
              "      <td>3.0</td>\n",
              "      <td>NaN</td>\n",
              "      <td>4.1028</td>\n",
              "      <td>2.0</td>\n",
              "    </tr>\n",
              "    <tr>\n",
              "      <th>9990</th>\n",
              "      <td>9991</td>\n",
              "      <td>CA-2017-121258</td>\n",
              "      <td>2017-02-26</td>\n",
              "      <td>2017-03-03</td>\n",
              "      <td>Standard Class</td>\n",
              "      <td>DB-13060</td>\n",
              "      <td>Dave Brooks</td>\n",
              "      <td>Consumer</td>\n",
              "      <td>United States</td>\n",
              "      <td>Costa Mesa</td>\n",
              "      <td>...</td>\n",
              "      <td>West</td>\n",
              "      <td>FUR-FU-10000747</td>\n",
              "      <td>Furniture</td>\n",
              "      <td>Furnishings</td>\n",
              "      <td>Tenex B1-RE Series Chair Mats for Low Pile Car...</td>\n",
              "      <td>91.9600</td>\n",
              "      <td>2.0</td>\n",
              "      <td>0.0</td>\n",
              "      <td>15.6332</td>\n",
              "      <td>5.0</td>\n",
              "    </tr>\n",
              "    <tr>\n",
              "      <th>9991</th>\n",
              "      <td>9992</td>\n",
              "      <td>CA-2017-121258</td>\n",
              "      <td>2017-02-26</td>\n",
              "      <td>2017-03-03</td>\n",
              "      <td>Standard Class</td>\n",
              "      <td>DB-13060</td>\n",
              "      <td>Dave Brooks</td>\n",
              "      <td>Consumer</td>\n",
              "      <td>United States</td>\n",
              "      <td>Costa Mesa</td>\n",
              "      <td>...</td>\n",
              "      <td>West</td>\n",
              "      <td>TEC-PH-10003645</td>\n",
              "      <td>Technology</td>\n",
              "      <td>Phones</td>\n",
              "      <td>Aastra 57i VoIP phone</td>\n",
              "      <td>258.5760</td>\n",
              "      <td>2.0</td>\n",
              "      <td>0.2</td>\n",
              "      <td>19.3932</td>\n",
              "      <td>5.0</td>\n",
              "    </tr>\n",
              "    <tr>\n",
              "      <th>9992</th>\n",
              "      <td>9993</td>\n",
              "      <td>CA-2017-121258</td>\n",
              "      <td>2017-02-26</td>\n",
              "      <td>2017-03-03</td>\n",
              "      <td>Standard Class</td>\n",
              "      <td>DB-13060</td>\n",
              "      <td>Dave Brooks</td>\n",
              "      <td>Consumer</td>\n",
              "      <td>United States</td>\n",
              "      <td>NaN</td>\n",
              "      <td>...</td>\n",
              "      <td>West</td>\n",
              "      <td>OFF-PA-10004041</td>\n",
              "      <td>Office Supplies</td>\n",
              "      <td>Paper</td>\n",
              "      <td>It's Hot Message Books with Stickers, 2 3/4\" x 5\"</td>\n",
              "      <td>NaN</td>\n",
              "      <td>4.0</td>\n",
              "      <td>0.0</td>\n",
              "      <td>13.3200</td>\n",
              "      <td>5.0</td>\n",
              "    </tr>\n",
              "    <tr>\n",
              "      <th>9993</th>\n",
              "      <td>9994</td>\n",
              "      <td>CA-2017-119914</td>\n",
              "      <td>2017-05-04</td>\n",
              "      <td>2017-05-09</td>\n",
              "      <td>NaN</td>\n",
              "      <td>CC-12220</td>\n",
              "      <td>Chris Cortes</td>\n",
              "      <td>Consumer</td>\n",
              "      <td>United States</td>\n",
              "      <td>Westminster</td>\n",
              "      <td>...</td>\n",
              "      <td>West</td>\n",
              "      <td>OFF-AP-10002684</td>\n",
              "      <td>Office Supplies</td>\n",
              "      <td>Appliances</td>\n",
              "      <td>Acco 7-Outlet Masterpiece Power Center, Wihtou...</td>\n",
              "      <td>243.1600</td>\n",
              "      <td>2.0</td>\n",
              "      <td>0.0</td>\n",
              "      <td>NaN</td>\n",
              "      <td>5.0</td>\n",
              "    </tr>\n",
              "  </tbody>\n",
              "</table>\n",
              "<p>9994 rows × 22 columns</p>\n",
              "</div>\n",
              "    <div class=\"colab-df-buttons\">\n",
              "\n",
              "  <div class=\"colab-df-container\">\n",
              "    <button class=\"colab-df-convert\" onclick=\"convertToInteractive('df-dc3a4ab4-e1fa-4719-a2f4-d008aed3bfb0')\"\n",
              "            title=\"Convert this dataframe to an interactive table.\"\n",
              "            style=\"display:none;\">\n",
              "\n",
              "  <svg xmlns=\"http://www.w3.org/2000/svg\" height=\"24px\" viewBox=\"0 -960 960 960\">\n",
              "    <path d=\"M120-120v-720h720v720H120Zm60-500h600v-160H180v160Zm220 220h160v-160H400v160Zm0 220h160v-160H400v160ZM180-400h160v-160H180v160Zm440 0h160v-160H620v160ZM180-180h160v-160H180v160Zm440 0h160v-160H620v160Z\"/>\n",
              "  </svg>\n",
              "    </button>\n",
              "\n",
              "  <style>\n",
              "    .colab-df-container {\n",
              "      display:flex;\n",
              "      gap: 12px;\n",
              "    }\n",
              "\n",
              "    .colab-df-convert {\n",
              "      background-color: #E8F0FE;\n",
              "      border: none;\n",
              "      border-radius: 50%;\n",
              "      cursor: pointer;\n",
              "      display: none;\n",
              "      fill: #1967D2;\n",
              "      height: 32px;\n",
              "      padding: 0 0 0 0;\n",
              "      width: 32px;\n",
              "    }\n",
              "\n",
              "    .colab-df-convert:hover {\n",
              "      background-color: #E2EBFA;\n",
              "      box-shadow: 0px 1px 2px rgba(60, 64, 67, 0.3), 0px 1px 3px 1px rgba(60, 64, 67, 0.15);\n",
              "      fill: #174EA6;\n",
              "    }\n",
              "\n",
              "    .colab-df-buttons div {\n",
              "      margin-bottom: 4px;\n",
              "    }\n",
              "\n",
              "    [theme=dark] .colab-df-convert {\n",
              "      background-color: #3B4455;\n",
              "      fill: #D2E3FC;\n",
              "    }\n",
              "\n",
              "    [theme=dark] .colab-df-convert:hover {\n",
              "      background-color: #434B5C;\n",
              "      box-shadow: 0px 1px 3px 1px rgba(0, 0, 0, 0.15);\n",
              "      filter: drop-shadow(0px 1px 2px rgba(0, 0, 0, 0.3));\n",
              "      fill: #FFFFFF;\n",
              "    }\n",
              "  </style>\n",
              "\n",
              "    <script>\n",
              "      const buttonEl =\n",
              "        document.querySelector('#df-dc3a4ab4-e1fa-4719-a2f4-d008aed3bfb0 button.colab-df-convert');\n",
              "      buttonEl.style.display =\n",
              "        google.colab.kernel.accessAllowed ? 'block' : 'none';\n",
              "\n",
              "      async function convertToInteractive(key) {\n",
              "        const element = document.querySelector('#df-dc3a4ab4-e1fa-4719-a2f4-d008aed3bfb0');\n",
              "        const dataTable =\n",
              "          await google.colab.kernel.invokeFunction('convertToInteractive',\n",
              "                                                    [key], {});\n",
              "        if (!dataTable) return;\n",
              "\n",
              "        const docLinkHtml = 'Like what you see? Visit the ' +\n",
              "          '<a target=\"_blank\" href=https://colab.research.google.com/notebooks/data_table.ipynb>data table notebook</a>'\n",
              "          + ' to learn more about interactive tables.';\n",
              "        element.innerHTML = '';\n",
              "        dataTable['output_type'] = 'display_data';\n",
              "        await google.colab.output.renderOutput(dataTable, element);\n",
              "        const docLink = document.createElement('div');\n",
              "        docLink.innerHTML = docLinkHtml;\n",
              "        element.appendChild(docLink);\n",
              "      }\n",
              "    </script>\n",
              "  </div>\n",
              "\n",
              "\n",
              "<div id=\"df-5288fa9e-81c5-45d7-bd1a-de6b387f25d5\">\n",
              "  <button class=\"colab-df-quickchart\" onclick=\"quickchart('df-5288fa9e-81c5-45d7-bd1a-de6b387f25d5')\"\n",
              "            title=\"Suggest charts\"\n",
              "            style=\"display:none;\">\n",
              "\n",
              "<svg xmlns=\"http://www.w3.org/2000/svg\" height=\"24px\"viewBox=\"0 0 24 24\"\n",
              "     width=\"24px\">\n",
              "    <g>\n",
              "        <path d=\"M19 3H5c-1.1 0-2 .9-2 2v14c0 1.1.9 2 2 2h14c1.1 0 2-.9 2-2V5c0-1.1-.9-2-2-2zM9 17H7v-7h2v7zm4 0h-2V7h2v10zm4 0h-2v-4h2v4z\"/>\n",
              "    </g>\n",
              "</svg>\n",
              "  </button>\n",
              "\n",
              "<style>\n",
              "  .colab-df-quickchart {\n",
              "      --bg-color: #E8F0FE;\n",
              "      --fill-color: #1967D2;\n",
              "      --hover-bg-color: #E2EBFA;\n",
              "      --hover-fill-color: #174EA6;\n",
              "      --disabled-fill-color: #AAA;\n",
              "      --disabled-bg-color: #DDD;\n",
              "  }\n",
              "\n",
              "  [theme=dark] .colab-df-quickchart {\n",
              "      --bg-color: #3B4455;\n",
              "      --fill-color: #D2E3FC;\n",
              "      --hover-bg-color: #434B5C;\n",
              "      --hover-fill-color: #FFFFFF;\n",
              "      --disabled-bg-color: #3B4455;\n",
              "      --disabled-fill-color: #666;\n",
              "  }\n",
              "\n",
              "  .colab-df-quickchart {\n",
              "    background-color: var(--bg-color);\n",
              "    border: none;\n",
              "    border-radius: 50%;\n",
              "    cursor: pointer;\n",
              "    display: none;\n",
              "    fill: var(--fill-color);\n",
              "    height: 32px;\n",
              "    padding: 0;\n",
              "    width: 32px;\n",
              "  }\n",
              "\n",
              "  .colab-df-quickchart:hover {\n",
              "    background-color: var(--hover-bg-color);\n",
              "    box-shadow: 0 1px 2px rgba(60, 64, 67, 0.3), 0 1px 3px 1px rgba(60, 64, 67, 0.15);\n",
              "    fill: var(--button-hover-fill-color);\n",
              "  }\n",
              "\n",
              "  .colab-df-quickchart-complete:disabled,\n",
              "  .colab-df-quickchart-complete:disabled:hover {\n",
              "    background-color: var(--disabled-bg-color);\n",
              "    fill: var(--disabled-fill-color);\n",
              "    box-shadow: none;\n",
              "  }\n",
              "\n",
              "  .colab-df-spinner {\n",
              "    border: 2px solid var(--fill-color);\n",
              "    border-color: transparent;\n",
              "    border-bottom-color: var(--fill-color);\n",
              "    animation:\n",
              "      spin 1s steps(1) infinite;\n",
              "  }\n",
              "\n",
              "  @keyframes spin {\n",
              "    0% {\n",
              "      border-color: transparent;\n",
              "      border-bottom-color: var(--fill-color);\n",
              "      border-left-color: var(--fill-color);\n",
              "    }\n",
              "    20% {\n",
              "      border-color: transparent;\n",
              "      border-left-color: var(--fill-color);\n",
              "      border-top-color: var(--fill-color);\n",
              "    }\n",
              "    30% {\n",
              "      border-color: transparent;\n",
              "      border-left-color: var(--fill-color);\n",
              "      border-top-color: var(--fill-color);\n",
              "      border-right-color: var(--fill-color);\n",
              "    }\n",
              "    40% {\n",
              "      border-color: transparent;\n",
              "      border-right-color: var(--fill-color);\n",
              "      border-top-color: var(--fill-color);\n",
              "    }\n",
              "    60% {\n",
              "      border-color: transparent;\n",
              "      border-right-color: var(--fill-color);\n",
              "    }\n",
              "    80% {\n",
              "      border-color: transparent;\n",
              "      border-right-color: var(--fill-color);\n",
              "      border-bottom-color: var(--fill-color);\n",
              "    }\n",
              "    90% {\n",
              "      border-color: transparent;\n",
              "      border-bottom-color: var(--fill-color);\n",
              "    }\n",
              "  }\n",
              "</style>\n",
              "\n",
              "  <script>\n",
              "    async function quickchart(key) {\n",
              "      const quickchartButtonEl =\n",
              "        document.querySelector('#' + key + ' button');\n",
              "      quickchartButtonEl.disabled = true;  // To prevent multiple clicks.\n",
              "      quickchartButtonEl.classList.add('colab-df-spinner');\n",
              "      try {\n",
              "        const charts = await google.colab.kernel.invokeFunction(\n",
              "            'suggestCharts', [key], {});\n",
              "      } catch (error) {\n",
              "        console.error('Error during call to suggestCharts:', error);\n",
              "      }\n",
              "      quickchartButtonEl.classList.remove('colab-df-spinner');\n",
              "      quickchartButtonEl.classList.add('colab-df-quickchart-complete');\n",
              "    }\n",
              "    (() => {\n",
              "      let quickchartButtonEl =\n",
              "        document.querySelector('#df-5288fa9e-81c5-45d7-bd1a-de6b387f25d5 button');\n",
              "      quickchartButtonEl.style.display =\n",
              "        google.colab.kernel.accessAllowed ? 'block' : 'none';\n",
              "    })();\n",
              "  </script>\n",
              "</div>\n",
              "    </div>\n",
              "  </div>\n"
            ],
            "application/vnd.google.colaboratory.intrinsic+json": {
              "type": "dataframe"
            }
          },
          "metadata": {},
          "execution_count": 9
        }
      ]
    },
    {
      "cell_type": "code",
      "source": [
        "print(store_data.info())"
      ],
      "metadata": {
        "id": "lnei0obPBZbG",
        "colab": {
          "base_uri": "https://localhost:8080/"
        },
        "outputId": "bb6f6c40-445a-455c-af3f-0e640917d5c2"
      },
      "execution_count": null,
      "outputs": [
        {
          "output_type": "stream",
          "name": "stdout",
          "text": [
            "<class 'pandas.core.frame.DataFrame'>\n",
            "RangeIndex: 9994 entries, 0 to 9993\n",
            "Data columns (total 23 columns):\n",
            " #   Column         Non-Null Count  Dtype         \n",
            "---  ------         --------------  -----         \n",
            " 0   Unnamed: 0     9994 non-null   int64         \n",
            " 1   Row ID         9994 non-null   int64         \n",
            " 2   Order ID       8995 non-null   object        \n",
            " 3   Order Date     8995 non-null   datetime64[ns]\n",
            " 4   Ship Date      8995 non-null   datetime64[ns]\n",
            " 5   Ship Mode      8995 non-null   object        \n",
            " 6   Customer ID    8995 non-null   object        \n",
            " 7   Customer Name  8995 non-null   object        \n",
            " 8   Segment        8995 non-null   object        \n",
            " 9   Country        8995 non-null   object        \n",
            " 10  City           8995 non-null   object        \n",
            " 11  State          8995 non-null   object        \n",
            " 12  Postal Code    8995 non-null   float64       \n",
            " 13  Region         8995 non-null   object        \n",
            " 14  Product ID     8995 non-null   object        \n",
            " 15  Category       8995 non-null   object        \n",
            " 16  Sub-Category   8995 non-null   object        \n",
            " 17  Product Name   8995 non-null   object        \n",
            " 18  Sales          8995 non-null   float64       \n",
            " 19  Quantity       8995 non-null   float64       \n",
            " 20  Discount       8995 non-null   float64       \n",
            " 21  Profit         8995 non-null   float64       \n",
            " 22  Shipping days  8109 non-null   float64       \n",
            "dtypes: datetime64[ns](2), float64(6), int64(2), object(13)\n",
            "memory usage: 1.8+ MB\n",
            "None\n"
          ]
        }
      ]
    },
    {
      "cell_type": "markdown",
      "metadata": {
        "id": "pjoWvez7uedK"
      },
      "source": [
        "## Exploratory Data Analysis"
      ]
    },
    {
      "cell_type": "markdown",
      "source": [
        "The dataset can be divided into 5 broad categories:\n",
        "- **Shipping information**: Order ID, Order Date, Ship Date, Ship Mode, Shipping days (new column added)\n",
        "- **Customer information**: Customer ID, Customer Name, Segment\n",
        "- **Geographic information**: City, State, Postal Code, Region, Country\n",
        "- **Product information**: Product ID, Category, Sub-Category, Product Name\n",
        "- **Sales information**: Sales, Quantity, Discount, Profit\n",
        "\n",
        "I want to explore patterns and check assumptions through visualizations.  "
      ],
      "metadata": {
        "id": "DIoIkmY-n2mq"
      }
    },
    {
      "cell_type": "code",
      "source": [
        "# helper function to remove outliers using IQR\n",
        "def remove_outliers(column):\n",
        "  Q1 = store_data[column].quantile(0.25)\n",
        "  Q3 = store_data[column].quantile(0.75)\n",
        "  IQR = Q3 - Q1\n",
        "  lower_bound = Q1 - 1.5 * IQR\n",
        "  upper_bound = Q3 + 1.5 * IQR\n",
        "  filtered_store_data = store_data[(store_data[column] >= lower_bound) & (store_data[column] <= upper_bound)]"
      ],
      "metadata": {
        "id": "6XLsmDbnOY8D"
      },
      "execution_count": null,
      "outputs": []
    },
    {
      "cell_type": "markdown",
      "source": [
        "### Correlation"
      ],
      "metadata": {
        "id": "roII2opZCHE1"
      }
    },
    {
      "cell_type": "code",
      "source": [
        "numerical = store_data[['Sales', 'Quantity', 'Discount','Profit', 'Shipping days']]"
      ],
      "metadata": {
        "id": "kX3agrXUCIxE"
      },
      "execution_count": null,
      "outputs": []
    },
    {
      "cell_type": "code",
      "source": [
        "# Correlation matrix\n",
        "plt.figure(figsize=(5, 4))\n",
        "sns.heatmap(numerical.corr(), annot=True, fmt=\".2f\")\n",
        "plt.show()"
      ],
      "metadata": {
        "colab": {
          "base_uri": "https://localhost:8080/"
        },
        "id": "-jwvk_1qBqRI",
        "outputId": "bba71310-70f0-4163-bf16-e00d38f2de4a"
      },
      "execution_count": null,
      "outputs": [
        {
          "output_type": "display_data",
          "data": {
            "text/plain": [
              "<Figure size 500x400 with 2 Axes>"
            ],
            "image/png": "[encoded data removed]"
          },
          "metadata": {}
        }
      ]
    },
    {
      "cell_type": "markdown",
      "source": [
        "For the numerical data, I analyzed the correlations between the features.\n",
        "- Sales and profits are moderately correlated (0.42) which implies higher sales lead to higher profits.\n",
        "- Discount and Profit are negatively correlated (-0.23). This indicates that higher discounts might be reducing profit margins.\n",
        "- Sales and quantity are positively correlated (0.21). This indicates that higher sales are somewhat associated with larger quantities sold.\n",
        "- All other variables suggest very low correlation indicating little to no direct impact."
      ],
      "metadata": {
        "id": "BPkF9gPvDo_7"
      }
    },
    {
      "cell_type": "markdown",
      "source": [
        "### Shipping information\n",
        "- I want to understand how much shipping time each shipping mode takes.\n",
        "- Is there a shipping mode that is prefered/the majority?\n",
        "- Do different customer segments prefer different shipping modes?\n",
        "- Are shorter shipping times correlated with higher sales?\n",
        "\n"
      ],
      "metadata": {
        "id": "4WqUFtG6sSN_"
      }
    },
    {
      "cell_type": "code",
      "source": [
        "store_data['Shipping days'].value_counts()"
      ],
      "metadata": {
        "colab": {
          "base_uri": "https://localhost:8080/"
        },
        "id": "hOOFnQJDIX_a",
        "outputId": "5e059eb8-30fa-46f8-a26e-50518b567dbc"
      },
      "execution_count": null,
      "outputs": [
        {
          "output_type": "execute_result",
          "data": {
            "text/plain": [
              "Shipping days\n",
              "4.0    2258\n",
              "5.0    1752\n",
              "2.0    1079\n",
              "6.0     986\n",
              "3.0     823\n",
              "7.0     502\n",
              "0.0     426\n",
              "1.0     283\n",
              "Name: count, dtype: int64"
            ]
          },
          "metadata": {},
          "execution_count": 14
        }
      ]
    },
    {
      "cell_type": "code",
      "source": [
        "store_data['Ship Mode'].value_counts()"
      ],
      "metadata": {
        "colab": {
          "base_uri": "https://localhost:8080/"
        },
        "id": "45T2FGANIg8Z",
        "outputId": "9f7bd99e-cef1-4b6d-c192-caf0c6bbfe4a"
      },
      "execution_count": null,
      "outputs": [
        {
          "output_type": "execute_result",
          "data": {
            "text/plain": [
              "Ship Mode\n",
              "Standard Class    5357\n",
              "Second Class      1747\n",
              "First Class       1389\n",
              "Same Day           502\n",
              "Name: count, dtype: int64"
            ]
          },
          "metadata": {},
          "execution_count": 15
        }
      ]
    },
    {
      "cell_type": "code",
      "source": [
        "# Shipping time per shipping mode\n",
        "shipping_mode_days = store_data.groupby(['Shipping days', 'Ship Mode']).size().unstack()\n",
        "shipping_mode_days.plot(kind='bar', stacked=True, colormap='seismic')\n",
        "plt.title('Frequency of Shipping time by mode')\n",
        "plt.xlabel('Shipping Time')\n",
        "plt.ylabel('Count')\n",
        "plt.legend(title='Shipping mode', bbox_to_anchor=(1.05, 1), loc='upper left')\n",
        "plt.show()"
      ],
      "metadata": {
        "colab": {
          "base_uri": "https://localhost:8080/"
        },
        "id": "KprSGyvJFF7T",
        "outputId": "6da8400b-43df-46e2-f4c6-13ecaf9d437b"
      },
      "execution_count": null,
      "outputs": [
        {
          "output_type": "display_data",
          "data": {
            "text/plain": [
              "<Figure size 640x480 with 1 Axes>"
            ],
            "image/png": "[encoded data removed]"
          },
          "metadata": {}
        }
      ]
    },
    {
      "cell_type": "markdown",
      "source": [
        "Standard Class is the most frequently used shipping mode. It peaks at 4 days and remains relatively high after suggesting the delivery time is 4-7 days. First Class and Second Class are faster with First Class peaking at 2 days, whereas Second Class peaks at 3 days."
      ],
      "metadata": {
        "id": "7_vfdtVcH07J"
      }
    },
    {
      "cell_type": "code",
      "source": [
        "# Shipping mode w.r.t segment\n",
        "segment_shipping_freq = store_data.groupby(['Segment', 'Ship Mode']).size().unstack()\n",
        "segment_shipping_freq.plot(kind='bar', stacked=True, colormap='seismic')\n",
        "plt.xlabel('Segment')\n",
        "plt.ylabel('Count')\n",
        "plt.title('Frequency of Ship Modes by Segment')\n",
        "plt.legend()\n",
        "plt.show()"
      ],
      "metadata": {
        "colab": {
          "base_uri": "https://localhost:8080/"
        },
        "id": "Se78XjMYJOBp",
        "outputId": "e1d0e343-83d8-4ddb-d198-8d4f3b449e9d"
      },
      "execution_count": null,
      "outputs": [
        {
          "output_type": "display_data",
          "data": {
            "text/plain": [
              "<Figure size 640x480 with 1 Axes>"
            ],
            "image/png": "[encoded data removed]"
          },
          "metadata": {}
        }
      ]
    },
    {
      "cell_type": "markdown",
      "source": [
        "All modes are used with similar proportions for each customer segment."
      ],
      "metadata": {
        "id": "jXlTZ9jcLIE8"
      }
    },
    {
      "cell_type": "code",
      "source": [
        "# Sales and shipping time\n",
        "plt.figure(figsize=(5, 4))\n",
        "sns.scatterplot(x='Shipping days', y='Sales', data=store_data)\n",
        "plt.title('Shipping Time vs Sales')\n",
        "plt.xlabel('Shipping Days')\n",
        "plt.ylabel('Sales')\n",
        "plt.show()"
      ],
      "metadata": {
        "colab": {
          "base_uri": "https://localhost:8080/"
        },
        "id": "_NEmwyH6BMNx",
        "outputId": "5c63af99-581d-49ca-8083-dd3639013517"
      },
      "execution_count": null,
      "outputs": [
        {
          "output_type": "display_data",
          "data": {
            "text/plain": [
              "<Figure size 500x400 with 1 Axes>"
            ],
            "image/png": "[encoded data removed]"
          },
          "metadata": {}
        }
      ]
    },
    {
      "cell_type": "markdown",
      "source": [
        "This graph supports the negligible correlation coefficient between sales and shipping days (-0.1) indicating that shipping time does not directly impact sales."
      ],
      "metadata": {
        "id": "anklvWl4MvJ9"
      }
    },
    {
      "cell_type": "code",
      "source": [
        "remove_outliers(\"Sales\")"
      ],
      "metadata": {
        "id": "M2SK8dViOK4p"
      },
      "execution_count": null,
      "outputs": []
    },
    {
      "cell_type": "markdown",
      "source": [
        "### Geographic Information\n",
        "- Which regions generate the most sales and profits?\n",
        "- How do sales and profit margins vary across different states?\n",
        "\n"
      ],
      "metadata": {
        "id": "15TeunEQOgXC"
      }
    },
    {
      "cell_type": "code",
      "source": [
        "print(store_data['Country'].value_counts()) # we can remove this column since the store is clearly based in the US"
      ],
      "metadata": {
        "colab": {
          "base_uri": "https://localhost:8080/"
        },
        "id": "2gZML2JrPJ_i",
        "outputId": "5a562992-c4ab-43b7-e762-2ef71658186b"
      },
      "execution_count": null,
      "outputs": [
        {
          "output_type": "stream",
          "name": "stdout",
          "text": [
            "Country\n",
            "United States    8995\n",
            "Name: count, dtype: int64\n"
          ]
        }
      ]
    },
    {
      "cell_type": "code",
      "source": [
        "# Aggregate sales and profits by region\n",
        "region_data = store_data.groupby('Region')[['Sales', 'Profit']].sum().reset_index()\n",
        "\n",
        "# Plotting total sales and profits by region\n",
        "plt.figure(figsize=(5, 4))\n",
        "sns.barplot(x='Region', y='Sales', data=region_data, label='Sales')\n",
        "sns.barplot(x='Region', y='Profit', data=region_data, label='Profit')\n",
        "\n",
        "plt.title('Total Sales and Profits by Region')\n",
        "plt.xlabel('Region')\n",
        "plt.ylabel('Total Sales and Profits')\n",
        "plt.legend()\n",
        "plt.show()"
      ],
      "metadata": {
        "colab": {
          "base_uri": "https://localhost:8080/"
        },
        "id": "2YtvR-tmPHZx",
        "outputId": "ab63bb7f-4a40-471e-a0c2-82c39fb99700"
      },
      "execution_count": null,
      "outputs": [
        {
          "output_type": "display_data",
          "data": {
            "text/plain": [
              "<Figure size 500x400 with 1 Axes>"
            ],
            "image/png": "[encoded data removed]"
          },
          "metadata": {}
        }
      ]
    },
    {
      "cell_type": "markdown",
      "source": [
        "The West and East contribute the most to both sales and profit."
      ],
      "metadata": {
        "id": "QlThcQ-XQNul"
      }
    },
    {
      "cell_type": "code",
      "source": [
        "# State Distribution of Sales\n",
        "plt.figure(figsize=(10, 5))\n",
        "plt.title('Sales by State')\n",
        "state_sales = store_data.groupby('State')['Sales'].sum().sort_values(ascending=False)\n",
        "state_sales.plot(kind='bar')\n",
        "plt.xlabel('State')\n",
        "plt.ylabel('Total Sales')\n",
        "plt.xticks(rotation=90)\n",
        "plt.show()"
      ],
      "metadata": {
        "colab": {
          "base_uri": "https://localhost:8080/"
        },
        "id": "1hgbMAH0P5Tj",
        "outputId": "fb73bd94-a9f9-4a09-dda1-88efb32731dc"
      },
      "execution_count": null,
      "outputs": [
        {
          "output_type": "display_data",
          "data": {
            "text/plain": [
              "<Figure size 1000x500 with 1 Axes>"
            ],
            "image/png": "[encoded data removed]"
          },
          "metadata": {}
        }
      ]
    },
    {
      "cell_type": "code",
      "source": [
        "# State Distribution of Profits\n",
        "plt.figure(figsize=(10, 5))\n",
        "plt.title('Profit by State')\n",
        "state_sales = store_data.groupby('State')['Profit'].sum().sort_values(ascending=False)\n",
        "state_sales.plot(kind='bar')\n",
        "plt.xlabel('State')\n",
        "plt.ylabel('Total Profit')\n",
        "plt.xticks(rotation=90)\n",
        "plt.show()"
      ],
      "metadata": {
        "colab": {
          "base_uri": "https://localhost:8080/"
        },
        "id": "2bysQFVzQpsc",
        "outputId": "c5801edd-f199-47df-a794-39bd693c325c"
      },
      "execution_count": null,
      "outputs": [
        {
          "output_type": "display_data",
          "data": {
            "text/plain": [
              "<Figure size 1000x500 with 1 Axes>"
            ],
            "image/png": "[encoded data removed]"
          },
          "metadata": {}
        }
      ]
    },
    {
      "cell_type": "code",
      "source": [
        "# Calculate total sales and total profits for normalization\n",
        "total_sales = store_data['Sales'].sum()\n",
        "total_profits = store_data['Profit'].sum()\n",
        "state_summary = store_data.groupby('State')[['Sales', 'Profit']].sum().reset_index()\n",
        "\n",
        "state_summary['Sales %'] = (state_summary['Sales'] / total_sales) * 100\n",
        "state_summary['Profit %'] = (state_summary['Profit'] / total_profits) * 100\n",
        "\n",
        "top_sales_states = state_summary.sort_values(by='Sales', ascending=False).head(10)\n",
        "top_profit_states = state_summary.sort_values(by='Profit', ascending=False).head(10)\n",
        "\n",
        "print(\"Top 10 States by Sales Contribution (%):\")\n",
        "print(top_sales_states[['State', 'Sales', 'Sales %']])\n",
        "print(\"\\nTop 10 States by Profit Contribution (%):\")\n",
        "print(top_profit_states[['State', 'Profit', 'Profit %']])"
      ],
      "metadata": {
        "colab": {
          "base_uri": "https://localhost:8080/"
        },
        "id": "JVds6u1_RCXW",
        "outputId": "228e915a-7e07-4858-b8f5-ae904d8293e7"
      },
      "execution_count": null,
      "outputs": [
        {
          "output_type": "stream",
          "name": "stdout",
          "text": [
            "Top 10 States by Sales Contribution (%):\n",
            "           State        Sales    Sales %\n",
            "3     California  357765.7435  17.228226\n",
            "30      New York  260841.8070  12.560849\n",
            "41         Texas  132656.4928   6.388079\n",
            "45    Washington   92140.6440   4.437037\n",
            "36  Pennsylvania   91208.8380   4.392166\n",
            "8        Florida   74902.6825   3.606942\n",
            "11      Illinois   70010.5130   3.371359\n",
            "33          Ohio   66402.5290   3.197617\n",
            "20      Michigan   65325.3100   3.145743\n",
            "44      Virginia   55360.0900   2.665868\n",
            "\n",
            "Top 10 States by Profit Contribution (%):\n",
            "         State      Profit   Profit %\n",
            "30    New York  64285.8122  25.881169\n",
            "3   California  61186.8548  24.633543\n",
            "20    Michigan  21820.2317   8.784724\n",
            "45  Washington  19466.4317   7.837095\n",
            "44    Virginia  14578.3343   5.869169\n",
            "9      Georgia  14108.9548   5.680199\n",
            "15    Kentucky   8997.7428   3.622449\n",
            "6     Delaware   8125.8936   3.271447\n",
            "12     Indiana   8026.4598   3.231415\n",
            "28  New Jersey   7617.1683   3.066636\n"
          ]
        }
      ]
    },
    {
      "cell_type": "markdown",
      "source": [
        "- States like Georgia, Kentucky, Delaware, Indiana and NJ have a stronger profit contribution compared to their sales, indicating efficient operations or favorable market conditions.\n",
        "- States like California, NY, Washington align closely in their sales and profit contributions, reflecting consistent market performance.\n",
        "- One interesting thing to note is states like Texas, Pennsylvania, Illinois have one of the highest sales but also have the highest losses."
      ],
      "metadata": {
        "id": "Zkbj0uYvR-WY"
      }
    },
    {
      "cell_type": "markdown",
      "source": [
        "### Product Information\n",
        "- Is there a category that is preferred?\n",
        "- What does the distribution of sub-categories look like?\n",
        "- Which products or sub-categories are bestsellers and why?"
      ],
      "metadata": {
        "id": "HNUUmL8jR3CW"
      }
    },
    {
      "cell_type": "code",
      "source": [
        "store_data['Sub-Category'].value_counts()"
      ],
      "metadata": {
        "colab": {
          "base_uri": "https://localhost:8080/"
        },
        "id": "ez0NgHC2Swk6",
        "outputId": "70ec979a-5de8-4ce4-d3f1-0a6a32f57229"
      },
      "execution_count": null,
      "outputs": [
        {
          "output_type": "execute_result",
          "data": {
            "text/plain": [
              "Sub-Category\n",
              "Binders        1370\n",
              "Paper          1233\n",
              "Furnishings     855\n",
              "Phones          795\n",
              "Storage         763\n",
              "Art             717\n",
              "Accessories     700\n",
              "Chairs          560\n",
              "Appliances      417\n",
              "Labels          329\n",
              "Tables          287\n",
              "Envelopes       225\n",
              "Bookcases       208\n",
              "Fasteners       198\n",
              "Supplies        171\n",
              "Machines        104\n",
              "Copiers          63\n",
              "Name: count, dtype: int64"
            ]
          },
          "metadata": {},
          "execution_count": 25
        }
      ]
    },
    {
      "cell_type": "code",
      "source": [
        "store_data['Category'].value_counts()"
      ],
      "metadata": {
        "colab": {
          "base_uri": "https://localhost:8080/"
        },
        "id": "HF8YQ0MwS10f",
        "outputId": "7012c0d6-4964-434b-ffc9-2b433e5844e6"
      },
      "execution_count": null,
      "outputs": [
        {
          "output_type": "execute_result",
          "data": {
            "text/plain": [
              "Category\n",
              "Office Supplies    5423\n",
              "Furniture          1909\n",
              "Technology         1663\n",
              "Name: count, dtype: int64"
            ]
          },
          "metadata": {},
          "execution_count": 26
        }
      ]
    },
    {
      "cell_type": "markdown",
      "source": [
        "Office supplies are the most popular category and accounts for 60% of the total category count."
      ],
      "metadata": {
        "id": "iJcfPqFBS4E7"
      }
    },
    {
      "cell_type": "code",
      "source": [
        "plt.figure(figsize=(14, 8))\n",
        "category_grouped = store_data.groupby(['Category', 'Sub-Category'])['Sales'].sum().unstack()\n",
        "category_grouped.plot(kind='bar', stacked=True, colormap='seismic')\n",
        "plt.title('Sales by Category and Sub-Category')\n",
        "plt.xlabel('Category')\n",
        "plt.ylabel('Sales')\n",
        "plt.legend(title='Sub-Category', bbox_to_anchor=(1.05, 1), loc='upper left')\n",
        "plt.show()"
      ],
      "metadata": {
        "colab": {
          "base_uri": "https://localhost:8080/"
        },
        "id": "IBxBUrINSa_c",
        "outputId": "5d03de9f-8cd4-4c7b-f138-ae6f9e9e3acb"
      },
      "execution_count": null,
      "outputs": [
        {
          "output_type": "display_data",
          "data": {
            "text/plain": [
              "<Figure size 1400x800 with 0 Axes>"
            ]
          },
          "metadata": {}
        },
        {
          "output_type": "display_data",
          "data": {
            "text/plain": [
              "<Figure size 640x480 with 1 Axes>"
            ],
            "image/png": "[encoded data removed]"
          },
          "metadata": {}
        }
      ]
    },
    {
      "cell_type": "code",
      "source": [
        "plt.figure(figsize=(14, 8))\n",
        "category_grouped = store_data.groupby(['Category', 'Sub-Category'])['Profit'].sum().unstack()\n",
        "category_grouped.plot(kind='bar', stacked=True, colormap='seismic')\n",
        "plt.title('Profit by Category and Sub-Category')\n",
        "plt.xlabel('Category')\n",
        "plt.ylabel('Profit')\n",
        "plt.legend(title='Sub-Category', bbox_to_anchor=(1.05, 1), loc='upper left')\n",
        "plt.show()"
      ],
      "metadata": {
        "colab": {
          "base_uri": "https://localhost:8080/"
        },
        "id": "kVsWoK5nULOO",
        "outputId": "cf0f2b59-faec-4bbe-fc9d-697ed720610c"
      },
      "execution_count": null,
      "outputs": [
        {
          "output_type": "display_data",
          "data": {
            "text/plain": [
              "<Figure size 1400x800 with 0 Axes>"
            ]
          },
          "metadata": {}
        },
        {
          "output_type": "display_data",
          "data": {
            "text/plain": [
              "<Figure size 640x480 with 1 Axes>"
            ],
            "image/png": "[encoded data removed]"
          },
          "metadata": {}
        }
      ]
    },
    {
      "cell_type": "code",
      "source": [
        "category_grouped"
      ],
      "metadata": {
        "colab": {
          "base_uri": "https://localhost:8080/"
        },
        "id": "TXVDLPdPUsNf",
        "outputId": "b4edcfcc-457b-425f-c036-0d65aa652a93"
      },
      "execution_count": null,
      "outputs": [
        {
          "output_type": "execute_result",
          "data": {
            "text/plain": [
              "Sub-Category     Accessories  Appliances        Art     Binders  Bookcases  \\\n",
              "Category                                                                     \n",
              "Furniture                NaN         NaN        NaN         NaN -3876.1641   \n",
              "Office Supplies          NaN  13224.8622  4816.9922  14317.7653        NaN   \n",
              "Technology        30837.4295         NaN        NaN         NaN        NaN   \n",
              "\n",
              "Sub-Category         Chairs     Copiers  Envelopes  Fasteners  Furnishings  \\\n",
              "Category                                                                     \n",
              "Furniture        22947.4761         NaN        NaN        NaN   10237.7074   \n",
              "Office Supplies         NaN         NaN  4847.8021   689.7888          NaN   \n",
              "Technology              NaN  39725.9259        NaN        NaN          NaN   \n",
              "\n",
              "Sub-Category        Labels  Machines      Paper      Phones    Storage  \\\n",
              "Category                                                                 \n",
              "Furniture              NaN       NaN        NaN         NaN        NaN   \n",
              "Office Supplies  4376.8866       NaN  22764.078         NaN  15140.335   \n",
              "Technology             NaN  6952.916        NaN  33501.5297        NaN   \n",
              "\n",
              "Sub-Category     Supplies     Tables  \n",
              "Category                              \n",
              "Furniture             NaN -15419.585  \n",
              "Office Supplies -772.5771        NaN  \n",
              "Technology            NaN        NaN  "
            ],
            "text/html": [
              "\n",
              "  <div id=\"df-053e4544-5113-4a64-8ebe-d5cdf651536e\" class=\"colab-df-container\">\n",
              "    <div>\n",
              "<style scoped>\n",
              "    .dataframe tbody tr th:only-of-type {\n",
              "        vertical-align: middle;\n",
              "    }\n",
              "\n",
              "    .dataframe tbody tr th {\n",
              "        vertical-align: top;\n",
              "    }\n",
              "\n",
              "    .dataframe thead th {\n",
              "        text-align: right;\n",
              "    }\n",
              "</style>\n",
              "<table border=\"1\" class=\"dataframe\">\n",
              "  <thead>\n",
              "    <tr style=\"text-align: right;\">\n",
              "      <th>Sub-Category</th>\n",
              "      <th>Accessories</th>\n",
              "      <th>Appliances</th>\n",
              "      <th>Art</th>\n",
              "      <th>Binders</th>\n",
              "      <th>Bookcases</th>\n",
              "      <th>Chairs</th>\n",
              "      <th>Copiers</th>\n",
              "      <th>Envelopes</th>\n",
              "      <th>Fasteners</th>\n",
              "      <th>Furnishings</th>\n",
              "      <th>Labels</th>\n",
              "      <th>Machines</th>\n",
              "      <th>Paper</th>\n",
              "      <th>Phones</th>\n",
              "      <th>Storage</th>\n",
              "      <th>Supplies</th>\n",
              "      <th>Tables</th>\n",
              "    </tr>\n",
              "    <tr>\n",
              "      <th>Category</th>\n",
              "      <th></th>\n",
              "      <th></th>\n",
              "      <th></th>\n",
              "      <th></th>\n",
              "      <th></th>\n",
              "      <th></th>\n",
              "      <th></th>\n",
              "      <th></th>\n",
              "      <th></th>\n",
              "      <th></th>\n",
              "      <th></th>\n",
              "      <th></th>\n",
              "      <th></th>\n",
              "      <th></th>\n",
              "      <th></th>\n",
              "      <th></th>\n",
              "      <th></th>\n",
              "    </tr>\n",
              "  </thead>\n",
              "  <tbody>\n",
              "    <tr>\n",
              "      <th>Furniture</th>\n",
              "      <td>NaN</td>\n",
              "      <td>NaN</td>\n",
              "      <td>NaN</td>\n",
              "      <td>NaN</td>\n",
              "      <td>-3876.1641</td>\n",
              "      <td>22947.4761</td>\n",
              "      <td>NaN</td>\n",
              "      <td>NaN</td>\n",
              "      <td>NaN</td>\n",
              "      <td>10237.7074</td>\n",
              "      <td>NaN</td>\n",
              "      <td>NaN</td>\n",
              "      <td>NaN</td>\n",
              "      <td>NaN</td>\n",
              "      <td>NaN</td>\n",
              "      <td>NaN</td>\n",
              "      <td>-15419.585</td>\n",
              "    </tr>\n",
              "    <tr>\n",
              "      <th>Office Supplies</th>\n",
              "      <td>NaN</td>\n",
              "      <td>13224.8622</td>\n",
              "      <td>4816.9922</td>\n",
              "      <td>14317.7653</td>\n",
              "      <td>NaN</td>\n",
              "      <td>NaN</td>\n",
              "      <td>NaN</td>\n",
              "      <td>4847.8021</td>\n",
              "      <td>689.7888</td>\n",
              "      <td>NaN</td>\n",
              "      <td>4376.8866</td>\n",
              "      <td>NaN</td>\n",
              "      <td>22764.078</td>\n",
              "      <td>NaN</td>\n",
              "      <td>15140.335</td>\n",
              "      <td>-772.5771</td>\n",
              "      <td>NaN</td>\n",
              "    </tr>\n",
              "    <tr>\n",
              "      <th>Technology</th>\n",
              "      <td>30837.4295</td>\n",
              "      <td>NaN</td>\n",
              "      <td>NaN</td>\n",
              "      <td>NaN</td>\n",
              "      <td>NaN</td>\n",
              "      <td>NaN</td>\n",
              "      <td>39725.9259</td>\n",
              "      <td>NaN</td>\n",
              "      <td>NaN</td>\n",
              "      <td>NaN</td>\n",
              "      <td>NaN</td>\n",
              "      <td>6952.916</td>\n",
              "      <td>NaN</td>\n",
              "      <td>33501.5297</td>\n",
              "      <td>NaN</td>\n",
              "      <td>NaN</td>\n",
              "      <td>NaN</td>\n",
              "    </tr>\n",
              "  </tbody>\n",
              "</table>\n",
              "</div>\n",
              "    <div class=\"colab-df-buttons\">\n",
              "\n",
              "  <div class=\"colab-df-container\">\n",
              "    <button class=\"colab-df-convert\" onclick=\"convertToInteractive('df-053e4544-5113-4a64-8ebe-d5cdf651536e')\"\n",
              "            title=\"Convert this dataframe to an interactive table.\"\n",
              "            style=\"display:none;\">\n",
              "\n",
              "  <svg xmlns=\"http://www.w3.org/2000/svg\" height=\"24px\" viewBox=\"0 -960 960 960\">\n",
              "    <path d=\"M120-120v-720h720v720H120Zm60-500h600v-160H180v160Zm220 220h160v-160H400v160Zm0 220h160v-160H400v160ZM180-400h160v-160H180v160Zm440 0h160v-160H620v160ZM180-180h160v-160H180v160Zm440 0h160v-160H620v160Z\"/>\n",
              "  </svg>\n",
              "    </button>\n",
              "\n",
              "  <style>\n",
              "    .colab-df-container {\n",
              "      display:flex;\n",
              "      gap: 12px;\n",
              "    }\n",
              "\n",
              "    .colab-df-convert {\n",
              "      background-color: #E8F0FE;\n",
              "      border: none;\n",
              "      border-radius: 50%;\n",
              "      cursor: pointer;\n",
              "      display: none;\n",
              "      fill: #1967D2;\n",
              "      height: 32px;\n",
              "      padding: 0 0 0 0;\n",
              "      width: 32px;\n",
              "    }\n",
              "\n",
              "    .colab-df-convert:hover {\n",
              "      background-color: #E2EBFA;\n",
              "      box-shadow: 0px 1px 2px rgba(60, 64, 67, 0.3), 0px 1px 3px 1px rgba(60, 64, 67, 0.15);\n",
              "      fill: #174EA6;\n",
              "    }\n",
              "\n",
              "    .colab-df-buttons div {\n",
              "      margin-bottom: 4px;\n",
              "    }\n",
              "\n",
              "    [theme=dark] .colab-df-convert {\n",
              "      background-color: #3B4455;\n",
              "      fill: #D2E3FC;\n",
              "    }\n",
              "\n",
              "    [theme=dark] .colab-df-convert:hover {\n",
              "      background-color: #434B5C;\n",
              "      box-shadow: 0px 1px 3px 1px rgba(0, 0, 0, 0.15);\n",
              "      filter: drop-shadow(0px 1px 2px rgba(0, 0, 0, 0.3));\n",
              "      fill: #FFFFFF;\n",
              "    }\n",
              "  </style>\n",
              "\n",
              "    <script>\n",
              "      const buttonEl =\n",
              "        document.querySelector('#df-053e4544-5113-4a64-8ebe-d5cdf651536e button.colab-df-convert');\n",
              "      buttonEl.style.display =\n",
              "        google.colab.kernel.accessAllowed ? 'block' : 'none';\n",
              "\n",
              "      async function convertToInteractive(key) {\n",
              "        const element = document.querySelector('#df-053e4544-5113-4a64-8ebe-d5cdf651536e');\n",
              "        const dataTable =\n",
              "          await google.colab.kernel.invokeFunction('convertToInteractive',\n",
              "                                                    [key], {});\n",
              "        if (!dataTable) return;\n",
              "\n",
              "        const docLinkHtml = 'Like what you see? Visit the ' +\n",
              "          '<a target=\"_blank\" href=https://colab.research.google.com/notebooks/data_table.ipynb>data table notebook</a>'\n",
              "          + ' to learn more about interactive tables.';\n",
              "        element.innerHTML = '';\n",
              "        dataTable['output_type'] = 'display_data';\n",
              "        await google.colab.output.renderOutput(dataTable, element);\n",
              "        const docLink = document.createElement('div');\n",
              "        docLink.innerHTML = docLinkHtml;\n",
              "        element.appendChild(docLink);\n",
              "      }\n",
              "    </script>\n",
              "  </div>\n",
              "\n",
              "\n",
              "<div id=\"df-f4442d6d-d58d-46b6-ac89-b4dfd638312d\">\n",
              "  <button class=\"colab-df-quickchart\" onclick=\"quickchart('df-f4442d6d-d58d-46b6-ac89-b4dfd638312d')\"\n",
              "            title=\"Suggest charts\"\n",
              "            style=\"display:none;\">\n",
              "\n",
              "<svg xmlns=\"http://www.w3.org/2000/svg\" height=\"24px\"viewBox=\"0 0 24 24\"\n",
              "     width=\"24px\">\n",
              "    <g>\n",
              "        <path d=\"M19 3H5c-1.1 0-2 .9-2 2v14c0 1.1.9 2 2 2h14c1.1 0 2-.9 2-2V5c0-1.1-.9-2-2-2zM9 17H7v-7h2v7zm4 0h-2V7h2v10zm4 0h-2v-4h2v4z\"/>\n",
              "    </g>\n",
              "</svg>\n",
              "  </button>\n",
              "\n",
              "<style>\n",
              "  .colab-df-quickchart {\n",
              "      --bg-color: #E8F0FE;\n",
              "      --fill-color: #1967D2;\n",
              "      --hover-bg-color: #E2EBFA;\n",
              "      --hover-fill-color: #174EA6;\n",
              "      --disabled-fill-color: #AAA;\n",
              "      --disabled-bg-color: #DDD;\n",
              "  }\n",
              "\n",
              "  [theme=dark] .colab-df-quickchart {\n",
              "      --bg-color: #3B4455;\n",
              "      --fill-color: #D2E3FC;\n",
              "      --hover-bg-color: #434B5C;\n",
              "      --hover-fill-color: #FFFFFF;\n",
              "      --disabled-bg-color: #3B4455;\n",
              "      --disabled-fill-color: #666;\n",
              "  }\n",
              "\n",
              "  .colab-df-quickchart {\n",
              "    background-color: var(--bg-color);\n",
              "    border: none;\n",
              "    border-radius: 50%;\n",
              "    cursor: pointer;\n",
              "    display: none;\n",
              "    fill: var(--fill-color);\n",
              "    height: 32px;\n",
              "    padding: 0;\n",
              "    width: 32px;\n",
              "  }\n",
              "\n",
              "  .colab-df-quickchart:hover {\n",
              "    background-color: var(--hover-bg-color);\n",
              "    box-shadow: 0 1px 2px rgba(60, 64, 67, 0.3), 0 1px 3px 1px rgba(60, 64, 67, 0.15);\n",
              "    fill: var(--button-hover-fill-color);\n",
              "  }\n",
              "\n",
              "  .colab-df-quickchart-complete:disabled,\n",
              "  .colab-df-quickchart-complete:disabled:hover {\n",
              "    background-color: var(--disabled-bg-color);\n",
              "    fill: var(--disabled-fill-color);\n",
              "    box-shadow: none;\n",
              "  }\n",
              "\n",
              "  .colab-df-spinner {\n",
              "    border: 2px solid var(--fill-color);\n",
              "    border-color: transparent;\n",
              "    border-bottom-color: var(--fill-color);\n",
              "    animation:\n",
              "      spin 1s steps(1) infinite;\n",
              "  }\n",
              "\n",
              "  @keyframes spin {\n",
              "    0% {\n",
              "      border-color: transparent;\n",
              "      border-bottom-color: var(--fill-color);\n",
              "      border-left-color: var(--fill-color);\n",
              "    }\n",
              "    20% {\n",
              "      border-color: transparent;\n",
              "      border-left-color: var(--fill-color);\n",
              "      border-top-color: var(--fill-color);\n",
              "    }\n",
              "    30% {\n",
              "      border-color: transparent;\n",
              "      border-left-color: var(--fill-color);\n",
              "      border-top-color: var(--fill-color);\n",
              "      border-right-color: var(--fill-color);\n",
              "    }\n",
              "    40% {\n",
              "      border-color: transparent;\n",
              "      border-right-color: var(--fill-color);\n",
              "      border-top-color: var(--fill-color);\n",
              "    }\n",
              "    60% {\n",
              "      border-color: transparent;\n",
              "      border-right-color: var(--fill-color);\n",
              "    }\n",
              "    80% {\n",
              "      border-color: transparent;\n",
              "      border-right-color: var(--fill-color);\n",
              "      border-bottom-color: var(--fill-color);\n",
              "    }\n",
              "    90% {\n",
              "      border-color: transparent;\n",
              "      border-bottom-color: var(--fill-color);\n",
              "    }\n",
              "  }\n",
              "</style>\n",
              "\n",
              "  <script>\n",
              "    async function quickchart(key) {\n",
              "      const quickchartButtonEl =\n",
              "        document.querySelector('#' + key + ' button');\n",
              "      quickchartButtonEl.disabled = true;  // To prevent multiple clicks.\n",
              "      quickchartButtonEl.classList.add('colab-df-spinner');\n",
              "      try {\n",
              "        const charts = await google.colab.kernel.invokeFunction(\n",
              "            'suggestCharts', [key], {});\n",
              "      } catch (error) {\n",
              "        console.error('Error during call to suggestCharts:', error);\n",
              "      }\n",
              "      quickchartButtonEl.classList.remove('colab-df-spinner');\n",
              "      quickchartButtonEl.classList.add('colab-df-quickchart-complete');\n",
              "    }\n",
              "    (() => {\n",
              "      let quickchartButtonEl =\n",
              "        document.querySelector('#df-f4442d6d-d58d-46b6-ac89-b4dfd638312d button');\n",
              "      quickchartButtonEl.style.display =\n",
              "        google.colab.kernel.accessAllowed ? 'block' : 'none';\n",
              "    })();\n",
              "  </script>\n",
              "</div>\n",
              "    </div>\n",
              "  </div>\n"
            ],
            "application/vnd.google.colaboratory.intrinsic+json": {
              "type": "dataframe",
              "variable_name": "category_grouped",
              "summary": "{\n  \"name\": \"category_grouped\",\n  \"rows\": 3,\n  \"fields\": [\n    {\n      \"column\": \"Category\",\n      \"properties\": {\n        \"dtype\": \"string\",\n        \"num_unique_values\": 3,\n        \"samples\": [\n          \"Furniture\",\n          \"Office Supplies\",\n          \"Technology\"\n        ],\n        \"semantic_type\": \"\",\n        \"description\": \"\"\n      }\n    },\n    {\n      \"column\": \"Accessories\",\n      \"properties\": {\n        \"dtype\": \"number\",\n        \"std\": null,\n        \"min\": 30837.4295,\n        \"max\": 30837.4295,\n        \"num_unique_values\": 1,\n        \"samples\": [\n          30837.4295\n        ],\n        \"semantic_type\": \"\",\n        \"description\": \"\"\n      }\n    },\n    {\n      \"column\": \"Appliances\",\n      \"properties\": {\n        \"dtype\": \"number\",\n        \"std\": null,\n        \"min\": 13224.8622,\n        \"max\": 13224.8622,\n        \"num_unique_values\": 1,\n        \"samples\": [\n          13224.8622\n        ],\n        \"semantic_type\": \"\",\n        \"description\": \"\"\n      }\n    },\n    {\n      \"column\": \"Art\",\n      \"properties\": {\n        \"dtype\": \"number\",\n        \"std\": null,\n        \"min\": 4816.9922,\n        \"max\": 4816.9922,\n        \"num_unique_values\": 1,\n        \"samples\": [\n          4816.9922\n        ],\n        \"semantic_type\": \"\",\n        \"description\": \"\"\n      }\n    },\n    {\n      \"column\": \"Binders\",\n      \"properties\": {\n        \"dtype\": \"number\",\n        \"std\": null,\n        \"min\": 14317.7653,\n        \"max\": 14317.7653,\n        \"num_unique_values\": 1,\n        \"samples\": [\n          14317.7653\n        ],\n        \"semantic_type\": \"\",\n        \"description\": \"\"\n      }\n    },\n    {\n      \"column\": \"Bookcases\",\n      \"properties\": {\n        \"dtype\": \"number\",\n        \"std\": null,\n        \"min\": -3876.1641,\n        \"max\": -3876.1641,\n        \"num_unique_values\": 1,\n        \"samples\": [\n          -3876.1641\n        ],\n        \"semantic_type\": \"\",\n        \"description\": \"\"\n      }\n    },\n    {\n      \"column\": \"Chairs\",\n      \"properties\": {\n        \"dtype\": \"number\",\n        \"std\": null,\n        \"min\": 22947.4761,\n        \"max\": 22947.4761,\n        \"num_unique_values\": 1,\n        \"samples\": [\n          22947.4761\n        ],\n        \"semantic_type\": \"\",\n        \"description\": \"\"\n      }\n    },\n    {\n      \"column\": \"Copiers\",\n      \"properties\": {\n        \"dtype\": \"number\",\n        \"std\": null,\n        \"min\": 39725.9259,\n        \"max\": 39725.9259,\n        \"num_unique_values\": 1,\n        \"samples\": [\n          39725.9259\n        ],\n        \"semantic_type\": \"\",\n        \"description\": \"\"\n      }\n    },\n    {\n      \"column\": \"Envelopes\",\n      \"properties\": {\n        \"dtype\": \"number\",\n        \"std\": null,\n        \"min\": 4847.8021,\n        \"max\": 4847.8021,\n        \"num_unique_values\": 1,\n        \"samples\": [\n          4847.8021\n        ],\n        \"semantic_type\": \"\",\n        \"description\": \"\"\n      }\n    },\n    {\n      \"column\": \"Fasteners\",\n      \"properties\": {\n        \"dtype\": \"number\",\n        \"std\": null,\n        \"min\": 689.7888,\n        \"max\": 689.7888,\n        \"num_unique_values\": 1,\n        \"samples\": [\n          689.7888\n        ],\n        \"semantic_type\": \"\",\n        \"description\": \"\"\n      }\n    },\n    {\n      \"column\": \"Furnishings\",\n      \"properties\": {\n        \"dtype\": \"number\",\n        \"std\": null,\n        \"min\": 10237.7074,\n        \"max\": 10237.7074,\n        \"num_unique_values\": 1,\n        \"samples\": [\n          10237.7074\n        ],\n        \"semantic_type\": \"\",\n        \"description\": \"\"\n      }\n    },\n    {\n      \"column\": \"Labels\",\n      \"properties\": {\n        \"dtype\": \"number\",\n        \"std\": null,\n        \"min\": 4376.8866,\n        \"max\": 4376.8866,\n        \"num_unique_values\": 1,\n        \"samples\": [\n          4376.8866\n        ],\n        \"semantic_type\": \"\",\n        \"description\": \"\"\n      }\n    },\n    {\n      \"column\": \"Machines\",\n      \"properties\": {\n        \"dtype\": \"number\",\n        \"std\": null,\n        \"min\": 6952.916,\n        \"max\": 6952.916,\n        \"num_unique_values\": 1,\n        \"samples\": [\n          6952.916\n        ],\n        \"semantic_type\": \"\",\n        \"description\": \"\"\n      }\n    },\n    {\n      \"column\": \"Paper\",\n      \"properties\": {\n        \"dtype\": \"number\",\n        \"std\": null,\n        \"min\": 22764.078,\n        \"max\": 22764.078,\n        \"num_unique_values\": 1,\n        \"samples\": [\n          22764.078\n        ],\n        \"semantic_type\": \"\",\n        \"description\": \"\"\n      }\n    },\n    {\n      \"column\": \"Phones\",\n      \"properties\": {\n        \"dtype\": \"number\",\n        \"std\": null,\n        \"min\": 33501.5297,\n        \"max\": 33501.5297,\n        \"num_unique_values\": 1,\n        \"samples\": [\n          33501.5297\n        ],\n        \"semantic_type\": \"\",\n        \"description\": \"\"\n      }\n    },\n    {\n      \"column\": \"Storage\",\n      \"properties\": {\n        \"dtype\": \"number\",\n        \"std\": null,\n        \"min\": 15140.335,\n        \"max\": 15140.335,\n        \"num_unique_values\": 1,\n        \"samples\": [\n          15140.335\n        ],\n        \"semantic_type\": \"\",\n        \"description\": \"\"\n      }\n    },\n    {\n      \"column\": \"Supplies\",\n      \"properties\": {\n        \"dtype\": \"number\",\n        \"std\": null,\n        \"min\": -772.5771,\n        \"max\": -772.5771,\n        \"num_unique_values\": 1,\n        \"samples\": [\n          -772.5771\n        ],\n        \"semantic_type\": \"\",\n        \"description\": \"\"\n      }\n    },\n    {\n      \"column\": \"Tables\",\n      \"properties\": {\n        \"dtype\": \"number\",\n        \"std\": null,\n        \"min\": -15419.585,\n        \"max\": -15419.585,\n        \"num_unique_values\": 1,\n        \"samples\": [\n          -15419.585\n        ],\n        \"semantic_type\": \"\",\n        \"description\": \"\"\n      }\n    }\n  ]\n}"
            }
          },
          "metadata": {},
          "execution_count": 29
        }
      ]
    },
    {
      "cell_type": "markdown",
      "source": [
        "The \"Furniture\" category shows a high number of sales and good profits in \"Chairs\" but losses in \"Tables\".  \n",
        "The \"Technology\" category has the highest sales and profits which makes sense because they have higher unit prices and are in demand.\n",
        "The \"Office Supplies\" category contribute the least to sales but sub-categories like \"Storage\" and \"Appliances\" show reasonable profit contributions. This makes sense because most of these items are cost effective."
      ],
      "metadata": {
        "id": "gHvzxfW4TJEn"
      }
    },
    {
      "cell_type": "code",
      "source": [
        "# Aggregate sales by sub-category\n",
        "sub_cat_sales = store_data.groupby('Sub-Category')['Profit'].sum().sort_values(ascending=False).reset_index()\n",
        "\n",
        "# Plotting\n",
        "plt.figure(figsize=(5, 4))\n",
        "sns.barplot(x='Profit', y='Sub-Category', data=sub_cat_sales, palette='viridis')\n",
        "plt.title('Profits by Sub-Category')\n",
        "plt.xlabel('Total Profits')\n",
        "plt.ylabel('Sub-Category')\n",
        "plt.show()"
      ],
      "metadata": {
        "colab": {
          "base_uri": "https://localhost:8080/"
        },
        "id": "4WDnegEbV8xU",
        "outputId": "7fb767bf-c0a0-42b6-a42d-6effbbccaa00"
      },
      "execution_count": null,
      "outputs": [
        {
          "output_type": "stream",
          "name": "stderr",
          "text": [
            "<ipython-input-30-e86e55805e3a>:6: FutureWarning: \n",
            "\n",
            "Passing `palette` without assigning `hue` is deprecated and will be removed in v0.14.0. Assign the `y` variable to `hue` and set `legend=False` for the same effect.\n",
            "\n",
            "  sns.barplot(x='Profit', y='Sub-Category', data=sub_cat_sales, palette='viridis')\n"
          ]
        },
        {
          "output_type": "display_data",
          "data": {
            "text/plain": [
              "<Figure size 500x400 with 1 Axes>"
            ],
            "image/png": "[encoded data removed]"
          },
          "metadata": {}
        }
      ]
    },
    {
      "cell_type": "markdown",
      "source": [
        "### Sales information\n",
        "- Are there any seasonal trends with sales?\n",
        "- How do discounts impact sales and profitability?\n",
        "- What is the relationship between quantity sold and profit?\n",
        "\n",
        "I decided to not remove outliers because they might provide useful information about the store (like seasonal spikes, bulk orders etc.)"
      ],
      "metadata": {
        "id": "QibX8OPmXa2r"
      }
    },
    {
      "cell_type": "code",
      "source": [
        "sns.histplot(data=store_data, x = \"Profit\")"
      ],
      "metadata": {
        "colab": {
          "base_uri": "https://localhost:8080/"
        },
        "id": "008GHGmXX_wP",
        "outputId": "82e1d5c8-b257-4cd9-abbc-32616a89f174"
      },
      "execution_count": null,
      "outputs": [
        {
          "output_type": "execute_result",
          "data": {
            "text/plain": [
              "<Axes: xlabel='Profit', ylabel='Count'>"
            ]
          },
          "metadata": {},
          "execution_count": 31
        },
        {
          "output_type": "display_data",
          "data": {
            "text/plain": [
              "<Figure size 640x480 with 1 Axes>"
            ],
            "image/png": "[encoded data removed]"
          },
          "metadata": {}
        }
      ]
    },
    {
      "cell_type": "code",
      "source": [
        "remove_outliers(\"Profit\")"
      ],
      "metadata": {
        "id": "mSz3fJuc0VzA"
      },
      "execution_count": null,
      "outputs": []
    },
    {
      "cell_type": "code",
      "source": [
        "sns.histplot(data=store_data, x = \"Quantity\")"
      ],
      "metadata": {
        "colab": {
          "base_uri": "https://localhost:8080/"
        },
        "id": "2scQlE0vYPYO",
        "outputId": "19c9fc03-f5d4-4c5b-81c3-1a5bb363ac12"
      },
      "execution_count": null,
      "outputs": [
        {
          "output_type": "execute_result",
          "data": {
            "text/plain": [
              "<Axes: xlabel='Quantity', ylabel='Count'>"
            ]
          },
          "metadata": {},
          "execution_count": 33
        },
        {
          "output_type": "display_data",
          "data": {
            "text/plain": [
              "<Figure size 640x480 with 1 Axes>"
            ],
            "image/png": "[encoded data removed]"
          },
          "metadata": {}
        }
      ]
    },
    {
      "cell_type": "code",
      "source": [
        "# Aggregate sales and profit by discount\n",
        "discount_data = store_data.groupby('Discount')[['Sales', 'Profit']].sum().reset_index()\n",
        "\n",
        "plt.figure(figsize=(5, 4))\n",
        "sns.scatterplot(x='Discount', y='Sales', data=discount_data, color='blue', label='Sales')\n",
        "sns.scatterplot(x='Discount', y='Profit', data=discount_data, color='red', label='Profit')\n",
        "plt.title('Impact of Discounts on Sales and Profit')\n",
        "plt.xlabel('Discount')\n",
        "plt.ylabel('Amount')\n",
        "plt.legend()\n",
        "plt.show()"
      ],
      "metadata": {
        "colab": {
          "base_uri": "https://localhost:8080/"
        },
        "id": "0x38oazUZHbo",
        "outputId": "73999846-449c-447d-813d-fe3cafa01f76"
      },
      "execution_count": null,
      "outputs": [
        {
          "output_type": "display_data",
          "data": {
            "text/plain": [
              "<Figure size 500x400 with 1 Axes>"
            ],
            "image/png": "[encoded data removed]"
          },
          "metadata": {}
        }
      ]
    },
    {
      "cell_type": "markdown",
      "source": [
        "Little to no discount (0 - 0.2) lead to higher profits and sales. As the discount increases, profit and sales drop significantly."
      ],
      "metadata": {
        "id": "HncvGedcZg8H"
      }
    },
    {
      "cell_type": "code",
      "source": [
        "plt.figure(figsize=(5, 4))\n",
        "sns.scatterplot(x='Quantity', y='Profit', data=store_data)\n",
        "plt.title('Relationship Between Quantity Sold and Profit')\n",
        "plt.xlabel('Quantity Sold')\n",
        "plt.ylabel('Profit')\n",
        "plt.show()"
      ],
      "metadata": {
        "colab": {
          "base_uri": "https://localhost:8080/"
        },
        "id": "kMyqA4FSZMsf",
        "outputId": "1d6b5413-f91d-4afd-a3c8-393537df881a"
      },
      "execution_count": null,
      "outputs": [
        {
          "output_type": "display_data",
          "data": {
            "text/plain": [
              "<Figure size 500x400 with 1 Axes>"
            ],
            "image/png": "[encoded data removed]"
          },
          "metadata": {}
        }
      ]
    },
    {
      "cell_type": "markdown",
      "source": [
        "There's a broad spread in profit levels across different quantities sold, with no clear linear relationship indicating that higher quantities directly lead to higher profits. This is supported by the correlation matrix shown above."
      ],
      "metadata": {
        "id": "2U3DT01mZ287"
      }
    },
    {
      "cell_type": "code",
      "source": [
        "# Extract year and month from the order date for grouping\n",
        "store_data['Year-Month'] = store_data['Order Date'].dt.to_period('M')\n",
        "\n",
        "# Aggregate sales by year and month\n",
        "monthly_sales = store_data.groupby('Year-Month')['Sales'].sum().reset_index()\n",
        "\n",
        "# Convert 'Year-Month' to string for plotting\n",
        "monthly_sales['Year-Month'] = monthly_sales['Year-Month'].astype(str)\n",
        "\n",
        "# Plotting\n",
        "plt.figure(figsize=(12, 6))\n",
        "sns.lineplot(x='Year-Month', y='Sales', data=monthly_sales, marker='o', color='b')\n",
        "plt.title('Monthly Sales Trends')\n",
        "plt.xlabel('Month')\n",
        "plt.xticks(rotation=45)\n",
        "plt.ylabel('Sales')\n",
        "plt.grid(True)\n",
        "plt.show()\n"
      ],
      "metadata": {
        "colab": {
          "base_uri": "https://localhost:8080/"
        },
        "id": "CRhWblMFWcaU",
        "outputId": "41b58cc9-5d1d-4eab-bd0b-a360befb9f7d"
      },
      "execution_count": null,
      "outputs": [
        {
          "output_type": "display_data",
          "data": {
            "text/plain": [
              "<Figure size 1200x600 with 1 Axes>"
            ],
            "image/png": "[encoded data removed]"
          },
          "metadata": {}
        }
      ]
    },
    {
      "cell_type": "markdown",
      "source": [
        "There appears to be an upward trend in sales over the years, with peaks becoming generally higher towards the later years in the graph. There are also noticeable seasonal peaks, especially from August-October."
      ],
      "metadata": {
        "id": "YwKseKuGXANJ"
      }
    },
    {
      "cell_type": "markdown",
      "metadata": {
        "id": "UdTTNVzw1WrY"
      },
      "source": [
        "## Imputing data"
      ]
    },
    {
      "cell_type": "markdown",
      "source": [
        "I check for null values in the dataset and nearly 10% of each column is NaN. However, certain categorical variables are dependent on each other."
      ],
      "metadata": {
        "id": "FabI8TyE4Z1J"
      }
    },
    {
      "cell_type": "markdown",
      "source": [
        "Firstly, I use a publically available dataset that consists of zipcodes, cities, and states.\n",
        "I do the following steps to try and fill in missing values for categorical variables:\n",
        "1. City can be determined using Postal Code.\n",
        "2. State can be determined using City\n",
        "\n",
        "I create mappings from zipcodes to cities and states to fill in the missing information"
      ],
      "metadata": {
        "id": "A2pT8vIH5tSI"
      }
    },
    {
      "cell_type": "code",
      "execution_count": null,
      "metadata": {
        "id": "L7UlmSU9eOh8"
      },
      "outputs": [],
      "source": [
        "zipcode_database = pd.read_csv(\"zip_code_database.csv\", header=0)\n",
        "zipcode_database = zipcode_database[[\"zip\", \"primary_city\", \"state\"]]\n",
        "zipcode_database[\"state\"] = zipcode_database[\"state\"].apply(lambda x: us.states.lookup(x).name if us.states.lookup(x) else x)\n",
        "\n",
        "city_map = zipcode_database.set_index('zip')['primary_city']\n",
        "state_map = zipcode_database.set_index('zip')['state']\n",
        "store_data['City'] = store_data['City'].fillna(store_data['Postal Code'].map(city_map))\n",
        "store_data['State'] = store_data['State'].fillna(store_data['Postal Code'].map(state_map))"
      ]
    },
    {
      "cell_type": "code",
      "source": [
        "print(store_data.isnull().sum())"
      ],
      "metadata": {
        "colab": {
          "base_uri": "https://localhost:8080/"
        },
        "id": "xFSE3Vau4YJn",
        "outputId": "8385b5be-664c-4abf-ab48-cdefa58ef94d"
      },
      "execution_count": null,
      "outputs": [
        {
          "output_type": "stream",
          "name": "stdout",
          "text": [
            "Unnamed: 0          0\n",
            "Row ID              0\n",
            "Order ID          999\n",
            "Order Date        999\n",
            "Ship Date         999\n",
            "Ship Mode         999\n",
            "Customer ID       999\n",
            "Customer Name     999\n",
            "Segment           999\n",
            "Country           999\n",
            "City               98\n",
            "State             116\n",
            "Postal Code       999\n",
            "Region            999\n",
            "Product ID        999\n",
            "Category          999\n",
            "Sub-Category      999\n",
            "Product Name      999\n",
            "Sales             999\n",
            "Quantity          999\n",
            "Discount          999\n",
            "Profit            999\n",
            "Shipping days    1885\n",
            "Year-Month        999\n",
            "dtype: int64\n"
          ]
        }
      ]
    },
    {
      "cell_type": "markdown",
      "source": [
        "Next, I fill in missing values for category using the sub-category column. Since there are only 17 sub-categories and 3 categories, we can easily determine which sub-category belongs to which category using a dictionary that maps the subcategories (keys) to catgories (values)."
      ],
      "metadata": {
        "id": "dENOjy626k9Z"
      }
    },
    {
      "cell_type": "code",
      "source": [
        "store_data = store_data[['Ship Mode', 'Segment',\n",
        "       'City', 'State', 'Postal Code', 'Region', 'Category',\n",
        "       'Sub-Category', 'Sales', 'Quantity', 'Discount','Profit', 'Shipping days']]"
      ],
      "metadata": {
        "id": "zlwe6s5VEp56"
      },
      "execution_count": null,
      "outputs": []
    },
    {
      "cell_type": "code",
      "execution_count": null,
      "metadata": {
        "colab": {
          "base_uri": "https://localhost:8080/"
        },
        "id": "e3F5lw-0oEAv",
        "outputId": "8c6bb8ed-e6fc-404b-bb08-b60f42c8998a"
      },
      "outputs": [
        {
          "output_type": "execute_result",
          "data": {
            "text/plain": [
              "array(['Bookcases', 'Chairs', 'Labels', 'Tables', 'Storage',\n",
              "       'Furnishings', 'Art', nan, 'Binders', 'Appliances', 'Phones',\n",
              "       'Accessories', 'Envelopes', 'Paper', 'Fasteners', 'Supplies',\n",
              "       'Machines', 'Copiers'], dtype=object)"
            ]
          },
          "metadata": {},
          "execution_count": 40
        }
      ],
      "source": [
        "store_data['Sub-Category'].unique()"
      ]
    },
    {
      "cell_type": "code",
      "execution_count": null,
      "metadata": {
        "colab": {
          "base_uri": "https://localhost:8080/"
        },
        "id": "IlLFeKEFoLz6",
        "outputId": "8e2d2778-e7c0-4849-9a24-fd36daf4baf0"
      },
      "outputs": [
        {
          "output_type": "execute_result",
          "data": {
            "text/plain": [
              "array(['Furniture', 'Office Supplies', 'Technology', nan], dtype=object)"
            ]
          },
          "metadata": {},
          "execution_count": 41
        }
      ],
      "source": [
        "store_data['Category'].unique()"
      ]
    },
    {
      "cell_type": "code",
      "execution_count": null,
      "metadata": {
        "id": "pTxUH5uKoQA7"
      },
      "outputs": [],
      "source": [
        "null_category = store_data[pd.isna(store_data['Category'])]\n",
        "null_category = store_data[store_data['Category'].isna()]\n",
        "null_category = null_category[['Category','Sub-Category']]"
      ]
    },
    {
      "cell_type": "code",
      "execution_count": null,
      "metadata": {
        "id": "3_yKdMODqEpY"
      },
      "outputs": [],
      "source": [
        "category_dict = {\"Bookcases\": \"Furniture\",\n",
        "                      \"Chairs\": \"Furniture\",\n",
        "                      \"Labels\": \"Office Supplies\",\n",
        "                      \"Tables\": \"Furniture\",\n",
        "                      \"Storage\": \"Furniture\",\n",
        "                      \"Furnishings\": \"Furniture\",\n",
        "                      \"Binders\": \"Office Supplies\",\n",
        "                      \"Appliances\": \"Technology\",\n",
        "                      \"Phones\": \"Technology\",\n",
        "                      \"Envelopes\": \"Office Supplies\",\n",
        "                      \"Paper\": \"Office Supplies\",\n",
        "                      \"Fasteners\": \"Furniture\",\n",
        "                      \"Copiers\" : \"Office Supplies\",\n",
        "                      \"Machines\": \"Technology\"}"
      ]
    },
    {
      "cell_type": "code",
      "execution_count": null,
      "metadata": {
        "id": "K2TlCCJip26R"
      },
      "outputs": [],
      "source": [
        "def impute_cat_from_subcat(row):\n",
        "    # Check if the state is NaN and the city is not NaN\n",
        "    if pd.isnull(row['Category']) and pd.notnull(row['Sub-Category']):\n",
        "        # Check if the city exists in the dictionary\n",
        "        if row['Sub-Category'] in category_dict:\n",
        "            # Return the corresponding state from the dictionary\n",
        "            return category_dict[row['Sub-Category']]\n",
        "    # Return the original state if no conditions are met\n",
        "    return row['Category']"
      ]
    },
    {
      "cell_type": "code",
      "source": [
        "print(store_data.isnull().sum())"
      ],
      "metadata": {
        "colab": {
          "base_uri": "https://localhost:8080/"
        },
        "id": "X_9K4yWd7Fp3",
        "outputId": "75fceca3-a07a-4e0c-e74b-acc11a4af2f3"
      },
      "execution_count": null,
      "outputs": [
        {
          "output_type": "stream",
          "name": "stdout",
          "text": [
            "Ship Mode         999\n",
            "Segment           999\n",
            "City               98\n",
            "State             116\n",
            "Postal Code       999\n",
            "Region            999\n",
            "Category          999\n",
            "Sub-Category      999\n",
            "Sales             999\n",
            "Quantity          999\n",
            "Discount          999\n",
            "Profit            999\n",
            "Shipping days    1885\n",
            "dtype: int64\n"
          ]
        }
      ]
    },
    {
      "cell_type": "code",
      "source": [
        "store_data['Sub-Category'].value_counts()"
      ],
      "metadata": {
        "colab": {
          "base_uri": "https://localhost:8080/"
        },
        "id": "EWLDt3HJRhfd",
        "outputId": "4411c18d-89dd-4369-f7d8-16208bafdf20"
      },
      "execution_count": null,
      "outputs": [
        {
          "output_type": "execute_result",
          "data": {
            "text/plain": [
              "Sub-Category\n",
              "Binders        1370\n",
              "Paper          1233\n",
              "Furnishings     855\n",
              "Phones          795\n",
              "Storage         763\n",
              "Art             717\n",
              "Accessories     700\n",
              "Chairs          560\n",
              "Appliances      417\n",
              "Labels          329\n",
              "Tables          287\n",
              "Envelopes       225\n",
              "Bookcases       208\n",
              "Fasteners       198\n",
              "Supplies        171\n",
              "Machines        104\n",
              "Copiers          63\n",
              "Name: count, dtype: int64"
            ]
          },
          "metadata": {},
          "execution_count": 46
        }
      ]
    },
    {
      "cell_type": "code",
      "source": [
        "def most_common_subcat(x):\n",
        "    return x.mode()[0] if not x.mode().empty else None\n",
        "\n",
        "# Create a mapping of Category to the most common Sub-Category, excluding NaN categories\n",
        "category_to_subcategory = store_data.dropna(subset=['Category']).groupby('Category')['Sub-Category'].apply(most_common_subcat)\n",
        "\n",
        "# Fill missing values in 'Sub-Category' only where 'Category' is not NaN\n",
        "store_data['Sub-Category'] = store_data.apply(\n",
        "    lambda row: category_to_subcategory.get(row['Category'], row['Sub-Category']) if pd.notna(row['Category']) else row['Sub-Category'],\n",
        "    axis=1\n",
        ")"
      ],
      "metadata": {
        "id": "3h3GOMRoR9Uh"
      },
      "execution_count": null,
      "outputs": []
    },
    {
      "cell_type": "code",
      "source": [
        "print(store_data.isnull().sum())"
      ],
      "metadata": {
        "colab": {
          "base_uri": "https://localhost:8080/"
        },
        "id": "DNsbpL8qS0tp",
        "outputId": "d283c6a4-9c3a-484e-ee4e-2cce6d8bce06"
      },
      "execution_count": null,
      "outputs": [
        {
          "output_type": "stream",
          "name": "stdout",
          "text": [
            "Ship Mode         999\n",
            "Segment           999\n",
            "City               98\n",
            "State             116\n",
            "Postal Code       999\n",
            "Region            999\n",
            "Category          999\n",
            "Sub-Category      111\n",
            "Sales             999\n",
            "Quantity          999\n",
            "Discount          999\n",
            "Profit            999\n",
            "Shipping days    1885\n",
            "dtype: int64\n"
          ]
        }
      ]
    },
    {
      "cell_type": "code",
      "source": [
        "mapped_categories = store_data['Sub-Category'].map(category_dict)\n",
        "store_data['Category'] = store_data['Category'].fillna(mapped_categories)\n",
        "print(store_data.isnull().sum())"
      ],
      "metadata": {
        "colab": {
          "base_uri": "https://localhost:8080/"
        },
        "id": "Y2rUSg8Gm2fk",
        "outputId": "9eb6e109-12d3-47bb-bd19-8c9152b4d7fa"
      },
      "execution_count": null,
      "outputs": [
        {
          "output_type": "stream",
          "name": "stdout",
          "text": [
            "Ship Mode         999\n",
            "Segment           999\n",
            "City               98\n",
            "State             116\n",
            "Postal Code       999\n",
            "Region            999\n",
            "Category          274\n",
            "Sub-Category      111\n",
            "Sales             999\n",
            "Quantity          999\n",
            "Discount          999\n",
            "Profit            999\n",
            "Shipping days    1885\n",
            "dtype: int64\n"
          ]
        }
      ]
    },
    {
      "cell_type": "code",
      "source": [
        "store_data['Quantity'].value_counts()"
      ],
      "metadata": {
        "colab": {
          "base_uri": "https://localhost:8080/"
        },
        "id": "0y_PepCwvjGd",
        "outputId": "ecece1a8-7a96-4df0-aef1-afe7ef124b06"
      },
      "execution_count": null,
      "outputs": [
        {
          "output_type": "execute_result",
          "data": {
            "text/plain": [
              "Quantity\n",
              "2.0     2175\n",
              "3.0     2172\n",
              "5.0     1097\n",
              "4.0     1055\n",
              "1.0      807\n",
              "7.0      555\n",
              "6.0      517\n",
              "8.0      232\n",
              "9.0      231\n",
              "10.0      48\n",
              "11.0      32\n",
              "14.0      27\n",
              "13.0      24\n",
              "12.0      23\n",
              "Name: count, dtype: int64"
            ]
          },
          "metadata": {},
          "execution_count": 50
        }
      ]
    },
    {
      "cell_type": "code",
      "source": [
        "store_data.groupby('Category')['Quantity'].sum()"
      ],
      "metadata": {
        "colab": {
          "base_uri": "https://localhost:8080/"
        },
        "id": "PQk6-qqJBHwW",
        "outputId": "dbeb26d4-b143-4c07-9f4e-040081d47b24"
      },
      "execution_count": null,
      "outputs": [
        {
          "output_type": "execute_result",
          "data": {
            "text/plain": [
              "Category\n",
              "Furniture           7549.0\n",
              "Office Supplies    19498.0\n",
              "Technology          6052.0\n",
              "Name: Quantity, dtype: float64"
            ]
          },
          "metadata": {},
          "execution_count": 51
        }
      ]
    },
    {
      "cell_type": "markdown",
      "source": [
        "Given that the quantity varies significantly across different categories, I wanted to use use category-specific statistics to impute values in Quantity. However, the mean and median for all categories is ~3. I will use the median to impute the data"
      ],
      "metadata": {
        "id": "Rk13GCQDCGOV"
      }
    },
    {
      "cell_type": "code",
      "source": [
        "mean = store_data.groupby('Category')['Quantity'].mean()\n",
        "print(mean)\n",
        "# Handle missing 'Category' in lambda\n",
        "store_data['Quantity'] = store_data.apply(\n",
        "    lambda row: mean[row['Category']] if pd.notna(row['Category']) and pd.isnull(row['Quantity']) else row['Quantity'],\n",
        "    axis=1)"
      ],
      "metadata": {
        "colab": {
          "base_uri": "https://localhost:8080/"
        },
        "id": "DrYcvPGLIcB-",
        "outputId": "af202e6f-45f9-41f9-b5cd-6dec5cb18035"
      },
      "execution_count": null,
      "outputs": [
        {
          "output_type": "stream",
          "name": "stdout",
          "text": [
            "Category\n",
            "Furniture          3.831980\n",
            "Office Supplies    3.770644\n",
            "Technology         3.777778\n",
            "Name: Quantity, dtype: float64\n"
          ]
        }
      ]
    },
    {
      "cell_type": "code",
      "source": [
        "mean = store_data.groupby('Category')['Discount'].mean()\n",
        "print(mean)\n",
        "median = store_data.groupby('Category')['Discount'].median()\n",
        "print(median)"
      ],
      "metadata": {
        "colab": {
          "base_uri": "https://localhost:8080/"
        },
        "id": "i0jYCzH7JmKi",
        "outputId": "abe1c4c0-64c3-4fca-9f54-eb299d6aa610"
      },
      "execution_count": null,
      "outputs": [
        {
          "output_type": "stream",
          "name": "stdout",
          "text": [
            "Category\n",
            "Furniture          0.169314\n",
            "Office Supplies    0.160159\n",
            "Technology         0.133639\n",
            "Name: Discount, dtype: float64\n",
            "Category\n",
            "Furniture          0.2\n",
            "Office Supplies    0.0\n",
            "Technology         0.2\n",
            "Name: Discount, dtype: float64\n"
          ]
        }
      ]
    },
    {
      "cell_type": "markdown",
      "source": [
        "The mean for office supplies must be affected by extreme values. Therefore, I will use medians to impute the missing values for Discount."
      ],
      "metadata": {
        "id": "ZHqdXtuUJw94"
      }
    },
    {
      "cell_type": "code",
      "source": [
        "store_data['Discount'] = store_data.apply(\n",
        "    lambda row: median[row['Category']] if pd.notna(row['Category']) and pd.isnull(row['Discount']) else row['Discount'],\n",
        "    axis=1)"
      ],
      "metadata": {
        "id": "owVo9dPaJ-Dj"
      },
      "execution_count": null,
      "outputs": []
    },
    {
      "cell_type": "code",
      "source": [
        "mean = store_data.groupby('Category')['Profit'].mean()\n",
        "print(mean)\n",
        "median = store_data.groupby('Category')['Profit'].median()\n",
        "print(median)"
      ],
      "metadata": {
        "colab": {
          "base_uri": "https://localhost:8080/"
        },
        "id": "4cRyDa7nKKAs",
        "outputId": "d86cc77b-14e8-45ec-baa6-87c420ef11b7"
      },
      "execution_count": null,
      "outputs": [
        {
          "output_type": "stream",
          "name": "stdout",
          "text": [
            "Category\n",
            "Furniture          10.348815\n",
            "Office Supplies    19.501471\n",
            "Technology         74.045992\n",
            "Name: Profit, dtype: float64\n",
            "Category\n",
            "Furniture           7.8036\n",
            "Office Supplies     6.8824\n",
            "Technology         25.1916\n",
            "Name: Profit, dtype: float64\n"
          ]
        }
      ]
    },
    {
      "cell_type": "markdown",
      "source": [
        "Since the data is skewed, the median better represents the \"typical\" profit value without being overly influenced by extreme outliers."
      ],
      "metadata": {
        "id": "Zf44QcxcNzML"
      }
    },
    {
      "cell_type": "code",
      "source": [
        "# Fill missing values in 'Profit' based on the median of the respective category\n",
        "store_data['Profit'] = store_data.apply(\n",
        "    lambda row: median[row['Category']] if pd.notna(row['Category']) and pd.isnull(row['Profit']) else row['Profit'],\n",
        "    axis=1)"
      ],
      "metadata": {
        "id": "P0XrMzOHN9TQ"
      },
      "execution_count": null,
      "outputs": []
    },
    {
      "cell_type": "code",
      "source": [
        "mean = store_data.groupby('Category')['Sales'].mean()\n",
        "print(mean, \"\\n\")\n",
        "median = store_data.groupby('Category')['Sales'].median()\n",
        "print(median)\n",
        "\n",
        "# Fill missing values in 'Profit' based on the median of the respective category\n",
        "store_data['Sales'] = store_data.apply(\n",
        "    lambda row: median[row['Category']] if pd.notna(row['Category']) and pd.isnull(row['Sales']) else row['Sales'],\n",
        "    axis=1)"
      ],
      "metadata": {
        "colab": {
          "base_uri": "https://localhost:8080/"
        },
        "id": "oLNbda83PQJE",
        "outputId": "9c6b1091-e636-40f3-b869-0c49eb150e70"
      },
      "execution_count": null,
      "outputs": [
        {
          "output_type": "stream",
          "name": "stdout",
          "text": [
            "Category\n",
            "Furniture          353.313193\n",
            "Office Supplies    118.669326\n",
            "Technology         447.255590\n",
            "Name: Sales, dtype: float64 \n",
            "\n",
            "Category\n",
            "Furniture          182.745\n",
            "Office Supplies     26.968\n",
            "Technology         167.970\n",
            "Name: Sales, dtype: float64\n"
          ]
        }
      ]
    },
    {
      "cell_type": "markdown",
      "source": [
        "The difference between mean and median values indicates that the data is skewed to the right. I will use the median to impute the data since it is less sensitive to outliers."
      ],
      "metadata": {
        "id": "ahC8ZzBYPi3U"
      }
    },
    {
      "cell_type": "code",
      "source": [
        "# Use groupby and mode to determine the most common Region for each State\n",
        "state_region_mapping = store_data.dropna(subset=['Region']).groupby('State')['Region'].agg(lambda x: pd.Series.mode(x)[0]).to_dict()\n",
        "\n",
        "# Fill missing Region values using the mapped values from the State\n",
        "store_data['Region'] = store_data.apply(lambda row: state_region_mapping.get(row['State'], row['Region']) if pd.isnull(row['Region']) else row['Region'], axis=1)"
      ],
      "metadata": {
        "id": "0DcCfZuUsnlZ"
      },
      "execution_count": null,
      "outputs": []
    },
    {
      "cell_type": "code",
      "source": [
        "# zipcode_database = pd.read_csv(\"zip_code_database.csv\", header=0)\n",
        "# zipcode_database = zipcode_database[[\"zip\", \"primary_city\", \"state\"]]\n",
        "# zipcode_database[\"state\"] = zipcode_database[\"state\"].apply(lambda x: us.states.lookup(x).name if us.states.lookup(x) else x)\n",
        "postal_dict = zipcode_database.set_index(['primary_city', 'state'])['zip'].to_dict()\n",
        "\n",
        "store_data['Postal Code'] = store_data.apply(\n",
        "    lambda row: postal_dict.get((row['City'], row['State'])) if pd.isnull(row['Postal Code']) else row['Postal Code'],\n",
        "    axis=1)"
      ],
      "metadata": {
        "id": "qQb5QymDs9vU"
      },
      "execution_count": null,
      "outputs": []
    },
    {
      "cell_type": "markdown",
      "source": [
        "I use mode imputation for Ship Mode, Segment, and Shipping days since it is representative of the most common category. I think this also helps me maintain consistency with the data because in this case it reflects existing patterns in the data."
      ],
      "metadata": {
        "id": "T6yC27JgTv4r"
      }
    },
    {
      "cell_type": "code",
      "source": [
        "store_data['Ship Mode'].value_counts()\n",
        "store_data['Segment'].value_counts()\n",
        "store_data['Shipping days'].value_counts()"
      ],
      "metadata": {
        "colab": {
          "base_uri": "https://localhost:8080/"
        },
        "id": "6osLi6UeUHT7",
        "outputId": "088778c9-cd52-4cdd-c0a4-94185628fc02"
      },
      "execution_count": null,
      "outputs": [
        {
          "output_type": "execute_result",
          "data": {
            "text/plain": [
              "Shipping days\n",
              "4.0    2258\n",
              "5.0    1752\n",
              "2.0    1079\n",
              "6.0     986\n",
              "3.0     823\n",
              "7.0     502\n",
              "0.0     426\n",
              "1.0     283\n",
              "Name: count, dtype: int64"
            ]
          },
          "metadata": {},
          "execution_count": 60
        }
      ]
    },
    {
      "cell_type": "code",
      "source": [
        "# Calculate the mode for the necessary columns\n",
        "ship_mode_mode = store_data['Ship Mode'].mode()[0]\n",
        "segment_mode = store_data['Segment'].mode()[0]\n",
        "shipping_days_mode = store_data['Shipping days'].mode()[0]\n",
        "\n",
        "# Fill missing values with the mode\n",
        "store_data['Ship Mode'].fillna(ship_mode_mode, inplace=True)\n",
        "store_data['Segment'].fillna(segment_mode, inplace=True)\n",
        "store_data['Shipping days'].fillna(shipping_days_mode, inplace=True)\n",
        "\n",
        "print(store_data.isnull().sum())"
      ],
      "metadata": {
        "colab": {
          "base_uri": "https://localhost:8080/"
        },
        "id": "JaGOjn2MTvcz",
        "outputId": "044cd516-c45a-4e40-c9c1-fefece5d2470"
      },
      "execution_count": null,
      "outputs": [
        {
          "output_type": "stream",
          "name": "stdout",
          "text": [
            "Ship Mode          0\n",
            "Segment            0\n",
            "City              98\n",
            "State            116\n",
            "Postal Code      285\n",
            "Region            18\n",
            "Category         274\n",
            "Sub-Category     111\n",
            "Sales             32\n",
            "Quantity          22\n",
            "Discount          28\n",
            "Profit            32\n",
            "Shipping days      0\n",
            "dtype: int64\n"
          ]
        }
      ]
    },
    {
      "cell_type": "code",
      "source": [
        "print(store_data.isnull().sum())"
      ],
      "metadata": {
        "colab": {
          "base_uri": "https://localhost:8080/"
        },
        "id": "zucC7HZJODpw",
        "outputId": "93b427b3-0cb2-4d81-d8ce-e47928a86b33"
      },
      "execution_count": null,
      "outputs": [
        {
          "output_type": "stream",
          "name": "stdout",
          "text": [
            "Ship Mode          0\n",
            "Segment            0\n",
            "City              98\n",
            "State            116\n",
            "Postal Code      285\n",
            "Region            18\n",
            "Category         274\n",
            "Sub-Category     111\n",
            "Sales             32\n",
            "Quantity          22\n",
            "Discount          28\n",
            "Profit            32\n",
            "Shipping days      0\n",
            "dtype: int64\n"
          ]
        }
      ]
    },
    {
      "cell_type": "code",
      "source": [
        "store_data"
      ],
      "metadata": {
        "colab": {
          "base_uri": "https://localhost:8080/"
        },
        "id": "cbnl1mmJCQUL",
        "outputId": "accb6fae-486e-491d-964a-a080cef34f45"
      },
      "execution_count": null,
      "outputs": [
        {
          "output_type": "execute_result",
          "data": {
            "text/plain": [
              "           Ship Mode    Segment             City       State  Postal Code  \\\n",
              "0     Standard Class   Consumer        Henderson    Kentucky      42420.0   \n",
              "1       Second Class   Consumer        Henderson    Kentucky      42420.0   \n",
              "2       Second Class  Corporate      Los Angeles  California      90036.0   \n",
              "3     Standard Class   Consumer  Fort Lauderdale     Florida      33311.0   \n",
              "4     Standard Class   Consumer  Fort Lauderdale     Florida      33311.0   \n",
              "...              ...        ...              ...         ...          ...   \n",
              "9989    Second Class   Consumer            Miami         NaN          NaN   \n",
              "9990  Standard Class   Consumer       Costa Mesa  California      92627.0   \n",
              "9991  Standard Class   Consumer       Costa Mesa  California      92627.0   \n",
              "9992  Standard Class   Consumer       Costa Mesa  California      92627.0   \n",
              "9993  Standard Class   Consumer      Westminster  California      92683.0   \n",
              "\n",
              "     Region         Category Sub-Category     Sales  Quantity  Discount  \\\n",
              "0     South        Furniture  Furnishings  182.7450       2.0       0.0   \n",
              "1     South        Furniture  Furnishings  731.9400       3.0       0.0   \n",
              "2      West  Office Supplies      Binders   14.6200       2.0       0.0   \n",
              "3     South        Furniture  Furnishings  957.5775       5.0       0.2   \n",
              "4     South  Office Supplies      Binders   22.3680       2.0       0.2   \n",
              "...     ...              ...          ...       ...       ...       ...   \n",
              "9989  South        Furniture  Furnishings   25.2480       3.0       0.2   \n",
              "9990   West        Furniture  Furnishings   91.9600       2.0       0.0   \n",
              "9991   West       Technology       Phones  258.5760       2.0       0.2   \n",
              "9992   West  Office Supplies      Binders   26.9680       4.0       0.0   \n",
              "9993   West  Office Supplies      Binders  243.1600       2.0       0.0   \n",
              "\n",
              "        Profit  Shipping days  \n",
              "0      41.9136            3.0  \n",
              "1     219.5820            3.0  \n",
              "2       6.8714            4.0  \n",
              "3    -383.0310            7.0  \n",
              "4       2.5164            7.0  \n",
              "...        ...            ...  \n",
              "9989    4.1028            2.0  \n",
              "9990   15.6332            5.0  \n",
              "9991   19.3932            5.0  \n",
              "9992   13.3200            5.0  \n",
              "9993    6.8824            5.0  \n",
              "\n",
              "[9994 rows x 13 columns]"
            ],
            "text/html": [
              "\n",
              "  <div id=\"df-0f8f2b90-c2fa-476c-9af2-75014e38b483\" class=\"colab-df-container\">\n",
              "    <div>\n",
              "<style scoped>\n",
              "    .dataframe tbody tr th:only-of-type {\n",
              "        vertical-align: middle;\n",
              "    }\n",
              "\n",
              "    .dataframe tbody tr th {\n",
              "        vertical-align: top;\n",
              "    }\n",
              "\n",
              "    .dataframe thead th {\n",
              "        text-align: right;\n",
              "    }\n",
              "</style>\n",
              "<table border=\"1\" class=\"dataframe\">\n",
              "  <thead>\n",
              "    <tr style=\"text-align: right;\">\n",
              "      <th></th>\n",
              "      <th>Ship Mode</th>\n",
              "      <th>Segment</th>\n",
              "      <th>City</th>\n",
              "      <th>State</th>\n",
              "      <th>Postal Code</th>\n",
              "      <th>Region</th>\n",
              "      <th>Category</th>\n",
              "      <th>Sub-Category</th>\n",
              "      <th>Sales</th>\n",
              "      <th>Quantity</th>\n",
              "      <th>Discount</th>\n",
              "      <th>Profit</th>\n",
              "      <th>Shipping days</th>\n",
              "    </tr>\n",
              "  </thead>\n",
              "  <tbody>\n",
              "    <tr>\n",
              "      <th>0</th>\n",
              "      <td>Standard Class</td>\n",
              "      <td>Consumer</td>\n",
              "      <td>Henderson</td>\n",
              "      <td>Kentucky</td>\n",
              "      <td>42420.0</td>\n",
              "      <td>South</td>\n",
              "      <td>Furniture</td>\n",
              "      <td>Furnishings</td>\n",
              "      <td>182.7450</td>\n",
              "      <td>2.0</td>\n",
              "      <td>0.0</td>\n",
              "      <td>41.9136</td>\n",
              "      <td>3.0</td>\n",
              "    </tr>\n",
              "    <tr>\n",
              "      <th>1</th>\n",
              "      <td>Second Class</td>\n",
              "      <td>Consumer</td>\n",
              "      <td>Henderson</td>\n",
              "      <td>Kentucky</td>\n",
              "      <td>42420.0</td>\n",
              "      <td>South</td>\n",
              "      <td>Furniture</td>\n",
              "      <td>Furnishings</td>\n",
              "      <td>731.9400</td>\n",
              "      <td>3.0</td>\n",
              "      <td>0.0</td>\n",
              "      <td>219.5820</td>\n",
              "      <td>3.0</td>\n",
              "    </tr>\n",
              "    <tr>\n",
              "      <th>2</th>\n",
              "      <td>Second Class</td>\n",
              "      <td>Corporate</td>\n",
              "      <td>Los Angeles</td>\n",
              "      <td>California</td>\n",
              "      <td>90036.0</td>\n",
              "      <td>West</td>\n",
              "      <td>Office Supplies</td>\n",
              "      <td>Binders</td>\n",
              "      <td>14.6200</td>\n",
              "      <td>2.0</td>\n",
              "      <td>0.0</td>\n",
              "      <td>6.8714</td>\n",
              "      <td>4.0</td>\n",
              "    </tr>\n",
              "    <tr>\n",
              "      <th>3</th>\n",
              "      <td>Standard Class</td>\n",
              "      <td>Consumer</td>\n",
              "      <td>Fort Lauderdale</td>\n",
              "      <td>Florida</td>\n",
              "      <td>33311.0</td>\n",
              "      <td>South</td>\n",
              "      <td>Furniture</td>\n",
              "      <td>Furnishings</td>\n",
              "      <td>957.5775</td>\n",
              "      <td>5.0</td>\n",
              "      <td>0.2</td>\n",
              "      <td>-383.0310</td>\n",
              "      <td>7.0</td>\n",
              "    </tr>\n",
              "    <tr>\n",
              "      <th>4</th>\n",
              "      <td>Standard Class</td>\n",
              "      <td>Consumer</td>\n",
              "      <td>Fort Lauderdale</td>\n",
              "      <td>Florida</td>\n",
              "      <td>33311.0</td>\n",
              "      <td>South</td>\n",
              "      <td>Office Supplies</td>\n",
              "      <td>Binders</td>\n",
              "      <td>22.3680</td>\n",
              "      <td>2.0</td>\n",
              "      <td>0.2</td>\n",
              "      <td>2.5164</td>\n",
              "      <td>7.0</td>\n",
              "    </tr>\n",
              "    <tr>\n",
              "      <th>...</th>\n",
              "      <td>...</td>\n",
              "      <td>...</td>\n",
              "      <td>...</td>\n",
              "      <td>...</td>\n",
              "      <td>...</td>\n",
              "      <td>...</td>\n",
              "      <td>...</td>\n",
              "      <td>...</td>\n",
              "      <td>...</td>\n",
              "      <td>...</td>\n",
              "      <td>...</td>\n",
              "      <td>...</td>\n",
              "      <td>...</td>\n",
              "    </tr>\n",
              "    <tr>\n",
              "      <th>9989</th>\n",
              "      <td>Second Class</td>\n",
              "      <td>Consumer</td>\n",
              "      <td>Miami</td>\n",
              "      <td>NaN</td>\n",
              "      <td>NaN</td>\n",
              "      <td>South</td>\n",
              "      <td>Furniture</td>\n",
              "      <td>Furnishings</td>\n",
              "      <td>25.2480</td>\n",
              "      <td>3.0</td>\n",
              "      <td>0.2</td>\n",
              "      <td>4.1028</td>\n",
              "      <td>2.0</td>\n",
              "    </tr>\n",
              "    <tr>\n",
              "      <th>9990</th>\n",
              "      <td>Standard Class</td>\n",
              "      <td>Consumer</td>\n",
              "      <td>Costa Mesa</td>\n",
              "      <td>California</td>\n",
              "      <td>92627.0</td>\n",
              "      <td>West</td>\n",
              "      <td>Furniture</td>\n",
              "      <td>Furnishings</td>\n",
              "      <td>91.9600</td>\n",
              "      <td>2.0</td>\n",
              "      <td>0.0</td>\n",
              "      <td>15.6332</td>\n",
              "      <td>5.0</td>\n",
              "    </tr>\n",
              "    <tr>\n",
              "      <th>9991</th>\n",
              "      <td>Standard Class</td>\n",
              "      <td>Consumer</td>\n",
              "      <td>Costa Mesa</td>\n",
              "      <td>California</td>\n",
              "      <td>92627.0</td>\n",
              "      <td>West</td>\n",
              "      <td>Technology</td>\n",
              "      <td>Phones</td>\n",
              "      <td>258.5760</td>\n",
              "      <td>2.0</td>\n",
              "      <td>0.2</td>\n",
              "      <td>19.3932</td>\n",
              "      <td>5.0</td>\n",
              "    </tr>\n",
              "    <tr>\n",
              "      <th>9992</th>\n",
              "      <td>Standard Class</td>\n",
              "      <td>Consumer</td>\n",
              "      <td>Costa Mesa</td>\n",
              "      <td>California</td>\n",
              "      <td>92627.0</td>\n",
              "      <td>West</td>\n",
              "      <td>Office Supplies</td>\n",
              "      <td>Binders</td>\n",
              "      <td>26.9680</td>\n",
              "      <td>4.0</td>\n",
              "      <td>0.0</td>\n",
              "      <td>13.3200</td>\n",
              "      <td>5.0</td>\n",
              "    </tr>\n",
              "    <tr>\n",
              "      <th>9993</th>\n",
              "      <td>Standard Class</td>\n",
              "      <td>Consumer</td>\n",
              "      <td>Westminster</td>\n",
              "      <td>California</td>\n",
              "      <td>92683.0</td>\n",
              "      <td>West</td>\n",
              "      <td>Office Supplies</td>\n",
              "      <td>Binders</td>\n",
              "      <td>243.1600</td>\n",
              "      <td>2.0</td>\n",
              "      <td>0.0</td>\n",
              "      <td>6.8824</td>\n",
              "      <td>5.0</td>\n",
              "    </tr>\n",
              "  </tbody>\n",
              "</table>\n",
              "<p>9994 rows × 13 columns</p>\n",
              "</div>\n",
              "    <div class=\"colab-df-buttons\">\n",
              "\n",
              "  <div class=\"colab-df-container\">\n",
              "    <button class=\"colab-df-convert\" onclick=\"convertToInteractive('df-0f8f2b90-c2fa-476c-9af2-75014e38b483')\"\n",
              "            title=\"Convert this dataframe to an interactive table.\"\n",
              "            style=\"display:none;\">\n",
              "\n",
              "  <svg xmlns=\"http://www.w3.org/2000/svg\" height=\"24px\" viewBox=\"0 -960 960 960\">\n",
              "    <path d=\"M120-120v-720h720v720H120Zm60-500h600v-160H180v160Zm220 220h160v-160H400v160Zm0 220h160v-160H400v160ZM180-400h160v-160H180v160Zm440 0h160v-160H620v160ZM180-180h160v-160H180v160Zm440 0h160v-160H620v160Z\"/>\n",
              "  </svg>\n",
              "    </button>\n",
              "\n",
              "  <style>\n",
              "    .colab-df-container {\n",
              "      display:flex;\n",
              "      gap: 12px;\n",
              "    }\n",
              "\n",
              "    .colab-df-convert {\n",
              "      background-color: #E8F0FE;\n",
              "      border: none;\n",
              "      border-radius: 50%;\n",
              "      cursor: pointer;\n",
              "      display: none;\n",
              "      fill: #1967D2;\n",
              "      height: 32px;\n",
              "      padding: 0 0 0 0;\n",
              "      width: 32px;\n",
              "    }\n",
              "\n",
              "    .colab-df-convert:hover {\n",
              "      background-color: #E2EBFA;\n",
              "      box-shadow: 0px 1px 2px rgba(60, 64, 67, 0.3), 0px 1px 3px 1px rgba(60, 64, 67, 0.15);\n",
              "      fill: #174EA6;\n",
              "    }\n",
              "\n",
              "    .colab-df-buttons div {\n",
              "      margin-bottom: 4px;\n",
              "    }\n",
              "\n",
              "    [theme=dark] .colab-df-convert {\n",
              "      background-color: #3B4455;\n",
              "      fill: #D2E3FC;\n",
              "    }\n",
              "\n",
              "    [theme=dark] .colab-df-convert:hover {\n",
              "      background-color: #434B5C;\n",
              "      box-shadow: 0px 1px 3px 1px rgba(0, 0, 0, 0.15);\n",
              "      filter: drop-shadow(0px 1px 2px rgba(0, 0, 0, 0.3));\n",
              "      fill: #FFFFFF;\n",
              "    }\n",
              "  </style>\n",
              "\n",
              "    <script>\n",
              "      const buttonEl =\n",
              "        document.querySelector('#df-0f8f2b90-c2fa-476c-9af2-75014e38b483 button.colab-df-convert');\n",
              "      buttonEl.style.display =\n",
              "        google.colab.kernel.accessAllowed ? 'block' : 'none';\n",
              "\n",
              "      async function convertToInteractive(key) {\n",
              "        const element = document.querySelector('#df-0f8f2b90-c2fa-476c-9af2-75014e38b483');\n",
              "        const dataTable =\n",
              "          await google.colab.kernel.invokeFunction('convertToInteractive',\n",
              "                                                    [key], {});\n",
              "        if (!dataTable) return;\n",
              "\n",
              "        const docLinkHtml = 'Like what you see? Visit the ' +\n",
              "          '<a target=\"_blank\" href=https://colab.research.google.com/notebooks/data_table.ipynb>data table notebook</a>'\n",
              "          + ' to learn more about interactive tables.';\n",
              "        element.innerHTML = '';\n",
              "        dataTable['output_type'] = 'display_data';\n",
              "        await google.colab.output.renderOutput(dataTable, element);\n",
              "        const docLink = document.createElement('div');\n",
              "        docLink.innerHTML = docLinkHtml;\n",
              "        element.appendChild(docLink);\n",
              "      }\n",
              "    </script>\n",
              "  </div>\n",
              "\n",
              "\n",
              "<div id=\"df-97f29600-e43e-4d38-8bc3-509bfc0265c9\">\n",
              "  <button class=\"colab-df-quickchart\" onclick=\"quickchart('df-97f29600-e43e-4d38-8bc3-509bfc0265c9')\"\n",
              "            title=\"Suggest charts\"\n",
              "            style=\"display:none;\">\n",
              "\n",
              "<svg xmlns=\"http://www.w3.org/2000/svg\" height=\"24px\"viewBox=\"0 0 24 24\"\n",
              "     width=\"24px\">\n",
              "    <g>\n",
              "        <path d=\"M19 3H5c-1.1 0-2 .9-2 2v14c0 1.1.9 2 2 2h14c1.1 0 2-.9 2-2V5c0-1.1-.9-2-2-2zM9 17H7v-7h2v7zm4 0h-2V7h2v10zm4 0h-2v-4h2v4z\"/>\n",
              "    </g>\n",
              "</svg>\n",
              "  </button>\n",
              "\n",
              "<style>\n",
              "  .colab-df-quickchart {\n",
              "      --bg-color: #E8F0FE;\n",
              "      --fill-color: #1967D2;\n",
              "      --hover-bg-color: #E2EBFA;\n",
              "      --hover-fill-color: #174EA6;\n",
              "      --disabled-fill-color: #AAA;\n",
              "      --disabled-bg-color: #DDD;\n",
              "  }\n",
              "\n",
              "  [theme=dark] .colab-df-quickchart {\n",
              "      --bg-color: #3B4455;\n",
              "      --fill-color: #D2E3FC;\n",
              "      --hover-bg-color: #434B5C;\n",
              "      --hover-fill-color: #FFFFFF;\n",
              "      --disabled-bg-color: #3B4455;\n",
              "      --disabled-fill-color: #666;\n",
              "  }\n",
              "\n",
              "  .colab-df-quickchart {\n",
              "    background-color: var(--bg-color);\n",
              "    border: none;\n",
              "    border-radius: 50%;\n",
              "    cursor: pointer;\n",
              "    display: none;\n",
              "    fill: var(--fill-color);\n",
              "    height: 32px;\n",
              "    padding: 0;\n",
              "    width: 32px;\n",
              "  }\n",
              "\n",
              "  .colab-df-quickchart:hover {\n",
              "    background-color: var(--hover-bg-color);\n",
              "    box-shadow: 0 1px 2px rgba(60, 64, 67, 0.3), 0 1px 3px 1px rgba(60, 64, 67, 0.15);\n",
              "    fill: var(--button-hover-fill-color);\n",
              "  }\n",
              "\n",
              "  .colab-df-quickchart-complete:disabled,\n",
              "  .colab-df-quickchart-complete:disabled:hover {\n",
              "    background-color: var(--disabled-bg-color);\n",
              "    fill: var(--disabled-fill-color);\n",
              "    box-shadow: none;\n",
              "  }\n",
              "\n",
              "  .colab-df-spinner {\n",
              "    border: 2px solid var(--fill-color);\n",
              "    border-color: transparent;\n",
              "    border-bottom-color: var(--fill-color);\n",
              "    animation:\n",
              "      spin 1s steps(1) infinite;\n",
              "  }\n",
              "\n",
              "  @keyframes spin {\n",
              "    0% {\n",
              "      border-color: transparent;\n",
              "      border-bottom-color: var(--fill-color);\n",
              "      border-left-color: var(--fill-color);\n",
              "    }\n",
              "    20% {\n",
              "      border-color: transparent;\n",
              "      border-left-color: var(--fill-color);\n",
              "      border-top-color: var(--fill-color);\n",
              "    }\n",
              "    30% {\n",
              "      border-color: transparent;\n",
              "      border-left-color: var(--fill-color);\n",
              "      border-top-color: var(--fill-color);\n",
              "      border-right-color: var(--fill-color);\n",
              "    }\n",
              "    40% {\n",
              "      border-color: transparent;\n",
              "      border-right-color: var(--fill-color);\n",
              "      border-top-color: var(--fill-color);\n",
              "    }\n",
              "    60% {\n",
              "      border-color: transparent;\n",
              "      border-right-color: var(--fill-color);\n",
              "    }\n",
              "    80% {\n",
              "      border-color: transparent;\n",
              "      border-right-color: var(--fill-color);\n",
              "      border-bottom-color: var(--fill-color);\n",
              "    }\n",
              "    90% {\n",
              "      border-color: transparent;\n",
              "      border-bottom-color: var(--fill-color);\n",
              "    }\n",
              "  }\n",
              "</style>\n",
              "\n",
              "  <script>\n",
              "    async function quickchart(key) {\n",
              "      const quickchartButtonEl =\n",
              "        document.querySelector('#' + key + ' button');\n",
              "      quickchartButtonEl.disabled = true;  // To prevent multiple clicks.\n",
              "      quickchartButtonEl.classList.add('colab-df-spinner');\n",
              "      try {\n",
              "        const charts = await google.colab.kernel.invokeFunction(\n",
              "            'suggestCharts', [key], {});\n",
              "      } catch (error) {\n",
              "        console.error('Error during call to suggestCharts:', error);\n",
              "      }\n",
              "      quickchartButtonEl.classList.remove('colab-df-spinner');\n",
              "      quickchartButtonEl.classList.add('colab-df-quickchart-complete');\n",
              "    }\n",
              "    (() => {\n",
              "      let quickchartButtonEl =\n",
              "        document.querySelector('#df-97f29600-e43e-4d38-8bc3-509bfc0265c9 button');\n",
              "      quickchartButtonEl.style.display =\n",
              "        google.colab.kernel.accessAllowed ? 'block' : 'none';\n",
              "    })();\n",
              "  </script>\n",
              "</div>\n",
              "    </div>\n",
              "  </div>\n"
            ],
            "application/vnd.google.colaboratory.intrinsic+json": {
              "type": "dataframe",
              "variable_name": "store_data",
              "summary": "{\n  \"name\": \"store_data\",\n  \"rows\": 9994,\n  \"fields\": [\n    {\n      \"column\": \"Ship Mode\",\n      \"properties\": {\n        \"dtype\": \"category\",\n        \"num_unique_values\": 4,\n        \"samples\": [\n          \"Second Class\",\n          \"Same Day\",\n          \"Standard Class\"\n        ],\n        \"semantic_type\": \"\",\n        \"description\": \"\"\n      }\n    },\n    {\n      \"column\": \"Segment\",\n      \"properties\": {\n        \"dtype\": \"category\",\n        \"num_unique_values\": 3,\n        \"samples\": [\n          \"Consumer\",\n          \"Corporate\",\n          \"Home Office\"\n        ],\n        \"semantic_type\": \"\",\n        \"description\": \"\"\n      }\n    },\n    {\n      \"column\": \"City\",\n      \"properties\": {\n        \"dtype\": \"category\",\n        \"num_unique_values\": 533,\n        \"samples\": [\n          \"Madison\",\n          \"West Palm Beach\",\n          \"Louisville\"\n        ],\n        \"semantic_type\": \"\",\n        \"description\": \"\"\n      }\n    },\n    {\n      \"column\": \"State\",\n      \"properties\": {\n        \"dtype\": \"category\",\n        \"num_unique_values\": 50,\n        \"samples\": [\n          \"Delaware\",\n          \"Maryland\",\n          \"New Jersey\"\n        ],\n        \"semantic_type\": \"\",\n        \"description\": \"\"\n      }\n    },\n    {\n      \"column\": \"Postal Code\",\n      \"properties\": {\n        \"dtype\": \"number\",\n        \"std\": 31947.087138648323,\n        \"min\": 1040.0,\n        \"max\": 99302.0,\n        \"num_unique_values\": 833,\n        \"samples\": [\n          58103.0,\n          55433.0,\n          61701.0\n        ],\n        \"semantic_type\": \"\",\n        \"description\": \"\"\n      }\n    },\n    {\n      \"column\": \"Region\",\n      \"properties\": {\n        \"dtype\": \"category\",\n        \"num_unique_values\": 4,\n        \"samples\": [\n          \"West\",\n          \"East\",\n          \"South\"\n        ],\n        \"semantic_type\": \"\",\n        \"description\": \"\"\n      }\n    },\n    {\n      \"column\": \"Category\",\n      \"properties\": {\n        \"dtype\": \"category\",\n        \"num_unique_values\": 3,\n        \"samples\": [\n          \"Furniture\",\n          \"Office Supplies\",\n          \"Technology\"\n        ],\n        \"semantic_type\": \"\",\n        \"description\": \"\"\n      }\n    },\n    {\n      \"column\": \"Sub-Category\",\n      \"properties\": {\n        \"dtype\": \"category\",\n        \"num_unique_values\": 17,\n        \"samples\": [\n          \"Furnishings\",\n          \"Binders\",\n          \"Storage\"\n        ],\n        \"semantic_type\": \"\",\n        \"description\": \"\"\n      }\n    },\n    {\n      \"column\": \"Sales\",\n      \"properties\": {\n        \"dtype\": \"number\",\n        \"std\": 595.504139149079,\n        \"min\": 0.444,\n        \"max\": 22638.48,\n        \"num_unique_values\": 5441,\n        \"samples\": [\n          452.94,\n          2803.92,\n          254.744\n        ],\n        \"semantic_type\": \"\",\n        \"description\": \"\"\n      }\n    },\n    {\n      \"column\": \"Quantity\",\n      \"properties\": {\n        \"dtype\": \"number\",\n        \"std\": 2.119697096906843,\n        \"min\": 1.0,\n        \"max\": 14.0,\n        \"num_unique_values\": 17,\n        \"samples\": [\n          2.0,\n          3.0,\n          6.0\n        ],\n        \"semantic_type\": \"\",\n        \"description\": \"\"\n      }\n    },\n    {\n      \"column\": \"Discount\",\n      \"properties\": {\n        \"dtype\": \"number\",\n        \"std\": 0.19855323556017737,\n        \"min\": 0.0,\n        \"max\": 0.8,\n        \"num_unique_values\": 12,\n        \"samples\": [\n          0.45,\n          0.4,\n          0.0\n        ],\n        \"semantic_type\": \"\",\n        \"description\": \"\"\n      }\n    },\n    {\n      \"column\": \"Profit\",\n      \"properties\": {\n        \"dtype\": \"number\",\n        \"std\": 216.84683320546765,\n        \"min\": -6599.978,\n        \"max\": 8399.976,\n        \"num_unique_values\": 6722,\n        \"samples\": [\n          146.2405,\n          76.7904,\n          85.5297\n        ],\n        \"semantic_type\": \"\",\n        \"description\": \"\"\n      }\n    },\n    {\n      \"column\": \"Shipping days\",\n      \"properties\": {\n        \"dtype\": \"number\",\n        \"std\": 1.5723886190600742,\n        \"min\": 0.0,\n        \"max\": 7.0,\n        \"num_unique_values\": 8,\n        \"samples\": [\n          4.0,\n          6.0,\n          3.0\n        ],\n        \"semantic_type\": \"\",\n        \"description\": \"\"\n      }\n    }\n  ]\n}"
            }
          },
          "metadata": {},
          "execution_count": 63
        }
      ]
    },
    {
      "cell_type": "markdown",
      "source": [
        "## Latitude and Longitude"
      ],
      "metadata": {
        "id": "qPDa22sQK1Sn"
      }
    },
    {
      "cell_type": "markdown",
      "source": [
        "Next, I am preparing to use this data for my machine learning model. For that, I need information about longitude and latitude which will be extracted using the zipcode."
      ],
      "metadata": {
        "id": "Uuw6cZ2UUocv"
      }
    },
    {
      "cell_type": "code",
      "source": [
        "long_lat = pd.read_csv(\"zip_code_database.csv\", usecols=[\"zip\", \"latitude\", \"longitude\"])\n",
        "long_lat['zip'] = long_lat['zip'].astype(float)\n",
        "store_data['Postal Code'] = store_data['Postal Code'].astype(float)"
      ],
      "metadata": {
        "id": "NRznX_t7LFJH"
      },
      "execution_count": null,
      "outputs": []
    },
    {
      "cell_type": "code",
      "source": [
        "store_data = store_data.merge(long_lat, left_on='Postal Code', right_on='zip', how='left')"
      ],
      "metadata": {
        "id": "gif8-CtPLK6Y"
      },
      "execution_count": null,
      "outputs": []
    },
    {
      "cell_type": "code",
      "source": [
        "store_data.drop('zip', axis=1, inplace=True)"
      ],
      "metadata": {
        "id": "O1SvbyFCM6mq"
      },
      "execution_count": null,
      "outputs": []
    },
    {
      "cell_type": "code",
      "source": [
        "store_data"
      ],
      "metadata": {
        "colab": {
          "base_uri": "https://localhost:8080/"
        },
        "id": "7MiSy5KSLPf_",
        "outputId": "c60ae08a-efc3-44ba-a534-08ecd4039cdd"
      },
      "execution_count": null,
      "outputs": [
        {
          "output_type": "execute_result",
          "data": {
            "text/plain": [
              "           Ship Mode    Segment             City       State  Postal Code  \\\n",
              "0     Standard Class   Consumer        Henderson    Kentucky      42420.0   \n",
              "1       Second Class   Consumer        Henderson    Kentucky      42420.0   \n",
              "2       Second Class  Corporate      Los Angeles  California      90036.0   \n",
              "3     Standard Class   Consumer  Fort Lauderdale     Florida      33311.0   \n",
              "4     Standard Class   Consumer  Fort Lauderdale     Florida      33311.0   \n",
              "...              ...        ...              ...         ...          ...   \n",
              "9989    Second Class   Consumer            Miami         NaN          NaN   \n",
              "9990  Standard Class   Consumer       Costa Mesa  California      92627.0   \n",
              "9991  Standard Class   Consumer       Costa Mesa  California      92627.0   \n",
              "9992  Standard Class   Consumer       Costa Mesa  California      92627.0   \n",
              "9993  Standard Class   Consumer      Westminster  California      92683.0   \n",
              "\n",
              "     Region         Category Sub-Category     Sales  Quantity  Discount  \\\n",
              "0     South        Furniture  Furnishings  182.7450       2.0       0.0   \n",
              "1     South        Furniture  Furnishings  731.9400       3.0       0.0   \n",
              "2      West  Office Supplies      Binders   14.6200       2.0       0.0   \n",
              "3     South        Furniture  Furnishings  957.5775       5.0       0.2   \n",
              "4     South  Office Supplies      Binders   22.3680       2.0       0.2   \n",
              "...     ...              ...          ...       ...       ...       ...   \n",
              "9989  South        Furniture  Furnishings   25.2480       3.0       0.2   \n",
              "9990   West        Furniture  Furnishings   91.9600       2.0       0.0   \n",
              "9991   West       Technology       Phones  258.5760       2.0       0.2   \n",
              "9992   West  Office Supplies      Binders   26.9680       4.0       0.0   \n",
              "9993   West  Office Supplies      Binders  243.1600       2.0       0.0   \n",
              "\n",
              "        Profit  Shipping days  latitude  longitude  \n",
              "0      41.9136            3.0     37.83     -87.58  \n",
              "1     219.5820            3.0     37.83     -87.58  \n",
              "2       6.8714            4.0     34.06    -118.35  \n",
              "3    -383.0310            7.0     26.14     -80.17  \n",
              "4       2.5164            7.0     26.14     -80.17  \n",
              "...        ...            ...       ...        ...  \n",
              "9989    4.1028            2.0       NaN        NaN  \n",
              "9990   15.6332            5.0     33.64    -117.91  \n",
              "9991   19.3932            5.0     33.64    -117.91  \n",
              "9992   13.3200            5.0     33.64    -117.91  \n",
              "9993    6.8824            5.0     33.75    -117.99  \n",
              "\n",
              "[9994 rows x 15 columns]"
            ],
            "text/html": [
              "\n",
              "  <div id=\"df-73a8292e-a4d0-4668-8d1b-437c3cc55f37\" class=\"colab-df-container\">\n",
              "    <div>\n",
              "<style scoped>\n",
              "    .dataframe tbody tr th:only-of-type {\n",
              "        vertical-align: middle;\n",
              "    }\n",
              "\n",
              "    .dataframe tbody tr th {\n",
              "        vertical-align: top;\n",
              "    }\n",
              "\n",
              "    .dataframe thead th {\n",
              "        text-align: right;\n",
              "    }\n",
              "</style>\n",
              "<table border=\"1\" class=\"dataframe\">\n",
              "  <thead>\n",
              "    <tr style=\"text-align: right;\">\n",
              "      <th></th>\n",
              "      <th>Ship Mode</th>\n",
              "      <th>Segment</th>\n",
              "      <th>City</th>\n",
              "      <th>State</th>\n",
              "      <th>Postal Code</th>\n",
              "      <th>Region</th>\n",
              "      <th>Category</th>\n",
              "      <th>Sub-Category</th>\n",
              "      <th>Sales</th>\n",
              "      <th>Quantity</th>\n",
              "      <th>Discount</th>\n",
              "      <th>Profit</th>\n",
              "      <th>Shipping days</th>\n",
              "      <th>latitude</th>\n",
              "      <th>longitude</th>\n",
              "    </tr>\n",
              "  </thead>\n",
              "  <tbody>\n",
              "    <tr>\n",
              "      <th>0</th>\n",
              "      <td>Standard Class</td>\n",
              "      <td>Consumer</td>\n",
              "      <td>Henderson</td>\n",
              "      <td>Kentucky</td>\n",
              "      <td>42420.0</td>\n",
              "      <td>South</td>\n",
              "      <td>Furniture</td>\n",
              "      <td>Furnishings</td>\n",
              "      <td>182.7450</td>\n",
              "      <td>2.0</td>\n",
              "      <td>0.0</td>\n",
              "      <td>41.9136</td>\n",
              "      <td>3.0</td>\n",
              "      <td>37.83</td>\n",
              "      <td>-87.58</td>\n",
              "    </tr>\n",
              "    <tr>\n",
              "      <th>1</th>\n",
              "      <td>Second Class</td>\n",
              "      <td>Consumer</td>\n",
              "      <td>Henderson</td>\n",
              "      <td>Kentucky</td>\n",
              "      <td>42420.0</td>\n",
              "      <td>South</td>\n",
              "      <td>Furniture</td>\n",
              "      <td>Furnishings</td>\n",
              "      <td>731.9400</td>\n",
              "      <td>3.0</td>\n",
              "      <td>0.0</td>\n",
              "      <td>219.5820</td>\n",
              "      <td>3.0</td>\n",
              "      <td>37.83</td>\n",
              "      <td>-87.58</td>\n",
              "    </tr>\n",
              "    <tr>\n",
              "      <th>2</th>\n",
              "      <td>Second Class</td>\n",
              "      <td>Corporate</td>\n",
              "      <td>Los Angeles</td>\n",
              "      <td>California</td>\n",
              "      <td>90036.0</td>\n",
              "      <td>West</td>\n",
              "      <td>Office Supplies</td>\n",
              "      <td>Binders</td>\n",
              "      <td>14.6200</td>\n",
              "      <td>2.0</td>\n",
              "      <td>0.0</td>\n",
              "      <td>6.8714</td>\n",
              "      <td>4.0</td>\n",
              "      <td>34.06</td>\n",
              "      <td>-118.35</td>\n",
              "    </tr>\n",
              "    <tr>\n",
              "      <th>3</th>\n",
              "      <td>Standard Class</td>\n",
              "      <td>Consumer</td>\n",
              "      <td>Fort Lauderdale</td>\n",
              "      <td>Florida</td>\n",
              "      <td>33311.0</td>\n",
              "      <td>South</td>\n",
              "      <td>Furniture</td>\n",
              "      <td>Furnishings</td>\n",
              "      <td>957.5775</td>\n",
              "      <td>5.0</td>\n",
              "      <td>0.2</td>\n",
              "      <td>-383.0310</td>\n",
              "      <td>7.0</td>\n",
              "      <td>26.14</td>\n",
              "      <td>-80.17</td>\n",
              "    </tr>\n",
              "    <tr>\n",
              "      <th>4</th>\n",
              "      <td>Standard Class</td>\n",
              "      <td>Consumer</td>\n",
              "      <td>Fort Lauderdale</td>\n",
              "      <td>Florida</td>\n",
              "      <td>33311.0</td>\n",
              "      <td>South</td>\n",
              "      <td>Office Supplies</td>\n",
              "      <td>Binders</td>\n",
              "      <td>22.3680</td>\n",
              "      <td>2.0</td>\n",
              "      <td>0.2</td>\n",
              "      <td>2.5164</td>\n",
              "      <td>7.0</td>\n",
              "      <td>26.14</td>\n",
              "      <td>-80.17</td>\n",
              "    </tr>\n",
              "    <tr>\n",
              "      <th>...</th>\n",
              "      <td>...</td>\n",
              "      <td>...</td>\n",
              "      <td>...</td>\n",
              "      <td>...</td>\n",
              "      <td>...</td>\n",
              "      <td>...</td>\n",
              "      <td>...</td>\n",
              "      <td>...</td>\n",
              "      <td>...</td>\n",
              "      <td>...</td>\n",
              "      <td>...</td>\n",
              "      <td>...</td>\n",
              "      <td>...</td>\n",
              "      <td>...</td>\n",
              "      <td>...</td>\n",
              "    </tr>\n",
              "    <tr>\n",
              "      <th>9989</th>\n",
              "      <td>Second Class</td>\n",
              "      <td>Consumer</td>\n",
              "      <td>Miami</td>\n",
              "      <td>NaN</td>\n",
              "      <td>NaN</td>\n",
              "      <td>South</td>\n",
              "      <td>Furniture</td>\n",
              "      <td>Furnishings</td>\n",
              "      <td>25.2480</td>\n",
              "      <td>3.0</td>\n",
              "      <td>0.2</td>\n",
              "      <td>4.1028</td>\n",
              "      <td>2.0</td>\n",
              "      <td>NaN</td>\n",
              "      <td>NaN</td>\n",
              "    </tr>\n",
              "    <tr>\n",
              "      <th>9990</th>\n",
              "      <td>Standard Class</td>\n",
              "      <td>Consumer</td>\n",
              "      <td>Costa Mesa</td>\n",
              "      <td>California</td>\n",
              "      <td>92627.0</td>\n",
              "      <td>West</td>\n",
              "      <td>Furniture</td>\n",
              "      <td>Furnishings</td>\n",
              "      <td>91.9600</td>\n",
              "      <td>2.0</td>\n",
              "      <td>0.0</td>\n",
              "      <td>15.6332</td>\n",
              "      <td>5.0</td>\n",
              "      <td>33.64</td>\n",
              "      <td>-117.91</td>\n",
              "    </tr>\n",
              "    <tr>\n",
              "      <th>9991</th>\n",
              "      <td>Standard Class</td>\n",
              "      <td>Consumer</td>\n",
              "      <td>Costa Mesa</td>\n",
              "      <td>California</td>\n",
              "      <td>92627.0</td>\n",
              "      <td>West</td>\n",
              "      <td>Technology</td>\n",
              "      <td>Phones</td>\n",
              "      <td>258.5760</td>\n",
              "      <td>2.0</td>\n",
              "      <td>0.2</td>\n",
              "      <td>19.3932</td>\n",
              "      <td>5.0</td>\n",
              "      <td>33.64</td>\n",
              "      <td>-117.91</td>\n",
              "    </tr>\n",
              "    <tr>\n",
              "      <th>9992</th>\n",
              "      <td>Standard Class</td>\n",
              "      <td>Consumer</td>\n",
              "      <td>Costa Mesa</td>\n",
              "      <td>California</td>\n",
              "      <td>92627.0</td>\n",
              "      <td>West</td>\n",
              "      <td>Office Supplies</td>\n",
              "      <td>Binders</td>\n",
              "      <td>26.9680</td>\n",
              "      <td>4.0</td>\n",
              "      <td>0.0</td>\n",
              "      <td>13.3200</td>\n",
              "      <td>5.0</td>\n",
              "      <td>33.64</td>\n",
              "      <td>-117.91</td>\n",
              "    </tr>\n",
              "    <tr>\n",
              "      <th>9993</th>\n",
              "      <td>Standard Class</td>\n",
              "      <td>Consumer</td>\n",
              "      <td>Westminster</td>\n",
              "      <td>California</td>\n",
              "      <td>92683.0</td>\n",
              "      <td>West</td>\n",
              "      <td>Office Supplies</td>\n",
              "      <td>Binders</td>\n",
              "      <td>243.1600</td>\n",
              "      <td>2.0</td>\n",
              "      <td>0.0</td>\n",
              "      <td>6.8824</td>\n",
              "      <td>5.0</td>\n",
              "      <td>33.75</td>\n",
              "      <td>-117.99</td>\n",
              "    </tr>\n",
              "  </tbody>\n",
              "</table>\n",
              "<p>9994 rows × 15 columns</p>\n",
              "</div>\n",
              "    <div class=\"colab-df-buttons\">\n",
              "\n",
              "  <div class=\"colab-df-container\">\n",
              "    <button class=\"colab-df-convert\" onclick=\"convertToInteractive('df-73a8292e-a4d0-4668-8d1b-437c3cc55f37')\"\n",
              "            title=\"Convert this dataframe to an interactive table.\"\n",
              "            style=\"display:none;\">\n",
              "\n",
              "  <svg xmlns=\"http://www.w3.org/2000/svg\" height=\"24px\" viewBox=\"0 -960 960 960\">\n",
              "    <path d=\"M120-120v-720h720v720H120Zm60-500h600v-160H180v160Zm220 220h160v-160H400v160Zm0 220h160v-160H400v160ZM180-400h160v-160H180v160Zm440 0h160v-160H620v160ZM180-180h160v-160H180v160Zm440 0h160v-160H620v160Z\"/>\n",
              "  </svg>\n",
              "    </button>\n",
              "\n",
              "  <style>\n",
              "    .colab-df-container {\n",
              "      display:flex;\n",
              "      gap: 12px;\n",
              "    }\n",
              "\n",
              "    .colab-df-convert {\n",
              "      background-color: #E8F0FE;\n",
              "      border: none;\n",
              "      border-radius: 50%;\n",
              "      cursor: pointer;\n",
              "      display: none;\n",
              "      fill: #1967D2;\n",
              "      height: 32px;\n",
              "      padding: 0 0 0 0;\n",
              "      width: 32px;\n",
              "    }\n",
              "\n",
              "    .colab-df-convert:hover {\n",
              "      background-color: #E2EBFA;\n",
              "      box-shadow: 0px 1px 2px rgba(60, 64, 67, 0.3), 0px 1px 3px 1px rgba(60, 64, 67, 0.15);\n",
              "      fill: #174EA6;\n",
              "    }\n",
              "\n",
              "    .colab-df-buttons div {\n",
              "      margin-bottom: 4px;\n",
              "    }\n",
              "\n",
              "    [theme=dark] .colab-df-convert {\n",
              "      background-color: #3B4455;\n",
              "      fill: #D2E3FC;\n",
              "    }\n",
              "\n",
              "    [theme=dark] .colab-df-convert:hover {\n",
              "      background-color: #434B5C;\n",
              "      box-shadow: 0px 1px 3px 1px rgba(0, 0, 0, 0.15);\n",
              "      filter: drop-shadow(0px 1px 2px rgba(0, 0, 0, 0.3));\n",
              "      fill: #FFFFFF;\n",
              "    }\n",
              "  </style>\n",
              "\n",
              "    <script>\n",
              "      const buttonEl =\n",
              "        document.querySelector('#df-73a8292e-a4d0-4668-8d1b-437c3cc55f37 button.colab-df-convert');\n",
              "      buttonEl.style.display =\n",
              "        google.colab.kernel.accessAllowed ? 'block' : 'none';\n",
              "\n",
              "      async function convertToInteractive(key) {\n",
              "        const element = document.querySelector('#df-73a8292e-a4d0-4668-8d1b-437c3cc55f37');\n",
              "        const dataTable =\n",
              "          await google.colab.kernel.invokeFunction('convertToInteractive',\n",
              "                                                    [key], {});\n",
              "        if (!dataTable) return;\n",
              "\n",
              "        const docLinkHtml = 'Like what you see? Visit the ' +\n",
              "          '<a target=\"_blank\" href=https://colab.research.google.com/notebooks/data_table.ipynb>data table notebook</a>'\n",
              "          + ' to learn more about interactive tables.';\n",
              "        element.innerHTML = '';\n",
              "        dataTable['output_type'] = 'display_data';\n",
              "        await google.colab.output.renderOutput(dataTable, element);\n",
              "        const docLink = document.createElement('div');\n",
              "        docLink.innerHTML = docLinkHtml;\n",
              "        element.appendChild(docLink);\n",
              "      }\n",
              "    </script>\n",
              "  </div>\n",
              "\n",
              "\n",
              "<div id=\"df-78d0b0b0-6901-40f9-8a4a-5294091f8ed1\">\n",
              "  <button class=\"colab-df-quickchart\" onclick=\"quickchart('df-78d0b0b0-6901-40f9-8a4a-5294091f8ed1')\"\n",
              "            title=\"Suggest charts\"\n",
              "            style=\"display:none;\">\n",
              "\n",
              "<svg xmlns=\"http://www.w3.org/2000/svg\" height=\"24px\"viewBox=\"0 0 24 24\"\n",
              "     width=\"24px\">\n",
              "    <g>\n",
              "        <path d=\"M19 3H5c-1.1 0-2 .9-2 2v14c0 1.1.9 2 2 2h14c1.1 0 2-.9 2-2V5c0-1.1-.9-2-2-2zM9 17H7v-7h2v7zm4 0h-2V7h2v10zm4 0h-2v-4h2v4z\"/>\n",
              "    </g>\n",
              "</svg>\n",
              "  </button>\n",
              "\n",
              "<style>\n",
              "  .colab-df-quickchart {\n",
              "      --bg-color: #E8F0FE;\n",
              "      --fill-color: #1967D2;\n",
              "      --hover-bg-color: #E2EBFA;\n",
              "      --hover-fill-color: #174EA6;\n",
              "      --disabled-fill-color: #AAA;\n",
              "      --disabled-bg-color: #DDD;\n",
              "  }\n",
              "\n",
              "  [theme=dark] .colab-df-quickchart {\n",
              "      --bg-color: #3B4455;\n",
              "      --fill-color: #D2E3FC;\n",
              "      --hover-bg-color: #434B5C;\n",
              "      --hover-fill-color: #FFFFFF;\n",
              "      --disabled-bg-color: #3B4455;\n",
              "      --disabled-fill-color: #666;\n",
              "  }\n",
              "\n",
              "  .colab-df-quickchart {\n",
              "    background-color: var(--bg-color);\n",
              "    border: none;\n",
              "    border-radius: 50%;\n",
              "    cursor: pointer;\n",
              "    display: none;\n",
              "    fill: var(--fill-color);\n",
              "    height: 32px;\n",
              "    padding: 0;\n",
              "    width: 32px;\n",
              "  }\n",
              "\n",
              "  .colab-df-quickchart:hover {\n",
              "    background-color: var(--hover-bg-color);\n",
              "    box-shadow: 0 1px 2px rgba(60, 64, 67, 0.3), 0 1px 3px 1px rgba(60, 64, 67, 0.15);\n",
              "    fill: var(--button-hover-fill-color);\n",
              "  }\n",
              "\n",
              "  .colab-df-quickchart-complete:disabled,\n",
              "  .colab-df-quickchart-complete:disabled:hover {\n",
              "    background-color: var(--disabled-bg-color);\n",
              "    fill: var(--disabled-fill-color);\n",
              "    box-shadow: none;\n",
              "  }\n",
              "\n",
              "  .colab-df-spinner {\n",
              "    border: 2px solid var(--fill-color);\n",
              "    border-color: transparent;\n",
              "    border-bottom-color: var(--fill-color);\n",
              "    animation:\n",
              "      spin 1s steps(1) infinite;\n",
              "  }\n",
              "\n",
              "  @keyframes spin {\n",
              "    0% {\n",
              "      border-color: transparent;\n",
              "      border-bottom-color: var(--fill-color);\n",
              "      border-left-color: var(--fill-color);\n",
              "    }\n",
              "    20% {\n",
              "      border-color: transparent;\n",
              "      border-left-color: var(--fill-color);\n",
              "      border-top-color: var(--fill-color);\n",
              "    }\n",
              "    30% {\n",
              "      border-color: transparent;\n",
              "      border-left-color: var(--fill-color);\n",
              "      border-top-color: var(--fill-color);\n",
              "      border-right-color: var(--fill-color);\n",
              "    }\n",
              "    40% {\n",
              "      border-color: transparent;\n",
              "      border-right-color: var(--fill-color);\n",
              "      border-top-color: var(--fill-color);\n",
              "    }\n",
              "    60% {\n",
              "      border-color: transparent;\n",
              "      border-right-color: var(--fill-color);\n",
              "    }\n",
              "    80% {\n",
              "      border-color: transparent;\n",
              "      border-right-color: var(--fill-color);\n",
              "      border-bottom-color: var(--fill-color);\n",
              "    }\n",
              "    90% {\n",
              "      border-color: transparent;\n",
              "      border-bottom-color: var(--fill-color);\n",
              "    }\n",
              "  }\n",
              "</style>\n",
              "\n",
              "  <script>\n",
              "    async function quickchart(key) {\n",
              "      const quickchartButtonEl =\n",
              "        document.querySelector('#' + key + ' button');\n",
              "      quickchartButtonEl.disabled = true;  // To prevent multiple clicks.\n",
              "      quickchartButtonEl.classList.add('colab-df-spinner');\n",
              "      try {\n",
              "        const charts = await google.colab.kernel.invokeFunction(\n",
              "            'suggestCharts', [key], {});\n",
              "      } catch (error) {\n",
              "        console.error('Error during call to suggestCharts:', error);\n",
              "      }\n",
              "      quickchartButtonEl.classList.remove('colab-df-spinner');\n",
              "      quickchartButtonEl.classList.add('colab-df-quickchart-complete');\n",
              "    }\n",
              "    (() => {\n",
              "      let quickchartButtonEl =\n",
              "        document.querySelector('#df-78d0b0b0-6901-40f9-8a4a-5294091f8ed1 button');\n",
              "      quickchartButtonEl.style.display =\n",
              "        google.colab.kernel.accessAllowed ? 'block' : 'none';\n",
              "    })();\n",
              "  </script>\n",
              "</div>\n",
              "    </div>\n",
              "  </div>\n"
            ],
            "application/vnd.google.colaboratory.intrinsic+json": {
              "type": "dataframe",
              "variable_name": "store_data",
              "summary": "{\n  \"name\": \"store_data\",\n  \"rows\": 9994,\n  \"fields\": [\n    {\n      \"column\": \"Ship Mode\",\n      \"properties\": {\n        \"dtype\": \"category\",\n        \"num_unique_values\": 4,\n        \"samples\": [\n          \"Second Class\",\n          \"Same Day\",\n          \"Standard Class\"\n        ],\n        \"semantic_type\": \"\",\n        \"description\": \"\"\n      }\n    },\n    {\n      \"column\": \"Segment\",\n      \"properties\": {\n        \"dtype\": \"category\",\n        \"num_unique_values\": 3,\n        \"samples\": [\n          \"Consumer\",\n          \"Corporate\",\n          \"Home Office\"\n        ],\n        \"semantic_type\": \"\",\n        \"description\": \"\"\n      }\n    },\n    {\n      \"column\": \"City\",\n      \"properties\": {\n        \"dtype\": \"category\",\n        \"num_unique_values\": 533,\n        \"samples\": [\n          \"Madison\",\n          \"West Palm Beach\",\n          \"Louisville\"\n        ],\n        \"semantic_type\": \"\",\n        \"description\": \"\"\n      }\n    },\n    {\n      \"column\": \"State\",\n      \"properties\": {\n        \"dtype\": \"category\",\n        \"num_unique_values\": 50,\n        \"samples\": [\n          \"Delaware\",\n          \"Maryland\",\n          \"New Jersey\"\n        ],\n        \"semantic_type\": \"\",\n        \"description\": \"\"\n      }\n    },\n    {\n      \"column\": \"Postal Code\",\n      \"properties\": {\n        \"dtype\": \"number\",\n        \"std\": 31947.087138648323,\n        \"min\": 1040.0,\n        \"max\": 99302.0,\n        \"num_unique_values\": 833,\n        \"samples\": [\n          58103.0,\n          55433.0,\n          61701.0\n        ],\n        \"semantic_type\": \"\",\n        \"description\": \"\"\n      }\n    },\n    {\n      \"column\": \"Region\",\n      \"properties\": {\n        \"dtype\": \"category\",\n        \"num_unique_values\": 4,\n        \"samples\": [\n          \"West\",\n          \"East\",\n          \"South\"\n        ],\n        \"semantic_type\": \"\",\n        \"description\": \"\"\n      }\n    },\n    {\n      \"column\": \"Category\",\n      \"properties\": {\n        \"dtype\": \"category\",\n        \"num_unique_values\": 3,\n        \"samples\": [\n          \"Furniture\",\n          \"Office Supplies\",\n          \"Technology\"\n        ],\n        \"semantic_type\": \"\",\n        \"description\": \"\"\n      }\n    },\n    {\n      \"column\": \"Sub-Category\",\n      \"properties\": {\n        \"dtype\": \"category\",\n        \"num_unique_values\": 17,\n        \"samples\": [\n          \"Furnishings\",\n          \"Binders\",\n          \"Storage\"\n        ],\n        \"semantic_type\": \"\",\n        \"description\": \"\"\n      }\n    },\n    {\n      \"column\": \"Sales\",\n      \"properties\": {\n        \"dtype\": \"number\",\n        \"std\": 595.504139149079,\n        \"min\": 0.444,\n        \"max\": 22638.48,\n        \"num_unique_values\": 5441,\n        \"samples\": [\n          452.94,\n          2803.92,\n          254.744\n        ],\n        \"semantic_type\": \"\",\n        \"description\": \"\"\n      }\n    },\n    {\n      \"column\": \"Quantity\",\n      \"properties\": {\n        \"dtype\": \"number\",\n        \"std\": 2.119697096906843,\n        \"min\": 1.0,\n        \"max\": 14.0,\n        \"num_unique_values\": 17,\n        \"samples\": [\n          2.0,\n          3.0,\n          6.0\n        ],\n        \"semantic_type\": \"\",\n        \"description\": \"\"\n      }\n    },\n    {\n      \"column\": \"Discount\",\n      \"properties\": {\n        \"dtype\": \"number\",\n        \"std\": 0.19855323556017737,\n        \"min\": 0.0,\n        \"max\": 0.8,\n        \"num_unique_values\": 12,\n        \"samples\": [\n          0.45,\n          0.4,\n          0.0\n        ],\n        \"semantic_type\": \"\",\n        \"description\": \"\"\n      }\n    },\n    {\n      \"column\": \"Profit\",\n      \"properties\": {\n        \"dtype\": \"number\",\n        \"std\": 216.84683320546765,\n        \"min\": -6599.978,\n        \"max\": 8399.976,\n        \"num_unique_values\": 6722,\n        \"samples\": [\n          146.2405,\n          76.7904,\n          85.5297\n        ],\n        \"semantic_type\": \"\",\n        \"description\": \"\"\n      }\n    },\n    {\n      \"column\": \"Shipping days\",\n      \"properties\": {\n        \"dtype\": \"number\",\n        \"std\": 1.5723886190600742,\n        \"min\": 0.0,\n        \"max\": 7.0,\n        \"num_unique_values\": 8,\n        \"samples\": [\n          4.0,\n          6.0,\n          3.0\n        ],\n        \"semantic_type\": \"\",\n        \"description\": \"\"\n      }\n    },\n    {\n      \"column\": \"latitude\",\n      \"properties\": {\n        \"dtype\": \"number\",\n        \"std\": 4.890263703828451,\n        \"min\": 25.49,\n        \"max\": 48.79,\n        \"num_unique_values\": 603,\n        \"samples\": [\n          34.36,\n          42.78,\n          26.74\n        ],\n        \"semantic_type\": \"\",\n        \"description\": \"\"\n      }\n    },\n    {\n      \"column\": \"longitude\",\n      \"properties\": {\n        \"dtype\": \"number\",\n        \"std\": 18.04177768052781,\n        \"min\": -123.19,\n        \"max\": -68.78,\n        \"num_unique_values\": 691,\n        \"samples\": [\n          -74.27,\n          -80.11,\n          -122.26\n        ],\n        \"semantic_type\": \"\",\n        \"description\": \"\"\n      }\n    }\n  ]\n}"
            }
          },
          "metadata": {},
          "execution_count": 67
        }
      ]
    },
    {
      "cell_type": "markdown",
      "source": [
        "## Cleaned data"
      ],
      "metadata": {
        "id": "8Wl1ywSiU6qI"
      }
    },
    {
      "cell_type": "code",
      "source": [
        "print(store_data.isnull().sum())"
      ],
      "metadata": {
        "colab": {
          "base_uri": "https://localhost:8080/"
        },
        "id": "qOZqKFZ4MGuw",
        "outputId": "9318bd2e-fdee-4795-d106-13c2d241e707"
      },
      "execution_count": null,
      "outputs": [
        {
          "output_type": "stream",
          "name": "stdout",
          "text": [
            "Ship Mode          0\n",
            "Segment            0\n",
            "City              98\n",
            "State            116\n",
            "Postal Code      285\n",
            "Region            18\n",
            "Category         274\n",
            "Sub-Category     111\n",
            "Sales             32\n",
            "Quantity          22\n",
            "Discount          28\n",
            "Profit            32\n",
            "Shipping days      0\n",
            "latitude         285\n",
            "longitude        285\n",
            "dtype: int64\n"
          ]
        }
      ]
    },
    {
      "cell_type": "markdown",
      "source": [
        "Now that as much of the missing information that could be filled has been filled, we can drop the remaining NaN values without compromising the initial size of the dataset by too much. This new dataset will be used for my machine learning model."
      ],
      "metadata": {
        "id": "p4gqlpkxuVLD"
      }
    },
    {
      "cell_type": "code",
      "source": [
        "store_data.dropna(inplace=True)\n",
        "print(store_data.isnull().sum())\n",
        "store_data.to_csv('cleaned_store_data.csv', index=False)"
      ],
      "metadata": {
        "colab": {
          "base_uri": "https://localhost:8080/"
        },
        "id": "1aVgf4SruLxN",
        "outputId": "50092fb2-9f15-4f78-9dd5-78769646fd0b"
      },
      "execution_count": null,
      "outputs": [
        {
          "output_type": "stream",
          "name": "stdout",
          "text": [
            "Ship Mode        0\n",
            "Segment          0\n",
            "City             0\n",
            "State            0\n",
            "Postal Code      0\n",
            "Region           0\n",
            "Category         0\n",
            "Sub-Category     0\n",
            "Sales            0\n",
            "Quantity         0\n",
            "Discount         0\n",
            "Profit           0\n",
            "Shipping days    0\n",
            "latitude         0\n",
            "longitude        0\n",
            "dtype: int64\n"
          ]
        }
      ]
    },
    {
      "cell_type": "code",
      "source": [
        "cleaned_data = pd.read_csv(\"/content/cleaned_store_data.csv\")\n",
        "cleaned_data"
      ],
      "metadata": {
        "colab": {
          "base_uri": "https://localhost:8080/"
        },
        "id": "FBHoaCqMJN_Q",
        "outputId": "35f11bc4-b766-4626-d7c7-963a1d8c53c6"
      },
      "execution_count": null,
      "outputs": [
        {
          "output_type": "execute_result",
          "data": {
            "text/plain": [
              "           Ship Mode    Segment             City       State  Postal Code  \\\n",
              "0     Standard Class   Consumer        Henderson    Kentucky      42420.0   \n",
              "1       Second Class   Consumer        Henderson    Kentucky      42420.0   \n",
              "2       Second Class  Corporate      Los Angeles  California      90036.0   \n",
              "3     Standard Class   Consumer  Fort Lauderdale     Florida      33311.0   \n",
              "4     Standard Class   Consumer  Fort Lauderdale     Florida      33311.0   \n",
              "...              ...        ...              ...         ...          ...   \n",
              "9437  Standard Class   Consumer           Athens     Georgia      30605.0   \n",
              "9438  Standard Class   Consumer       Costa Mesa  California      92627.0   \n",
              "9439  Standard Class   Consumer       Costa Mesa  California      92627.0   \n",
              "9440  Standard Class   Consumer       Costa Mesa  California      92627.0   \n",
              "9441  Standard Class   Consumer      Westminster  California      92683.0   \n",
              "\n",
              "     Region         Category Sub-Category     Sales  Quantity  Discount  \\\n",
              "0     South        Furniture  Furnishings  182.7450       2.0       0.0   \n",
              "1     South        Furniture  Furnishings  731.9400       3.0       0.0   \n",
              "2      West  Office Supplies      Binders   14.6200       2.0       0.0   \n",
              "3     South        Furniture  Furnishings  957.5775       5.0       0.2   \n",
              "4     South  Office Supplies      Binders   22.3680       2.0       0.2   \n",
              "...     ...              ...          ...       ...       ...       ...   \n",
              "9437  South       Technology       Phones  206.1000       5.0       0.0   \n",
              "9438   West        Furniture  Furnishings   91.9600       2.0       0.0   \n",
              "9439   West       Technology       Phones  258.5760       2.0       0.2   \n",
              "9440   West  Office Supplies      Binders   26.9680       4.0       0.0   \n",
              "9441   West  Office Supplies      Binders  243.1600       2.0       0.0   \n",
              "\n",
              "        Profit  Shipping days  latitude  longitude  \n",
              "0      41.9136            3.0     37.83     -87.58  \n",
              "1     219.5820            3.0     37.83     -87.58  \n",
              "2       6.8714            4.0     34.06    -118.35  \n",
              "3    -383.0310            7.0     26.14     -80.17  \n",
              "4       2.5164            7.0     26.14     -80.17  \n",
              "...        ...            ...       ...        ...  \n",
              "9437   55.6470            4.0     33.91     -83.32  \n",
              "9438   15.6332            5.0     33.64    -117.91  \n",
              "9439   19.3932            5.0     33.64    -117.91  \n",
              "9440   13.3200            5.0     33.64    -117.91  \n",
              "9441    6.8824            5.0     33.75    -117.99  \n",
              "\n",
              "[9442 rows x 15 columns]"
            ],
            "text/html": [
              "\n",
              "  <div id=\"df-963590b2-1d21-485e-922b-8b8be858f00a\" class=\"colab-df-container\">\n",
              "    <div>\n",
              "<style scoped>\n",
              "    .dataframe tbody tr th:only-of-type {\n",
              "        vertical-align: middle;\n",
              "    }\n",
              "\n",
              "    .dataframe tbody tr th {\n",
              "        vertical-align: top;\n",
              "    }\n",
              "\n",
              "    .dataframe thead th {\n",
              "        text-align: right;\n",
              "    }\n",
              "</style>\n",
              "<table border=\"1\" class=\"dataframe\">\n",
              "  <thead>\n",
              "    <tr style=\"text-align: right;\">\n",
              "      <th></th>\n",
              "      <th>Ship Mode</th>\n",
              "      <th>Segment</th>\n",
              "      <th>City</th>\n",
              "      <th>State</th>\n",
              "      <th>Postal Code</th>\n",
              "      <th>Region</th>\n",
              "      <th>Category</th>\n",
              "      <th>Sub-Category</th>\n",
              "      <th>Sales</th>\n",
              "      <th>Quantity</th>\n",
              "      <th>Discount</th>\n",
              "      <th>Profit</th>\n",
              "      <th>Shipping days</th>\n",
              "      <th>latitude</th>\n",
              "      <th>longitude</th>\n",
              "    </tr>\n",
              "  </thead>\n",
              "  <tbody>\n",
              "    <tr>\n",
              "      <th>0</th>\n",
              "      <td>Standard Class</td>\n",
              "      <td>Consumer</td>\n",
              "      <td>Henderson</td>\n",
              "      <td>Kentucky</td>\n",
              "      <td>42420.0</td>\n",
              "      <td>South</td>\n",
              "      <td>Furniture</td>\n",
              "      <td>Furnishings</td>\n",
              "      <td>182.7450</td>\n",
              "      <td>2.0</td>\n",
              "      <td>0.0</td>\n",
              "      <td>41.9136</td>\n",
              "      <td>3.0</td>\n",
              "      <td>37.83</td>\n",
              "      <td>-87.58</td>\n",
              "    </tr>\n",
              "    <tr>\n",
              "      <th>1</th>\n",
              "      <td>Second Class</td>\n",
              "      <td>Consumer</td>\n",
              "      <td>Henderson</td>\n",
              "      <td>Kentucky</td>\n",
              "      <td>42420.0</td>\n",
              "      <td>South</td>\n",
              "      <td>Furniture</td>\n",
              "      <td>Furnishings</td>\n",
              "      <td>731.9400</td>\n",
              "      <td>3.0</td>\n",
              "      <td>0.0</td>\n",
              "      <td>219.5820</td>\n",
              "      <td>3.0</td>\n",
              "      <td>37.83</td>\n",
              "      <td>-87.58</td>\n",
              "    </tr>\n",
              "    <tr>\n",
              "      <th>2</th>\n",
              "      <td>Second Class</td>\n",
              "      <td>Corporate</td>\n",
              "      <td>Los Angeles</td>\n",
              "      <td>California</td>\n",
              "      <td>90036.0</td>\n",
              "      <td>West</td>\n",
              "      <td>Office Supplies</td>\n",
              "      <td>Binders</td>\n",
              "      <td>14.6200</td>\n",
              "      <td>2.0</td>\n",
              "      <td>0.0</td>\n",
              "      <td>6.8714</td>\n",
              "      <td>4.0</td>\n",
              "      <td>34.06</td>\n",
              "      <td>-118.35</td>\n",
              "    </tr>\n",
              "    <tr>\n",
              "      <th>3</th>\n",
              "      <td>Standard Class</td>\n",
              "      <td>Consumer</td>\n",
              "      <td>Fort Lauderdale</td>\n",
              "      <td>Florida</td>\n",
              "      <td>33311.0</td>\n",
              "      <td>South</td>\n",
              "      <td>Furniture</td>\n",
              "      <td>Furnishings</td>\n",
              "      <td>957.5775</td>\n",
              "      <td>5.0</td>\n",
              "      <td>0.2</td>\n",
              "      <td>-383.0310</td>\n",
              "      <td>7.0</td>\n",
              "      <td>26.14</td>\n",
              "      <td>-80.17</td>\n",
              "    </tr>\n",
              "    <tr>\n",
              "      <th>4</th>\n",
              "      <td>Standard Class</td>\n",
              "      <td>Consumer</td>\n",
              "      <td>Fort Lauderdale</td>\n",
              "      <td>Florida</td>\n",
              "      <td>33311.0</td>\n",
              "      <td>South</td>\n",
              "      <td>Office Supplies</td>\n",
              "      <td>Binders</td>\n",
              "      <td>22.3680</td>\n",
              "      <td>2.0</td>\n",
              "      <td>0.2</td>\n",
              "      <td>2.5164</td>\n",
              "      <td>7.0</td>\n",
              "      <td>26.14</td>\n",
              "      <td>-80.17</td>\n",
              "    </tr>\n",
              "    <tr>\n",
              "      <th>...</th>\n",
              "      <td>...</td>\n",
              "      <td>...</td>\n",
              "      <td>...</td>\n",
              "      <td>...</td>\n",
              "      <td>...</td>\n",
              "      <td>...</td>\n",
              "      <td>...</td>\n",
              "      <td>...</td>\n",
              "      <td>...</td>\n",
              "      <td>...</td>\n",
              "      <td>...</td>\n",
              "      <td>...</td>\n",
              "      <td>...</td>\n",
              "      <td>...</td>\n",
              "      <td>...</td>\n",
              "    </tr>\n",
              "    <tr>\n",
              "      <th>9437</th>\n",
              "      <td>Standard Class</td>\n",
              "      <td>Consumer</td>\n",
              "      <td>Athens</td>\n",
              "      <td>Georgia</td>\n",
              "      <td>30605.0</td>\n",
              "      <td>South</td>\n",
              "      <td>Technology</td>\n",
              "      <td>Phones</td>\n",
              "      <td>206.1000</td>\n",
              "      <td>5.0</td>\n",
              "      <td>0.0</td>\n",
              "      <td>55.6470</td>\n",
              "      <td>4.0</td>\n",
              "      <td>33.91</td>\n",
              "      <td>-83.32</td>\n",
              "    </tr>\n",
              "    <tr>\n",
              "      <th>9438</th>\n",
              "      <td>Standard Class</td>\n",
              "      <td>Consumer</td>\n",
              "      <td>Costa Mesa</td>\n",
              "      <td>California</td>\n",
              "      <td>92627.0</td>\n",
              "      <td>West</td>\n",
              "      <td>Furniture</td>\n",
              "      <td>Furnishings</td>\n",
              "      <td>91.9600</td>\n",
              "      <td>2.0</td>\n",
              "      <td>0.0</td>\n",
              "      <td>15.6332</td>\n",
              "      <td>5.0</td>\n",
              "      <td>33.64</td>\n",
              "      <td>-117.91</td>\n",
              "    </tr>\n",
              "    <tr>\n",
              "      <th>9439</th>\n",
              "      <td>Standard Class</td>\n",
              "      <td>Consumer</td>\n",
              "      <td>Costa Mesa</td>\n",
              "      <td>California</td>\n",
              "      <td>92627.0</td>\n",
              "      <td>West</td>\n",
              "      <td>Technology</td>\n",
              "      <td>Phones</td>\n",
              "      <td>258.5760</td>\n",
              "      <td>2.0</td>\n",
              "      <td>0.2</td>\n",
              "      <td>19.3932</td>\n",
              "      <td>5.0</td>\n",
              "      <td>33.64</td>\n",
              "      <td>-117.91</td>\n",
              "    </tr>\n",
              "    <tr>\n",
              "      <th>9440</th>\n",
              "      <td>Standard Class</td>\n",
              "      <td>Consumer</td>\n",
              "      <td>Costa Mesa</td>\n",
              "      <td>California</td>\n",
              "      <td>92627.0</td>\n",
              "      <td>West</td>\n",
              "      <td>Office Supplies</td>\n",
              "      <td>Binders</td>\n",
              "      <td>26.9680</td>\n",
              "      <td>4.0</td>\n",
              "      <td>0.0</td>\n",
              "      <td>13.3200</td>\n",
              "      <td>5.0</td>\n",
              "      <td>33.64</td>\n",
              "      <td>-117.91</td>\n",
              "    </tr>\n",
              "    <tr>\n",
              "      <th>9441</th>\n",
              "      <td>Standard Class</td>\n",
              "      <td>Consumer</td>\n",
              "      <td>Westminster</td>\n",
              "      <td>California</td>\n",
              "      <td>92683.0</td>\n",
              "      <td>West</td>\n",
              "      <td>Office Supplies</td>\n",
              "      <td>Binders</td>\n",
              "      <td>243.1600</td>\n",
              "      <td>2.0</td>\n",
              "      <td>0.0</td>\n",
              "      <td>6.8824</td>\n",
              "      <td>5.0</td>\n",
              "      <td>33.75</td>\n",
              "      <td>-117.99</td>\n",
              "    </tr>\n",
              "  </tbody>\n",
              "</table>\n",
              "<p>9442 rows × 15 columns</p>\n",
              "</div>\n",
              "    <div class=\"colab-df-buttons\">\n",
              "\n",
              "  <div class=\"colab-df-container\">\n",
              "    <button class=\"colab-df-convert\" onclick=\"convertToInteractive('df-963590b2-1d21-485e-922b-8b8be858f00a')\"\n",
              "            title=\"Convert this dataframe to an interactive table.\"\n",
              "            style=\"display:none;\">\n",
              "\n",
              "  <svg xmlns=\"http://www.w3.org/2000/svg\" height=\"24px\" viewBox=\"0 -960 960 960\">\n",
              "    <path d=\"M120-120v-720h720v720H120Zm60-500h600v-160H180v160Zm220 220h160v-160H400v160Zm0 220h160v-160H400v160ZM180-400h160v-160H180v160Zm440 0h160v-160H620v160ZM180-180h160v-160H180v160Zm440 0h160v-160H620v160Z\"/>\n",
              "  </svg>\n",
              "    </button>\n",
              "\n",
              "  <style>\n",
              "    .colab-df-container {\n",
              "      display:flex;\n",
              "      gap: 12px;\n",
              "    }\n",
              "\n",
              "    .colab-df-convert {\n",
              "      background-color: #E8F0FE;\n",
              "      border: none;\n",
              "      border-radius: 50%;\n",
              "      cursor: pointer;\n",
              "      display: none;\n",
              "      fill: #1967D2;\n",
              "      height: 32px;\n",
              "      padding: 0 0 0 0;\n",
              "      width: 32px;\n",
              "    }\n",
              "\n",
              "    .colab-df-convert:hover {\n",
              "      background-color: #E2EBFA;\n",
              "      box-shadow: 0px 1px 2px rgba(60, 64, 67, 0.3), 0px 1px 3px 1px rgba(60, 64, 67, 0.15);\n",
              "      fill: #174EA6;\n",
              "    }\n",
              "\n",
              "    .colab-df-buttons div {\n",
              "      margin-bottom: 4px;\n",
              "    }\n",
              "\n",
              "    [theme=dark] .colab-df-convert {\n",
              "      background-color: #3B4455;\n",
              "      fill: #D2E3FC;\n",
              "    }\n",
              "\n",
              "    [theme=dark] .colab-df-convert:hover {\n",
              "      background-color: #434B5C;\n",
              "      box-shadow: 0px 1px 3px 1px rgba(0, 0, 0, 0.15);\n",
              "      filter: drop-shadow(0px 1px 2px rgba(0, 0, 0, 0.3));\n",
              "      fill: #FFFFFF;\n",
              "    }\n",
              "  </style>\n",
              "\n",
              "    <script>\n",
              "      const buttonEl =\n",
              "        document.querySelector('#df-963590b2-1d21-485e-922b-8b8be858f00a button.colab-df-convert');\n",
              "      buttonEl.style.display =\n",
              "        google.colab.kernel.accessAllowed ? 'block' : 'none';\n",
              "\n",
              "      async function convertToInteractive(key) {\n",
              "        const element = document.querySelector('#df-963590b2-1d21-485e-922b-8b8be858f00a');\n",
              "        const dataTable =\n",
              "          await google.colab.kernel.invokeFunction('convertToInteractive',\n",
              "                                                    [key], {});\n",
              "        if (!dataTable) return;\n",
              "\n",
              "        const docLinkHtml = 'Like what you see? Visit the ' +\n",
              "          '<a target=\"_blank\" href=https://colab.research.google.com/notebooks/data_table.ipynb>data table notebook</a>'\n",
              "          + ' to learn more about interactive tables.';\n",
              "        element.innerHTML = '';\n",
              "        dataTable['output_type'] = 'display_data';\n",
              "        await google.colab.output.renderOutput(dataTable, element);\n",
              "        const docLink = document.createElement('div');\n",
              "        docLink.innerHTML = docLinkHtml;\n",
              "        element.appendChild(docLink);\n",
              "      }\n",
              "    </script>\n",
              "  </div>\n",
              "\n",
              "\n",
              "<div id=\"df-1a14cf82-9262-411e-9090-333df7e08e8b\">\n",
              "  <button class=\"colab-df-quickchart\" onclick=\"quickchart('df-1a14cf82-9262-411e-9090-333df7e08e8b')\"\n",
              "            title=\"Suggest charts\"\n",
              "            style=\"display:none;\">\n",
              "\n",
              "<svg xmlns=\"http://www.w3.org/2000/svg\" height=\"24px\"viewBox=\"0 0 24 24\"\n",
              "     width=\"24px\">\n",
              "    <g>\n",
              "        <path d=\"M19 3H5c-1.1 0-2 .9-2 2v14c0 1.1.9 2 2 2h14c1.1 0 2-.9 2-2V5c0-1.1-.9-2-2-2zM9 17H7v-7h2v7zm4 0h-2V7h2v10zm4 0h-2v-4h2v4z\"/>\n",
              "    </g>\n",
              "</svg>\n",
              "  </button>\n",
              "\n",
              "<style>\n",
              "  .colab-df-quickchart {\n",
              "      --bg-color: #E8F0FE;\n",
              "      --fill-color: #1967D2;\n",
              "      --hover-bg-color: #E2EBFA;\n",
              "      --hover-fill-color: #174EA6;\n",
              "      --disabled-fill-color: #AAA;\n",
              "      --disabled-bg-color: #DDD;\n",
              "  }\n",
              "\n",
              "  [theme=dark] .colab-df-quickchart {\n",
              "      --bg-color: #3B4455;\n",
              "      --fill-color: #D2E3FC;\n",
              "      --hover-bg-color: #434B5C;\n",
              "      --hover-fill-color: #FFFFFF;\n",
              "      --disabled-bg-color: #3B4455;\n",
              "      --disabled-fill-color: #666;\n",
              "  }\n",
              "\n",
              "  .colab-df-quickchart {\n",
              "    background-color: var(--bg-color);\n",
              "    border: none;\n",
              "    border-radius: 50%;\n",
              "    cursor: pointer;\n",
              "    display: none;\n",
              "    fill: var(--fill-color);\n",
              "    height: 32px;\n",
              "    padding: 0;\n",
              "    width: 32px;\n",
              "  }\n",
              "\n",
              "  .colab-df-quickchart:hover {\n",
              "    background-color: var(--hover-bg-color);\n",
              "    box-shadow: 0 1px 2px rgba(60, 64, 67, 0.3), 0 1px 3px 1px rgba(60, 64, 67, 0.15);\n",
              "    fill: var(--button-hover-fill-color);\n",
              "  }\n",
              "\n",
              "  .colab-df-quickchart-complete:disabled,\n",
              "  .colab-df-quickchart-complete:disabled:hover {\n",
              "    background-color: var(--disabled-bg-color);\n",
              "    fill: var(--disabled-fill-color);\n",
              "    box-shadow: none;\n",
              "  }\n",
              "\n",
              "  .colab-df-spinner {\n",
              "    border: 2px solid var(--fill-color);\n",
              "    border-color: transparent;\n",
              "    border-bottom-color: var(--fill-color);\n",
              "    animation:\n",
              "      spin 1s steps(1) infinite;\n",
              "  }\n",
              "\n",
              "  @keyframes spin {\n",
              "    0% {\n",
              "      border-color: transparent;\n",
              "      border-bottom-color: var(--fill-color);\n",
              "      border-left-color: var(--fill-color);\n",
              "    }\n",
              "    20% {\n",
              "      border-color: transparent;\n",
              "      border-left-color: var(--fill-color);\n",
              "      border-top-color: var(--fill-color);\n",
              "    }\n",
              "    30% {\n",
              "      border-color: transparent;\n",
              "      border-left-color: var(--fill-color);\n",
              "      border-top-color: var(--fill-color);\n",
              "      border-right-color: var(--fill-color);\n",
              "    }\n",
              "    40% {\n",
              "      border-color: transparent;\n",
              "      border-right-color: var(--fill-color);\n",
              "      border-top-color: var(--fill-color);\n",
              "    }\n",
              "    60% {\n",
              "      border-color: transparent;\n",
              "      border-right-color: var(--fill-color);\n",
              "    }\n",
              "    80% {\n",
              "      border-color: transparent;\n",
              "      border-right-color: var(--fill-color);\n",
              "      border-bottom-color: var(--fill-color);\n",
              "    }\n",
              "    90% {\n",
              "      border-color: transparent;\n",
              "      border-bottom-color: var(--fill-color);\n",
              "    }\n",
              "  }\n",
              "</style>\n",
              "\n",
              "  <script>\n",
              "    async function quickchart(key) {\n",
              "      const quickchartButtonEl =\n",
              "        document.querySelector('#' + key + ' button');\n",
              "      quickchartButtonEl.disabled = true;  // To prevent multiple clicks.\n",
              "      quickchartButtonEl.classList.add('colab-df-spinner');\n",
              "      try {\n",
              "        const charts = await google.colab.kernel.invokeFunction(\n",
              "            'suggestCharts', [key], {});\n",
              "      } catch (error) {\n",
              "        console.error('Error during call to suggestCharts:', error);\n",
              "      }\n",
              "      quickchartButtonEl.classList.remove('colab-df-spinner');\n",
              "      quickchartButtonEl.classList.add('colab-df-quickchart-complete');\n",
              "    }\n",
              "    (() => {\n",
              "      let quickchartButtonEl =\n",
              "        document.querySelector('#df-1a14cf82-9262-411e-9090-333df7e08e8b button');\n",
              "      quickchartButtonEl.style.display =\n",
              "        google.colab.kernel.accessAllowed ? 'block' : 'none';\n",
              "    })();\n",
              "  </script>\n",
              "</div>\n",
              "    </div>\n",
              "  </div>\n"
            ],
            "application/vnd.google.colaboratory.intrinsic+json": {
              "type": "dataframe",
              "variable_name": "cleaned_data",
              "summary": "{\n  \"name\": \"cleaned_data\",\n  \"rows\": 9442,\n  \"fields\": [\n    {\n      \"column\": \"Ship Mode\",\n      \"properties\": {\n        \"dtype\": \"category\",\n        \"num_unique_values\": 4,\n        \"samples\": [\n          \"Second Class\",\n          \"Same Day\",\n          \"Standard Class\"\n        ],\n        \"semantic_type\": \"\",\n        \"description\": \"\"\n      }\n    },\n    {\n      \"column\": \"Segment\",\n      \"properties\": {\n        \"dtype\": \"category\",\n        \"num_unique_values\": 3,\n        \"samples\": [\n          \"Consumer\",\n          \"Corporate\",\n          \"Home Office\"\n        ],\n        \"semantic_type\": \"\",\n        \"description\": \"\"\n      }\n    },\n    {\n      \"column\": \"City\",\n      \"properties\": {\n        \"dtype\": \"category\",\n        \"num_unique_values\": 531,\n        \"samples\": [\n          \"Laurel\",\n          \"Madison\",\n          \"Hoover\"\n        ],\n        \"semantic_type\": \"\",\n        \"description\": \"\"\n      }\n    },\n    {\n      \"column\": \"State\",\n      \"properties\": {\n        \"dtype\": \"category\",\n        \"num_unique_values\": 49,\n        \"samples\": [\n          \"Delaware\",\n          \"South Dakota\",\n          \"North Dakota\"\n        ],\n        \"semantic_type\": \"\",\n        \"description\": \"\"\n      }\n    },\n    {\n      \"column\": \"Postal Code\",\n      \"properties\": {\n        \"dtype\": \"number\",\n        \"std\": 31961.3409237795,\n        \"min\": 1040.0,\n        \"max\": 99302.0,\n        \"num_unique_values\": 825,\n        \"samples\": [\n          30328.0,\n          59406.0,\n          95196.0\n        ],\n        \"semantic_type\": \"\",\n        \"description\": \"\"\n      }\n    },\n    {\n      \"column\": \"Region\",\n      \"properties\": {\n        \"dtype\": \"category\",\n        \"num_unique_values\": 4,\n        \"samples\": [\n          \"West\",\n          \"East\",\n          \"South\"\n        ],\n        \"semantic_type\": \"\",\n        \"description\": \"\"\n      }\n    },\n    {\n      \"column\": \"Category\",\n      \"properties\": {\n        \"dtype\": \"category\",\n        \"num_unique_values\": 3,\n        \"samples\": [\n          \"Furniture\",\n          \"Office Supplies\",\n          \"Technology\"\n        ],\n        \"semantic_type\": \"\",\n        \"description\": \"\"\n      }\n    },\n    {\n      \"column\": \"Sub-Category\",\n      \"properties\": {\n        \"dtype\": \"category\",\n        \"num_unique_values\": 14,\n        \"samples\": [\n          \"Bookcases\",\n          \"Machines\",\n          \"Furnishings\"\n        ],\n        \"semantic_type\": \"\",\n        \"description\": \"\"\n      }\n    },\n    {\n      \"column\": \"Sales\",\n      \"properties\": {\n        \"dtype\": \"number\",\n        \"std\": 604.8388606202262,\n        \"min\": 0.444,\n        \"max\": 22638.48,\n        \"num_unique_values\": 5261,\n        \"samples\": [\n          4164.05,\n          50.496,\n          459.88\n        ],\n        \"semantic_type\": \"\",\n        \"description\": \"\"\n      }\n    },\n    {\n      \"column\": \"Quantity\",\n      \"properties\": {\n        \"dtype\": \"number\",\n        \"std\": 2.1100520680264494,\n        \"min\": 1.0,\n        \"max\": 14.0,\n        \"num_unique_values\": 17,\n        \"samples\": [\n          2.0,\n          3.0,\n          6.0\n        ],\n        \"semantic_type\": \"\",\n        \"description\": \"\"\n      }\n    },\n    {\n      \"column\": \"Discount\",\n      \"properties\": {\n        \"dtype\": \"number\",\n        \"std\": 0.19965329610350985,\n        \"min\": 0.0,\n        \"max\": 0.8,\n        \"num_unique_values\": 12,\n        \"samples\": [\n          0.45,\n          0.4,\n          0.0\n        ],\n        \"semantic_type\": \"\",\n        \"description\": \"\"\n      }\n    },\n    {\n      \"column\": \"Profit\",\n      \"properties\": {\n        \"dtype\": \"number\",\n        \"std\": 219.1859562280576,\n        \"min\": -6599.978,\n        \"max\": 8399.976,\n        \"num_unique_values\": 6428,\n        \"samples\": [\n          2.3976,\n          6.3744,\n          54.7756\n        ],\n        \"semantic_type\": \"\",\n        \"description\": \"\"\n      }\n    },\n    {\n      \"column\": \"Shipping days\",\n      \"properties\": {\n        \"dtype\": \"number\",\n        \"std\": 1.5718511952411247,\n        \"min\": 0.0,\n        \"max\": 7.0,\n        \"num_unique_values\": 8,\n        \"samples\": [\n          4.0,\n          6.0,\n          3.0\n        ],\n        \"semantic_type\": \"\",\n        \"description\": \"\"\n      }\n    },\n    {\n      \"column\": \"latitude\",\n      \"properties\": {\n        \"dtype\": \"number\",\n        \"std\": 4.89528426834792,\n        \"min\": 25.49,\n        \"max\": 48.79,\n        \"num_unique_values\": 600,\n        \"samples\": [\n          39.94,\n          35.99,\n          33.97\n        ],\n        \"semantic_type\": \"\",\n        \"description\": \"\"\n      }\n    },\n    {\n      \"column\": \"longitude\",\n      \"properties\": {\n        \"dtype\": \"number\",\n        \"std\": 18.0480629574572,\n        \"min\": -123.19,\n        \"max\": -68.78,\n        \"num_unique_values\": 688,\n        \"samples\": [\n          -72.65,\n          -101.87,\n          -76.89\n        ],\n        \"semantic_type\": \"\",\n        \"description\": \"\"\n      }\n    }\n  ]\n}"
            }
          },
          "metadata": {},
          "execution_count": 70
        }
      ]
    }
  ],
  "metadata": {
    "colab": {
      "collapsed_sections": [
        "gZXck2cHu0sB",
        "UtzMbduYwCvb",
        "pjoWvez7uedK",
        "UdTTNVzw1WrY"
      ],
      "provenance": []
    },
    "kernelspec": {
      "display_name": "Python 3",
      "name": "python3"
    },
    "language_info": {
      "name": "python"
    }
  },
  "nbformat": 4,
  "nbformat_minor": 0
}